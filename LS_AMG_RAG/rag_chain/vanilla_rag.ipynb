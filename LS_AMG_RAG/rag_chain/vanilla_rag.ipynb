{
 "cells": [
  {
   "cell_type": "code",
   "execution_count": 43,
   "metadata": {},
   "outputs": [],
   "source": [
    "from IPython.display import display, Markdown\n",
    "import os\n",
    "from LS_AMG_RAG.data_snythesis import prompt_utils\n",
    "import google.generativeai as palm\n",
    "import time\n",
    "\n",
    "import chromadb\n",
    "import chromadb.utils.embedding_functions as embedding_functions\n",
    "# chroma_client = chromadb.Client()\n",
    "chroma_client = chromadb.PersistentClient(path=\"./\")\n",
    "# chroma_client = chromadb.HttpClient(host='localhost', port=8000)\n",
    "gemini = prompt_utils.Gemini()\n",
    "google_ef  = embedding_functions.GoogleGenerativeAiEmbeddingFunction(api_key=os.environ['GEMINI_API_KEY'])"
   ]
  },
  {
   "cell_type": "code",
   "execution_count": 44,
   "metadata": {},
   "outputs": [
    {
     "data": {
      "text/plain": [
       "1711085828386036100"
      ]
     },
     "execution_count": 44,
     "metadata": {},
     "output_type": "execute_result"
    }
   ],
   "source": [
    "chroma_client.heartbeat()"
   ]
  },
  {
   "cell_type": "code",
   "execution_count": 45,
   "metadata": {},
   "outputs": [
    {
     "name": "stdout",
     "output_type": "stream",
     "text": [
      "Total number of documents in the collection: 74\n"
     ]
    }
   ],
   "source": [
    "try:\n",
    "    collection = chroma_client.get_or_create_collection(\n",
    "        name=\"my_collection\",\n",
    "        embedding_function=google_ef,\n",
    "        metadata={\"hnsw:space\": \"cosine\"})\n",
    "except:\n",
    "    collection = chroma_client.create_collection(\n",
    "        name=\"my_collection\",\n",
    "        embedding_function=google_ef,\n",
    "        metadata={\"hnsw:space\": \"cosine\"})\n",
    "    documents = []\n",
    "    metadata = []\n",
    "    ids = []\n",
    "\n",
    "    for root, dirs, files in os.walk(\"../data\"):\n",
    "        for file in files:\n",
    "            if file.endswith(\".md\"):\n",
    "                category = root.split('\\\\')[-1]\n",
    "                with open(os.path.join(root, file), \"r\") as f:\n",
    "                    file_contents = f.read()\n",
    "                    documents.append(file_contents)\n",
    "                    metadata.append({\n",
    "                        \"type\": category,\n",
    "                    })\n",
    "                    ids.append(f\"{category}_{file}\")\n",
    "\n",
    "    collection.add(\n",
    "        documents=documents,\n",
    "        metadatas=metadata,\n",
    "        ids=ids,\n",
    "    )\n",
    "\n",
    "else:\n",
    "    print(f\"Total number of documents in the collection: {len(collection.get()['ids'])}\")"
   ]
  },
  {
   "cell_type": "code",
   "execution_count": 46,
   "metadata": {},
   "outputs": [],
   "source": [
    "# documents = []\n",
    "# metadata = []\n",
    "# ids = []\n",
    "\n",
    "# for root, dirs, files in os.walk(\"../data\"):\n",
    "#     for file in files:\n",
    "#         if file.endswith(\".md\"):\n",
    "#             category = root.split('\\\\')[-1]\n",
    "#             with open(os.path.join(root, file), \"r\") as f:\n",
    "#                 file_contents = f.read()\n",
    "#                 documents.append(file_contents)\n",
    "#                 metadata.append({\n",
    "#                     \"type\": category,\n",
    "#                 })\n",
    "#                 ids.append(f\"{category}_{file}\")\n",
    "\n",
    "# collection.add(\n",
    "#     documents=documents,\n",
    "#     metadatas=metadata,\n",
    "#     ids=ids,\n",
    "# )"
   ]
  },
  {
   "cell_type": "code",
   "execution_count": 47,
   "metadata": {},
   "outputs": [],
   "source": [
    "top_k = {\n",
    "    1: [],\n",
    "    3: [],\n",
    "    5: [],\n",
    "    10: [],\n",
    "}\n",
    "\n",
    "queries = [\n",
    "    {'query': \"What is Instagram's current business proposal?\",\n",
    "     'file': \"Business Proposal.md\"},\n",
    "    {'query': \"What is the marketing plan for Instagram?\",\n",
    "     'file': \"Marketing Plan.md\"},\n",
    "    {'query': \"What information does the progress report of Instagram contain?\",\n",
    "     'file': \"Progress Report.md\"},\n",
    "    {'query': \"Who are the members of Instagram's board of directors?\",\n",
    "     'file': \"Board of Directors.md\"},\n",
    "    {'query': \"What are the diversity and inclusion initiatives implemented by Instagram?\",\n",
    "     'file': 'Diversity, Equity, and Inclusion.md'},\n",
    "    {'query': \"What is the Marketing Objective for Influencer Collaboration Services?\",\n",
    "     'file': 'Marketing Plan.md'},\n",
    "    {'query': \"Who is the target audience of Content Creation and Curation Services?\",\n",
    "     'file': 'Marketing Plan.md'},\n",
    "    {'query': \"What is the financial update for the Reels Optimization Project?\",\n",
    "     'file': 'Progress Report.md'},\n",
    "    {'query': \"Give me details about the progress report of the Stories Upgrade project.\",\n",
    "     'file': 'Progress Report.md'},\n",
    "    {'query': \"Compare the progress report of the Feed Redesign and Stories Upgrade project and draw a conclusion on the information.\",\n",
    "     'file': 'Progress Report.md'}\n",
    "]\n",
    "\n",
    "step_times = {\n",
    "    'retrieval': [],\n",
    "    'gen': [],\n",
    "    'total': [],\n",
    "}"
   ]
  },
  {
   "cell_type": "code",
   "execution_count": 48,
   "metadata": {},
   "outputs": [
    {
     "name": "stdout",
     "output_type": "stream",
     "text": [
      "Query 1: What is Instagram's current business proposal?\n"
     ]
    },
    {
     "name": "stdout",
     "output_type": "stream",
     "text": [
      "True document: Business Proposal.md\n",
      "Document retrieved: business_docs_Business Proposal.md\n",
      "Retrieval time: 1.69 seconds\n"
     ]
    },
    {
     "data": {
      "text/markdown": [
       "Instagram proposes a suite of marketing services to businesses, encompassing social media management, influencer collaborations, and content creation. Their social media marketing services involve strategic content creation, targeted ad campaigns, audience analysis, and performance tracking. Instagram also offers influencer collaboration services, leveraging their platform's influencer community to connect brands with relevant influencers for impactful partnerships. Additionally, they provide content creation and curation services, assisting businesses in developing visually appealing and engaging content for their social media presence."
      ],
      "text/plain": [
       "<IPython.core.display.Markdown object>"
      ]
     },
     "metadata": {},
     "output_type": "display_data"
    },
    {
     "name": "stdout",
     "output_type": "stream",
     "text": [
      "Gemini time: 3.14 seconds\n",
      "Total time: 4.83 seconds\n",
      "\n",
      "-------------------\n",
      "\n",
      "Query 2: What is the marketing plan for Instagram?\n",
      "True document: Marketing Plan.md\n",
      "Document retrieved: business_docs_Marketing Plan.md\n",
      "Retrieval time: 0.41 seconds\n"
     ]
    },
    {
     "data": {
      "text/markdown": [
       "Instagram's current business proposal revolves around three core offerings: social media marketing services, influencer collaboration services, and content creation and curation services. The social media marketing services encompass strategic content creation, targeted ad campaigns, audience analysis, and performance tracking to help businesses enhance their online presence and customer engagement. Instagram also offers influencer collaboration services, leveraging their platform's community of influencers to connect brands with relevant influencers for impactful partnerships. These collaborations aim to drive brand awareness, user engagement, and brand advocacy through authentic influencer endorsements. Additionally, Instagram's content creation and curation services assist businesses in developing visually appealing and engaging content for their social media presence, elevating brand storytelling and audience interaction."
      ],
      "text/plain": [
       "<IPython.core.display.Markdown object>"
      ]
     },
     "metadata": {},
     "output_type": "display_data"
    },
    {
     "name": "stdout",
     "output_type": "stream",
     "text": [
      "Gemini time: 4.31 seconds\n",
      "Total time: 4.72 seconds\n",
      "\n",
      "-------------------\n",
      "\n",
      "Query 3: What information does the progress report of Instagram contain?\n",
      "True document: Progress Report.md\n",
      "Document retrieved: business_docs_Progress Report.md\n",
      "Retrieval time: 0.42 seconds\n"
     ]
    },
    {
     "data": {
      "text/markdown": [
       "I apologize, but the provided document does not contain Instagram's current business proposal. The document primarily focuses on a progress report of various projects within Instagram, including Feed Redesign, Stories Upgrade, Direct Messaging Update, Explore Algorithm Enhancement, IGTV Expansion, and Reels Optimization. It does not provide insights into Instagram's overall business strategy or its current business proposals."
      ],
      "text/plain": [
       "<IPython.core.display.Markdown object>"
      ]
     },
     "metadata": {},
     "output_type": "display_data"
    },
    {
     "name": "stdout",
     "output_type": "stream",
     "text": [
      "Gemini time: 4.56 seconds\n",
      "Total time: 4.99 seconds\n",
      "\n",
      "-------------------\n",
      "\n",
      "Query 4: Who are the members of Instagram's board of directors?\n",
      "True document: Board of Directors.md\n",
      "Document retrieved: company_bylaws_Board of Directors.md\n",
      "Retrieval time: 0.44 seconds\n"
     ]
    },
    {
     "data": {
      "text/markdown": [
       "Based on the provided document, I'm unable to find specific information regarding Instagram's current business proposal. The document primarily focuses on the composition, contributions, and contact information of Instagram's Board of Directors. It does not provide insights into the company's business strategies or proposals."
      ],
      "text/plain": [
       "<IPython.core.display.Markdown object>"
      ]
     },
     "metadata": {},
     "output_type": "display_data"
    },
    {
     "name": "stdout",
     "output_type": "stream",
     "text": [
      "Gemini time: 3.41 seconds\n",
      "Total time: 3.85 seconds\n",
      "\n",
      "-------------------\n",
      "\n",
      "Query 5: What are the diversity and inclusion initiatives implemented by Instagram?\n",
      "True document: Diversity, Equity, and Inclusion.md\n",
      "Document retrieved: company_bylaws_Diversity, Equity, and Inclusion.md\n",
      "Retrieval time: 0.42 seconds\n"
     ]
    },
    {
     "data": {
      "text/markdown": [
       "I apologize, but the provided document does not contain information about Instagram's current business proposal. The document focuses on Instagram's commitment to diversity, equity, and inclusion (DEI) within their organization and does not provide insights into their business strategies or proposals."
      ],
      "text/plain": [
       "<IPython.core.display.Markdown object>"
      ]
     },
     "metadata": {},
     "output_type": "display_data"
    },
    {
     "name": "stdout",
     "output_type": "stream",
     "text": [
      "Gemini time: 4.57 seconds\n",
      "Total time: 4.98 seconds\n",
      "\n",
      "-------------------\n",
      "\n",
      "Query 6: What is the Marketing Objective for Influencer Collaboration Services?\n",
      "True document: Marketing Plan.md\n",
      "Document retrieved: business_docs_Marketing Plan.md\n",
      "Retrieval time: 0.41 seconds\n"
     ]
    },
    {
     "data": {
      "text/markdown": [
       "Based on the provided document, Instagram's current business proposal is centered around three primary service offerings:\n",
       "\n",
       "1. **Social Media Marketing Services:** This service caters to businesses, especially small businesses, startups, and e-commerce ventures, assisting them in enhancing their online presence and engaging with a younger demographic on social media platforms. Instagram offers personalized social media marketing strategies, influencer collaborations, interactive content, data-driven insights, and performance tracking to optimize campaigns and drive customer engagement and conversions.\n",
       "\n",
       "2. **Influencer Collaboration Services:** Instagram recognizes the power of influencer marketing and offers influencer collaboration services to fashion brands, lifestyle products, and beauty companies. They help brands identify relevant influencers, establish authentic partnerships, and co-create compelling content that resonates with target audiences. Performance monitoring and analysis ensure that influencer campaigns align with brand objectives and drive engagement, brand affinity, and increased reach.\n",
       "\n",
       "3. **Content Creation and Curation Services:** For media companies, creative agencies, and lifestyle brands seeking to elevate their content quality and engagement, Instagram provides content creation and curation services. They focus on understanding audience preferences and content consumption habits on social media, developing tailored content plans, and producing visually captivating content that aligns with brand guidelines. Interactive storytelling elements and user-generated content campaigns enhance audience interaction and create immersive brand experiences."
      ],
      "text/plain": [
       "<IPython.core.display.Markdown object>"
      ]
     },
     "metadata": {},
     "output_type": "display_data"
    },
    {
     "name": "stdout",
     "output_type": "stream",
     "text": [
      "Gemini time: 7.02 seconds\n",
      "Total time: 7.44 seconds\n",
      "\n",
      "-------------------\n",
      "\n",
      "Query 7: Who is the target audience of Content Creation and Curation Services?\n",
      "True document: Marketing Plan.md\n",
      "Document retrieved: business_docs_Marketing Plan.md\n",
      "Retrieval time: 0.43 seconds\n"
     ]
    },
    {
     "data": {
      "text/markdown": [
       "**Instagram's Current Business Proposal**\n",
       "\n",
       "Instagram, renowned for its visual storytelling prowess, presents a multifaceted business proposal that encompasses three core offerings:\n",
       "\n",
       "**1. Social Media Marketing Services:**\n",
       "\n",
       "- **Target Audience:** Small businesses, startups, and e-commerce ventures seeking to amplify their online presence and connect with a younger audience on social media.\n",
       "- **Services:** Personalized marketing strategies, influencer collaborations, data-driven insights, and performance tracking to optimize campaigns and drive customer engagement and conversions.\n",
       "\n",
       "**2. Influencer Collaboration Services:**\n",
       "\n",
       "- **Target Audience:** Fashion brands, lifestyle products, and beauty companies aiming to harness the power of influencer marketing.\n",
       "- **Services:** Identification of relevant influencers, establishment of authentic partnerships, co-creation of compelling content, performance monitoring, and leveraging of influencer content across multiple platforms to maximize reach and drive brand affinity.\n",
       "\n",
       "**3. Content Creation and Curation Services:**\n",
       "\n",
       "- **Target Audience:** Media companies, creative agencies, and lifestyle brands seeking to elevate their content quality and engagement.\n",
       "- **Services:** Tailored content planning, visually captivating content production, implementation of user-generated content campaigns, and interactive storytelling elements to enhance audience interaction and create immersive brand experiences.\n",
       "\n",
       "Through these services, Instagram empowers businesses to harness the platform's vast reach, influential community, and immersive content formats to achieve their marketing objectives and connect with their target audiences in a meaningful and engaging way."
      ],
      "text/plain": [
       "<IPython.core.display.Markdown object>"
      ]
     },
     "metadata": {},
     "output_type": "display_data"
    },
    {
     "name": "stdout",
     "output_type": "stream",
     "text": [
      "Gemini time: 7.33 seconds\n",
      "Total time: 7.76 seconds\n",
      "\n",
      "-------------------\n",
      "\n",
      "Query 8: What is the financial update for the Reels Optimization Project?\n",
      "True document: Progress Report.md\n",
      "Document retrieved: business_docs_Progress Report.md\n",
      "Retrieval time: 0.42 seconds\n"
     ]
    },
    {
     "data": {
      "text/markdown": [
       "Based on the provided document, I'm unable to find specific information regarding Instagram's current business proposal. This document focuses on a progress report of various projects within Instagram, including Feed Redesign, Stories Upgrade, Direct Messaging Update, Explore Algorithm Enhancement, IGTV Expansion, and Reels Optimization. It does not provide insights into the company's business strategies or proposals."
      ],
      "text/plain": [
       "<IPython.core.display.Markdown object>"
      ]
     },
     "metadata": {},
     "output_type": "display_data"
    },
    {
     "name": "stdout",
     "output_type": "stream",
     "text": [
      "Gemini time: 4.51 seconds\n",
      "Total time: 4.92 seconds\n",
      "\n",
      "-------------------\n",
      "\n",
      "Query 9: Give me details about the progress report of the Stories Upgrade project.\n",
      "True document: Progress Report.md\n",
      "Document retrieved: business_docs_Progress Report.md\n",
      "Retrieval time: 0.42 seconds\n"
     ]
    },
    {
     "data": {
      "text/markdown": [
       "The provided document does not contain information about Instagram's current business proposal. It primarily focuses on a progress report of various projects within Instagram, such as Feed Redesign, Stories Upgrade, Direct Messaging Update, Explore Algorithm Enhancement, IGTV Expansion, and Reels Optimization. Without access to up-to-date information or insights into Instagram's business strategy, I cannot provide a response regarding their current business proposal."
      ],
      "text/plain": [
       "<IPython.core.display.Markdown object>"
      ]
     },
     "metadata": {},
     "output_type": "display_data"
    },
    {
     "name": "stdout",
     "output_type": "stream",
     "text": [
      "Gemini time: 4.43 seconds\n",
      "Total time: 4.85 seconds\n",
      "\n",
      "-------------------\n",
      "\n",
      "Query 10: Compare the progress report of the Feed Redesign and Stories Upgrade project and draw a conclusion on the information.\n",
      "True document: Progress Report.md\n",
      "Document retrieved: business_docs_Progress Report.md\n",
      "Retrieval time: 0.42 seconds\n"
     ]
    },
    {
     "data": {
      "text/markdown": [
       "I'm sorry, but the document you provided does not contain information about Instagram's current business proposal. The document focuses on a progress report of various projects within Instagram and does not provide insights into the company's business strategy or proposals."
      ],
      "text/plain": [
       "<IPython.core.display.Markdown object>"
      ]
     },
     "metadata": {},
     "output_type": "display_data"
    },
    {
     "name": "stdout",
     "output_type": "stream",
     "text": [
      "Gemini time: 5.13 seconds\n",
      "Total time: 5.55 seconds\n",
      "\n",
      "-------------------\n",
      "\n",
      "Results:\n",
      "Top@K:\n",
      "Top@1: 100.00%\n",
      "Top@3: 100.00%\n",
      "Top@5: 100.00%\n",
      "Top@10: 100.00%\n",
      "\n",
      "\n",
      "Average Times:\n",
      "Retrieval time: 0.55 seconds\n",
      "Generation time: 4.84 seconds\n",
      "Total time: 5.39 seconds\n"
     ]
    }
   ],
   "source": [
    "\n",
    "for idx, query in enumerate(queries):\n",
    "    print(f\"Query {idx+1}: {query['query']}\")\n",
    "    total_start_time = time.time()\n",
    "    retrieval_start_time = time.time()\n",
    "    results = collection.query(\n",
    "        query_texts=query['query'],\n",
    "        n_results=10,\n",
    "    )\n",
    "\n",
    "    for k in top_k.keys():\n",
    "        top_k[k].append(any(query['file'] in x for x in results['ids'][0][:k]))\n",
    "\n",
    "    retrieval_end_time = time.time()\n",
    "    print(f\"True document: {query['file']}\")\n",
    "    print(f\"Document retrieved: {results['ids'][0][0]}\")\n",
    "    print(f\"Retrieval time: {retrieval_end_time - retrieval_start_time:.2f} seconds\")\n",
    "\n",
    "\n",
    "    metaprompt = \"\"\"You are a helpful and informative bot that answers questions using text from the reference document included below. \\\n",
    "Be sure to respond in a complete sentence, being comprehensive, including all relevant background information. \\\n",
    "However, you are talking to a non-technical audience, so be sure to break down complicated concepts and \\\n",
    "strike a friendly and converstional tone. \\\n",
    "Use your own knowledge base in addition to the information provided in the document to answer the question. \\\n",
    "Make relevant assumptions and use your best judgement to answer the question. \\\n",
    "  QUESTION: '{query}'\n",
    "  PASSAGE: '{relevant_passage}'\n",
    "\n",
    "  ANSWER:\n",
    "\"\"\"\n",
    "\n",
    "    gen_start_time = time.time()\n",
    "    gemini_result = gemini.send_message(message=metaprompt.format(query=queries[0], relevant_passage=results['documents'][0][0])).text\n",
    "    gen_end_time = time.time()\n",
    "    total_end_time = time.time()\n",
    "\n",
    "    step_times['retrieval'].append(retrieval_end_time - retrieval_start_time)\n",
    "    step_times['gen'].append(gen_end_time - gen_start_time)\n",
    "    step_times['total'].append(total_end_time - total_start_time)\n",
    "    \n",
    "    display(Markdown(gemini_result))\n",
    "    print(f\"Gemini time: {gen_end_time - gen_start_time:.2f} seconds\")\n",
    "    print(f\"Total time: {total_end_time - total_start_time:.2f} seconds\")\n",
    "    print(\"\\n-------------------\\n\")\n",
    "\n",
    "print(\"Results:\")\n",
    "print(\"Top@K:\")\n",
    "for k in top_k.keys():\n",
    "    print(f\"Top@{k}: {(sum(top_k[k]) * 100) / len(top_k[k]):.2f}%\")\n",
    "\n",
    "print(\"\\n\")\n",
    "\n",
    "print(\"Average Times:\")\n",
    "print(f\"Retrieval time: {sum(step_times['retrieval']) / len(step_times['retrieval']):.2f} seconds\")\n",
    "print(f\"Generation time: {sum(step_times['gen']) / len(step_times['gen']):.2f} seconds\")\n",
    "print(f\"Total time: {sum(step_times['total']) / len(step_times['total']):.2f} seconds\")"
   ]
  }
 ],
 "metadata": {
  "kernelspec": {
   "display_name": "rag_env",
   "language": "python",
   "name": "python3"
  },
  "language_info": {
   "codemirror_mode": {
    "name": "ipython",
    "version": 3
   },
   "file_extension": ".py",
   "mimetype": "text/x-python",
   "name": "python",
   "nbconvert_exporter": "python",
   "pygments_lexer": "ipython3",
   "version": "3.10.5"
  }
 },
 "nbformat": 4,
 "nbformat_minor": 2
}
