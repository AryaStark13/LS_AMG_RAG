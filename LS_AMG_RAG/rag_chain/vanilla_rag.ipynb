{
 "cells": [
  {
   "cell_type": "code",
   "execution_count": 1,
   "metadata": {},
   "outputs": [],
   "source": [
    "from IPython.display import display, Markdown\n",
    "import os\n",
    "from LS_AMG_RAG.data_snythesis import prompt_utils\n",
    "import google.generativeai as palm\n",
    "\n",
    "import chromadb\n",
    "import chromadb.utils.embedding_functions as embedding_functions\n",
    "# chroma_client = chromadb.Client()\n",
    "chroma_client = chromadb.PersistentClient(path=\"./\")\n",
    "gemini = prompt_utils.Gemini()\n",
    "google_ef  = embedding_functions.GoogleGenerativeAiEmbeddingFunction(api_key=os.environ['GEMINI_API_KEY'])"
   ]
  },
  {
   "cell_type": "code",
   "execution_count": 2,
   "metadata": {},
   "outputs": [],
   "source": [
    "documents = []\n",
    "metadata = []\n",
    "ids = []\n",
    "# for idx, file_name in enumerate(os.listdir(\"../data/business_docs\")):\n",
    "#     with open(f\"../data/business_docs/{file_name}\", \"r\") as f:\n",
    "#         file_contents = f.read()\n",
    "#         documents.append(file_contents)\n",
    "#         metadata.append({\n",
    "#             \"type\": \"business document\",\n",
    "#         })\n",
    "#         ids.append(f\"business_doc_{idx}\")\n",
    "\n",
    "# add all files within the 'data/' directory to chromadb using os.walk\n",
    "for root, dirs, files in os.walk(\"../data\"):\n",
    "    for file in files:\n",
    "        if file.endswith(\".md\"):\n",
    "            category = root.split('\\\\')[-1]\n",
    "            with open(os.path.join(root, file), \"r\") as f:\n",
    "                file_contents = f.read()\n",
    "                documents.append(file_contents)\n",
    "                metadata.append({\n",
    "                    \"type\": category,\n",
    "                })\n",
    "                ids.append(f\"{category}_{file}\")"
   ]
  },
  {
   "cell_type": "code",
   "execution_count": 2,
   "metadata": {},
   "outputs": [
    {
     "ename": "NameError",
     "evalue": "name 'documents' is not defined",
     "output_type": "error",
     "traceback": [
      "\u001b[1;31m---------------------------------------------------------------------------\u001b[0m",
      "\u001b[1;31mNameError\u001b[0m                                 Traceback (most recent call last)",
      "Cell \u001b[1;32mIn[2], line 1\u001b[0m\n\u001b[1;32m----> 1\u001b[0m \u001b[38;5;28mlen\u001b[39m(\u001b[43mdocuments\u001b[49m)\n",
      "\u001b[1;31mNameError\u001b[0m: name 'documents' is not defined"
     ]
    }
   ],
   "source": [
    "len(documents)"
   ]
  },
  {
   "cell_type": "code",
   "execution_count": 4,
   "metadata": {},
   "outputs": [
    {
     "name": "stdout",
     "output_type": "stream",
     "text": [
      "models/chat-bison-001\n",
      "models/text-bison-001\n",
      "models/embedding-gecko-001\n",
      "models/gemini-1.0-pro\n",
      "models/gemini-1.0-pro-001\n",
      "models/gemini-1.0-pro-latest\n",
      "models/gemini-1.0-pro-vision-latest\n",
      "models/gemini-pro\n",
      "models/gemini-pro-vision\n",
      "models/embedding-001\n",
      "models/aqa\n"
     ]
    }
   ],
   "source": [
    "for m in palm.list_models():\n",
    "    print(m.name)"
   ]
  },
  {
   "cell_type": "code",
   "execution_count": 5,
   "metadata": {},
   "outputs": [],
   "source": [
    "collection = chroma_client.create_collection(name=\"my_collection\", embedding_function=google_ef)"
   ]
  },
  {
   "cell_type": "code",
   "execution_count": 6,
   "metadata": {},
   "outputs": [],
   "source": [
    "collection.add(\n",
    "    documents=documents,\n",
    "    metadatas=metadata,\n",
    "    ids=ids,\n",
    ")"
   ]
  },
  {
   "cell_type": "code",
   "execution_count": 7,
   "metadata": {},
   "outputs": [
    {
     "data": {
      "text/plain": [
       "74"
      ]
     },
     "execution_count": 7,
     "metadata": {},
     "output_type": "execute_result"
    }
   ],
   "source": [
    "len(collection.get()['ids'])"
   ]
  },
  {
   "cell_type": "code",
   "execution_count": 8,
   "metadata": {},
   "outputs": [
    {
     "name": "stdout",
     "output_type": "stream",
     "text": [
      "Document retrieved: company_bylaws_About Instagram.md\n",
      "Retrieval time: 0.46810412406921387 seconds\n"
     ]
    },
    {
     "data": {
      "text/markdown": [
       "Instagram's business proposal is based on connecting users with brands, businesses, and one another. The platform focuses on providing a user-friendly experience and continuously iterating its features to meet the needs of its community. Instagram also prioritizes user feedback, implements strict content policies, and takes a proactive approach to moderation to ensure a safe and inclusive environment."
      ],
      "text/plain": [
       "<IPython.core.display.Markdown object>"
      ]
     },
     "metadata": {},
     "output_type": "display_data"
    },
    {
     "name": "stdout",
     "output_type": "stream",
     "text": [
      "Gemini time: 2.662595272064209 seconds\n",
      "Total time: 3.130699396133423 seconds\n"
     ]
    }
   ],
   "source": [
    "queries = [\n",
    "    \"What is Instagram's current business proposal?\",\n",
    "]\n",
    "import time\n",
    "total_start_time = time.time()\n",
    "start_time = time.time()\n",
    "results = collection.query(\n",
    "    query_texts=queries,\n",
    "    n_results=3\n",
    ")\n",
    "end_time = time.time()\n",
    "\n",
    "print(f\"Document retrieved: {results['ids'][0][-1]}\")\n",
    "\n",
    "print(f\"Retrieval time: {end_time - start_time} seconds\")\n",
    "\n",
    "metaprompt = \"\"\"You are a helpful and informative bot that answers questions using text from the reference document included below. \\\n",
    "Be sure to respond in a complete sentence, being comprehensive, including all relevant background information. \\\n",
    "However, you are talking to a non-technical audience, so be sure to break down complicated concepts and \\\n",
    "strike a friendly and converstional tone. \\\n",
    "Use your own knowledge base in addition to the information provided in the document to answer the question. \\\n",
    "Make relevant assumptions and use your best judgement to answer the question. \\\n",
    "  QUESTION: '{query}'\n",
    "  PASSAGE: '{relevant_passage}'\n",
    "\n",
    "  ANSWER:\n",
    "\"\"\"\n",
    "\n",
    "start_time = time.time()\n",
    "gemini_result = gemini.send_message(message=metaprompt.format(query=queries[0], relevant_passage=results['documents'][0][-1])).text\n",
    "end_time = time.time()\n",
    "total_end_time = time.time()\n",
    "display(Markdown(gemini_result))\n",
    "print(f\"Gemini time: {end_time - start_time} seconds\")\n",
    "print(f\"Total time: {total_end_time - total_start_time} seconds\")"
   ]
  },
  {
   "cell_type": "code",
   "execution_count": 9,
   "metadata": {},
   "outputs": [
    {
     "data": {
      "text/markdown": [
       "Instagram's current business proposal is to connect users with brands, businesses, and each other. The platform focuses on providing a user-friendly experience and continuously iterating its features to meet the needs of its community. Instagram also prioritizes user feedback, implements strict content policies, and takes a proactive approach to moderation to ensure a safe and inclusive environment."
      ],
      "text/plain": [
       "<IPython.core.display.Markdown object>"
      ]
     },
     "metadata": {},
     "output_type": "display_data"
    },
    {
     "name": "stdout",
     "output_type": "stream",
     "text": [
      "Query time: 2.6425905227661133 seconds\n"
     ]
    }
   ],
   "source": [
    "metaprompt = \"\"\"You are a helpful and informative bot that answers questions using text from the reference passage included below. \\\n",
    "  Be sure to respond in a complete sentence, being comprehensive, including all relevant background information. \\\n",
    "  However, you are talking to a non-technical audience, so be sure to break down complicated concepts and \\\n",
    "  strike a friendly and converstional tone. \\\n",
    "  If the passage is irrelevant to the answer, you may ignore it.\n",
    "  QUESTION: '{query}'\n",
    "  PASSAGE: '{relevant_passage}'\n",
    "\n",
    "  ANSWER:\n",
    "\"\"\"\n",
    "\n",
    "start_time = time.time()\n",
    "gemini_result = gemini.send_message(message=metaprompt.format(query=queries[0], relevant_passage=results['documents'][0][-1])).text\n",
    "end_time = time.time()\n",
    "display(Markdown(gemini_result))\n",
    "print(f\"Query time: {end_time - start_time} seconds\")"
   ]
  },
  {
   "cell_type": "code",
   "execution_count": 3,
   "metadata": {},
   "outputs": [],
   "source": [
    "questions = [\n",
    "\"What is Instagram's current business proposal?\",\n",
    "\"Can you provide details about the marketing plan for Instagram?\",\n",
    "\"What information does the progress report of Instagram contain?\",\n",
    "\"Who are the members of Instagram's board of directors?\",\n",
    "\"Could you provide specific details from Instagram's employee contracts?\",\n",
    "\"Can you share the latest balance sheet figures for Instagram?\",\n",
    "\"What are the diversity and inclusion initiatives implemented by Instagram?\",\n",
    "\"How do the terms of the employment contract boost employee retention?\",\n",
    "\"What is the Marketing Objective for Influencer Collaboration Services?\",\n",
    "\"Who is the target audience of Content Creation and Curation Services?\",\n",
    "\"What is the financial update for the Reels Optimization Project?\",\n",
    "\"Give me details about the progress report of the Stories Upgrade project.\",\n",
    "\"Compare the progress report of the Feed Redesign and Stories Upgrade project and draw a conclusion on the information.\",\n",
    "\"Who are the key personnel of Instagram?\",\n",
    "\"List all the achievements of Instagram.\",\n",
    "\"How does Instagram promote community involvement?\",\n",
    "\"What is the background of the CEO (Chief Executive Officer) of Instagram?\",\n",
    "\"Who is the chairman of Instagram and which year did the person become the chairman of the board?\",\n",
    "\"How has the Board of Directors contributed to Instagram's success?\",\n",
    "\"Does Instagram have any initiatives for Employee Resource Groups? If yes explain the initiative.\",\n",
    "\"How does Instagram promote diversity?\",\n",
    "\"Describe the ownership structure of Instagram.\",\n",
    "\"What is the total amount of assets that Instagram has?\",\n",
    "\"How much cash is present in balance with Instagram?\",\n",
    "\"How much amount of long-term loan does Instagram have on the balance sheet?\",\n",
    "\"What is the net income of Instagram?\",\n",
    "\"What is the gross profit of Instagram?\",\n",
    "\"What is the income before taxes Instagram and net income? Also let me know how much income tax is paid by Instagram.\",\n",
    "\"What is the investment income of Instagram?\",\n",
    "\"How much of Instagram income goes to Charitable Contributions?\",\n",
    "\"What is the Position of Ava Thomas and in which department does she work?\",\n",
    "\"Total number of work hours of Leo Kim?\",\n",
    "\"What are the employee benefits provided to Ethan Rodriguez?\",\n",
    "\"Who is the Quality Assurance Specialist at Instagram?\",\n",
    "\"Name the employee working in the Security Department and what is his/her compensation?\",\n",
    "\"What is the responsibility of the content moderator?\",\n",
    "\"Which employee is getting paid $125,000 per year as compensation and which department does he work in?\",\n",
    "\"Which employee did enter into the ESOP with Instagram on April 1, 2022?\",\n",
    "\"How many number of shares were allocated to Liam Kim?\",\n",
    "\"What is the Basic salary of Jane Smith?\",\n",
    "\"How much bonus does the Public Relations Manager receive?\",\n",
    "\"What is the net pay to the employee working in the Customer Support department?\"\n",
    "]"
   ]
  },
  {
   "cell_type": "code",
   "execution_count": 4,
   "metadata": {},
   "outputs": [
    {
     "data": {
      "text/plain": [
       "[\"What is Instagram's current business proposal?\",\n",
       " 'Can you provide details about the marketing plan for Instagram?',\n",
       " 'What information does the progress report of Instagram contain?',\n",
       " \"Who are the members of Instagram's board of directors?\",\n",
       " \"Could you provide specific details from Instagram's employee contracts?\",\n",
       " 'Can you share the latest balance sheet figures for Instagram?',\n",
       " 'What are the diversity and inclusion initiatives implemented by Instagram?',\n",
       " 'How do the terms of the employment contract boost employee retention?',\n",
       " 'What is the Marketing Objective for Influencer Collaboration Services?',\n",
       " 'Who is the target audience of Content Creation and Curation Services?',\n",
       " 'What is the financial update for the Reels Optimization Project?',\n",
       " 'Give me details about the progress report of the Stories Upgrade project.',\n",
       " 'Compare the progress report of the Feed Redesign and Stories Upgrade project and draw a conclusion on the information.',\n",
       " 'Who are the key personnel of Instagram?',\n",
       " 'List all the achievements of Instagram.',\n",
       " 'How does Instagram promote community involvement?',\n",
       " 'What is the background of the CEO (Chief Executive Officer) of Instagram?',\n",
       " 'Who is the chairman of Instagram and which year did the person become the chairman of the board?',\n",
       " \"How has the Board of Directors contributed to Instagram's success?\",\n",
       " 'Does Instagram have any initiatives for Employee Resource Groups? If yes explain the initiative.',\n",
       " 'How does Instagram promote diversity?',\n",
       " 'Describe the ownership structure of Instagram.',\n",
       " 'What is the total amount of assets that Instagram has?',\n",
       " 'How much cash is present in balance with Instagram?',\n",
       " 'How much amount of long-term loan does Instagram have on the balance sheet?',\n",
       " 'What is the net income of Instagram?',\n",
       " 'What is the gross profit of Instagram?',\n",
       " 'What is the income before taxes Instagram and net income? Also let me know how much income tax is paid by Instagram.',\n",
       " 'What is the investment income of Instagram?',\n",
       " 'How much of Instagram income goes to Charitable Contributions?',\n",
       " 'What is the Position of Ava Thomas and in which department does she work?',\n",
       " 'Total number of work hours of Leo Kim?',\n",
       " 'What are the employee benefits provided to Ethan Rodriguez?',\n",
       " 'Who is the Quality Assurance Specialist at Instagram?',\n",
       " 'Name the employee working in the Security Department and what is his/her compensation?',\n",
       " 'What is the responsibility of the content moderator?',\n",
       " 'Which employee is getting paid $125,000 per year as compensation and which department does he work in?',\n",
       " 'Which employee did enter into the ESOP with Instagram on April 1, 2022?',\n",
       " 'How many number of shares were allocated to Liam Kim?',\n",
       " 'What is the Basic salary of Jane Smith?',\n",
       " 'How much bonus does the Public Relations Manager receive?',\n",
       " 'What is the net pay to the employee working in the Customer Support department?']"
      ]
     },
     "execution_count": 4,
     "metadata": {},
     "output_type": "execute_result"
    }
   ],
   "source": [
    "questions"
   ]
  },
  {
   "cell_type": "code",
   "execution_count": 2,
   "metadata": {},
   "outputs": [],
   "source": [
    "collection = chroma_client.get_or_create_collection(name=\"my_collection\", embedding_function=google_ef)"
   ]
  },
  {
   "cell_type": "code",
   "execution_count": 3,
   "metadata": {},
   "outputs": [],
   "source": [
    "import time\n",
    "def generate_responses(quer,collection):\n",
    "    total_start_time = time.time()\n",
    "    start_time = time.time()\n",
    "    results = collection.query(\n",
    "        query_texts=quer,\n",
    "        n_results=3\n",
    "    )\n",
    "    end_time = time.time()\n",
    "\n",
    "    print(f\"Document retrieved: {results['ids'][0][0]}\")\n",
    "\n",
    "    print(f\"Retrieval time: {end_time - start_time} seconds\")\n",
    "\n",
    "    metaprompt = \"\"\"You are a helpful and informative bot that answers questions using text from the reference document included below. \\\n",
    "    Be sure to respond in a complete sentence, being comprehensive, including all relevant background information. \\\n",
    "    However, you are talking to a non-technical audience, so be sure to break down complicated concepts and \\\n",
    "    strike a friendly and converstional tone. \\\n",
    "    Use your own knowledge base in addition to the information provided in the document to answer the question. \\\n",
    "    Make relevant assumptions and use your best judgement to answer the question. \\\n",
    "    QUESTION: '{query}'\n",
    "    PASSAGE: '{relevant_passage}'\n",
    "\n",
    "    ANSWER:\n",
    "    \"\"\"\n",
    "    start_time = time.time()\n",
    "    gemini_result = gemini.send_message(message=metaprompt.format(query=quer, relevant_passage=results['documents'][0][0])).text\n",
    "    end_time = time.time()\n",
    "    total_end_time = time.time()\n",
    "    display(Markdown(gemini_result))\n",
    "    print(f\"Gemini time: {end_time - start_time} seconds\")\n",
    "    print(f\"Total time: {total_end_time - total_start_time} seconds\")\n",
    "    return gemini_result"
   ]
  },
  {
   "cell_type": "code",
   "execution_count": 9,
   "metadata": {},
   "outputs": [
    {
     "name": "stdout",
     "output_type": "stream",
     "text": [
      "--------------------------------------------------------------------\n",
      "Question: What is Instagram's current business proposal?\n",
      "Document retrieved: business_docs_Business Proposal.md\n",
      "Retrieval time: 0.4140923023223877 seconds\n"
     ]
    },
    {
     "data": {
      "text/markdown": [
       "Instagram's business proposals are designed to help businesses enhance their social media presence, engage with their audience, and achieve their marketing goals. Here's a breakdown of each proposal:\n",
       "\n",
       "**1. Social Media Marketing Services:**\n",
       "\n",
       "* Instagram offers a range of social media marketing services to help businesses create and execute effective social media campaigns. \n",
       "* These services include strategic content creation, targeted ad campaigns, audience analysis, and performance tracking. \n",
       "* By partnering with Instagram's team of experienced digital marketers, businesses can maximize their reach and engagement on the platform.\n",
       "\n",
       "**2. Influencer Collaboration Services:**\n",
       "\n",
       "* Instagram connects brands with relevant influencers to drive brand awareness and engagement. \n",
       "* The platform's influencer collaboration services include influencer discovery, outreach, negotiation, campaign management, and performance analysis. \n",
       "* Businesses can leverage the reach and credibility of influencers to promote their products or services to a wider audience.\n",
       "\n",
       "**3. Content Creation and Curation Services:**\n",
       "\n",
       "* Instagram's creative team can help businesses elevate their visual presence and storytelling on the platform. \n",
       "* The content creation and curation services include bespoke content planning, photo and video production, and content curation. \n",
       "* By partnering with Instagram's experts, businesses can create engaging and visually appealing content that resonates with their target audience."
      ],
      "text/plain": [
       "<IPython.core.display.Markdown object>"
      ]
     },
     "metadata": {},
     "output_type": "display_data"
    },
    {
     "name": "stdout",
     "output_type": "stream",
     "text": [
      "Gemini time: 5.986338138580322 seconds\n",
      "Total time: 6.40043044090271 seconds\n",
      "--------------------------------------------------------------------\n",
      "--------------------------------------------------------------------\n",
      "Question: Can you provide details about the marketing plan for Instagram?\n",
      "Document retrieved: business_docs_Marketing Plan.md\n",
      "Retrieval time: 0.41709327697753906 seconds\n"
     ]
    },
    {
     "data": {
      "text/markdown": [
       "Sure, here is a summary of Instagram's marketing plan for their social media marketing services:\n",
       "\n",
       "**Target Audience:**\n",
       "\n",
       "* Small businesses, startups, and e-commerce ventures looking to enhance their online presence\n",
       "* Brands seeking to engage with a younger demographic through social media platforms\n",
       "\n",
       "**Marketing Objectives:**\n",
       "\n",
       "* Increase brand awareness and reach through targeted social media campaigns\n",
       "* Drive customer engagement and conversions for client businesses\n",
       "\n",
       "**Strategies:**\n",
       "\n",
       "* Develop personalized social media marketing strategies based on client goals and industry trends\n",
       "* Utilize influencer collaborations, interactive content, and data-driven insights for optimized marketing campaigns\n",
       "\n",
       "**Tactics:**\n",
       "\n",
       "* Content creation and curation for social media platforms\n",
       "* Paid advertising campaigns targeting specific audience segments\n",
       "* Regular performance tracking and analytics to measure campaign effectiveness\n",
       "\n",
       "**Budget:**\n",
       "\n",
       "* Initial budget allocation of $20,000 for social media marketing campaigns and ad spend\n",
       "* Budget may be adjusted based on campaign performance and client requirements\n",
       "\n",
       "**Timeline:**\n",
       "\n",
       "* Campaign implementation and monitoring over a 3-month period\n",
       "* Monthly reporting and analysis to track performance metrics and adjust strategies\n",
       "\n",
       "**Performance Metrics:**\n",
       "\n",
       "* Key performance indicators include website traffic, engagement rates, lead generation, and conversion metrics\n",
       "* Monthly reports to be generated for clients to review campaign progress and ROI"
      ],
      "text/plain": [
       "<IPython.core.display.Markdown object>"
      ]
     },
     "metadata": {},
     "output_type": "display_data"
    },
    {
     "name": "stdout",
     "output_type": "stream",
     "text": [
      "Gemini time: 6.091361045837402 seconds\n",
      "Total time: 6.5094544887542725 seconds\n",
      "--------------------------------------------------------------------\n",
      "--------------------------------------------------------------------\n",
      "Question: What information does the progress report of Instagram contain?\n",
      "Document retrieved: business_docs_Progress Report.md\n",
      "Retrieval time: 0.41509270668029785 seconds\n"
     ]
    },
    {
     "data": {
      "text/markdown": [
       "The progress report of Instagram contains the following information:\n",
       "\n",
       "* **Project Name:** The name of the project or initiative being tracked.\n",
       "* **Status:** The current status of the project, such as \"In Progress,\" \"Completed,\" \"On Hold,\" or \"Planned.\"\n",
       "* **Achievements:** A summary of the accomplishments and milestones reached during the reporting period.\n",
       "* **Challenges:** Any obstacles or difficulties encountered during the project implementation.\n",
       "* **Action Plans:** The steps planned to address the challenges and move the project forward.\n",
       "* **Resource Allocation:** The resources, such as personnel, budget, and equipment, allocated to the project.\n",
       "* **Financial Updates:** A summary of the project's financial status, including expenses and budget utilization.\n",
       "\n",
       "This progress report provides a snapshot of the various projects and initiatives underway at Instagram and their current status. It helps track progress, identify areas for improvement, and ensure that projects are completed successfully."
      ],
      "text/plain": [
       "<IPython.core.display.Markdown object>"
      ]
     },
     "metadata": {},
     "output_type": "display_data"
    },
    {
     "name": "stdout",
     "output_type": "stream",
     "text": [
      "Gemini time: 5.371200323104858 seconds\n",
      "Total time: 5.786293029785156 seconds\n",
      "--------------------------------------------------------------------\n",
      "--------------------------------------------------------------------\n",
      "Question: Who are the members of Instagram's board of directors?\n",
      "Document retrieved: company_bylaws_Board of Directors.md\n",
      "Retrieval time: 0.4100916385650635 seconds\n"
     ]
    },
    {
     "data": {
      "text/markdown": [
       "The members of Instagram's board of directors are:\n",
       "\n",
       "* **John Smith** - Chairman of the Board\n",
       "* **Sarah Johnson** - CEO, Instagram\n",
       "* **David Lee** - Chief Financial Officer\n",
       "* **Emily Davis** - Chief Marketing Officer\n",
       "\n",
       "These individuals bring a wealth of experience and expertise to the board, covering areas such as business leadership, finance, marketing, and technology. They are responsible for providing strategic guidance and oversight to Instagram, ensuring the company's continued growth and success.\n",
       "\n",
       "The board of directors plays a crucial role in shaping Instagram's vision, making key decisions, and ensuring that the company operates in a responsible and ethical manner. They are committed to fostering a positive and inclusive community on Instagram while driving innovation and creating value for users and stakeholders alike."
      ],
      "text/plain": [
       "<IPython.core.display.Markdown object>"
      ]
     },
     "metadata": {},
     "output_type": "display_data"
    },
    {
     "name": "stdout",
     "output_type": "stream",
     "text": [
      "Gemini time: 5.736281871795654 seconds\n",
      "Total time: 6.147373676300049 seconds\n",
      "--------------------------------------------------------------------\n",
      "--------------------------------------------------------------------\n",
      "Question: Could you provide specific details from Instagram's employee contracts?\n",
      "Document retrieved: employee_contracts_employee_contract_Mila Lee.md\n",
      "Retrieval time: 0.4390981197357178 seconds\n"
     ]
    },
    {
     "data": {
      "text/markdown": [
       "The provided document does not contain specific details from Instagram's employee contracts, so I cannot provide the information you requested. It's important to note that employee contracts can vary based on an individual's role, seniority, and negotiation with the company.\n",
       "\n",
       "However, based on my knowledge of employment contracts and industry standards, I can provide some general information that is commonly included in such contracts:\n",
       "\n",
       "* **Job title and responsibilities:** This section outlines the employee's specific role and the tasks and duties they are expected to perform.\n",
       "* **Compensation and benefits:** This section details the employee's salary, bonuses, and any other forms of compensation, as well as the benefits they are entitled to, such as health insurance, paid time off, and retirement plans.\n",
       "* **Work hours and schedule:** This section specifies the employee's regular work hours and any flexible work arrangements or overtime policies.\n",
       "* **Confidentiality and intellectual property:** This section outlines the employee's obligation to maintain the confidentiality of the company's information and intellectual property, and to assign any inventions or creations made during the course of employment to the company.\n",
       "* **Termination and notice period:** This section specifies the terms and conditions for termination of employment, including the notice period required by either party.\n",
       "\n",
       "It's important to note that the specific terms and conditions of an employment contract can vary depending on the company and the individual employee's circumstances. If you have any questions or concerns about your employment contract, it's always best to consult with the Human Resources department or an employment lawyer for guidance."
      ],
      "text/plain": [
       "<IPython.core.display.Markdown object>"
      ]
     },
     "metadata": {},
     "output_type": "display_data"
    },
    {
     "name": "stdout",
     "output_type": "stream",
     "text": [
      "Gemini time: 7.373647212982178 seconds\n",
      "Total time: 7.8127453327178955 seconds\n",
      "--------------------------------------------------------------------\n",
      "--------------------------------------------------------------------\n",
      "Question: Can you share the latest balance sheet figures for Instagram?\n",
      "Document retrieved: business_docs_Progress Report.md\n",
      "Retrieval time: 0.4160928726196289 seconds\n"
     ]
    },
    {
     "data": {
      "text/markdown": [
       "The provided document does not contain the latest balance sheet figures for Instagram. Balance sheets are typically included in a company's financial statements, which are not part of this document.\n",
       "\n",
       "However, I can provide some general information about balance sheets and what they contain:\n",
       "\n",
       "A balance sheet is a financial statement that provides a snapshot of a company's financial health at a specific point in time. It shows the company's assets, liabilities, and equity.\n",
       "\n",
       "* **Assets** are anything the company owns or controls that has value, such as cash, inventory, and equipment.\n",
       "* **Liabilities** are debts or obligations that the company owes to others, such as loans, accounts payable, and taxes.\n",
       "* **Equity** is the residual interest in the assets of the company after deducting its liabilities.\n",
       "\n",
       "The balance sheet equation is:\n",
       "\n",
       "```\n",
       "Assets = Liabilities + Equity\n",
       "```\n",
       "\n",
       "This equation must always balance, meaning that the total value of the company's assets must be equal to the total value of its liabilities and equity.\n",
       "\n",
       "Balance sheets are used by investors, creditors, and other stakeholders to assess a company's financial strength and stability. They can also be used to track a company's financial performance over time.\n",
       "\n",
       "If you are interested in obtaining Instagram's latest balance sheet figures, you can check the company's website or contact its investor relations department."
      ],
      "text/plain": [
       "<IPython.core.display.Markdown object>"
      ]
     },
     "metadata": {},
     "output_type": "display_data"
    },
    {
     "name": "stdout",
     "output_type": "stream",
     "text": [
      "Gemini time: 7.939773797988892 seconds\n",
      "Total time: 8.35586667060852 seconds\n",
      "--------------------------------------------------------------------\n",
      "--------------------------------------------------------------------\n",
      "Question: What are the diversity and inclusion initiatives implemented by Instagram?\n",
      "Document retrieved: company_bylaws_Diversity, Equity, and Inclusion.md\n",
      "Retrieval time: 0.4090914726257324 seconds\n"
     ]
    },
    {
     "data": {
      "text/markdown": [
       "Instagram has implemented a range of diversity and inclusion initiatives to foster a workplace where everyone feels valued and respected. These initiatives include:\n",
       "\n",
       "* **Diverse Hiring:** Instagram uses strategies to ensure diverse candidate pools and unbiased hiring processes. They actively recruit talent from underrepresented communities and provide equal opportunities for all applicants.\n",
       "* **Employee Resource Groups:** Instagram supports Employee Resource Groups (ERGs) that provide a platform for employees to connect, share experiences, and create a sense of belonging. These ERGs foster a culture of inclusion and contribute to the company's DEI efforts.\n",
       "* **Training and Education:** Instagram provides ongoing training and education to its employees to promote awareness and understanding of unconscious bias, privilege, and systemic racism. The company believes that education is essential in creating an inclusive and equitable workplace.\n",
       "* **Diverse Content:** Instagram is committed to featuring diverse content creators, artists, and voices on its platform. They actively highlight diverse perspectives to ensure that users have a rich and inclusive experience on the platform.\n",
       "\n",
       "In addition to these initiatives, Instagram has also made a commitment to:\n",
       "\n",
       "* **A Culture of Inclusion:** Instagram actively promotes a culture of inclusion where everyone's voice is heard, and diverse perspectives are valued. They embrace individual differences and strive to create an environment where everyone feels comfortable and accepted.\n",
       "* **Equity and Fairness:** Instagram is dedicated to ensuring equity and fairness in all their practices, including hiring, promotion, and compensation. They believe that everyone should have equal opportunities to thrive and succeed.\n",
       "* **Diverse Workforce:** Instagram actively seeks to build a diverse workforce that reflects the communities they serve. They are committed to attracting, retaining, and developing talent from all backgrounds, regardless of race, ethnicity, gender, age, sexual orientation, or any other characteristic.\n",
       "* **Inclusive Products and Features:** Instagram strives to develop inclusive products and features that meet the needs of their diverse user base. They value feedback from their community and continuously work to enhance accessibility and inclusivity within their platform.\n",
       "* **Partnerships and Collaboration:** Instagram believes in the power of partnerships and collaboration to drive positive change. They actively collaborate with organizations and communities that share their commitment to DEI to amplify their impact and create lasting change.\n",
       "\n",
       "Instagram is dedicated to fostering an environment where everyone feels included, valued, and empowered to contribute their best. They recognize that diversity, equity, and inclusion are ongoing journeys, and they are continuously learning, evolving, and seeking feedback to improve their practices and initiatives."
      ],
      "text/plain": [
       "<IPython.core.display.Markdown object>"
      ]
     },
     "metadata": {},
     "output_type": "display_data"
    },
    {
     "name": "stdout",
     "output_type": "stream",
     "text": [
      "Gemini time: 10.401324272155762 seconds\n",
      "Total time: 10.810415744781494 seconds\n",
      "--------------------------------------------------------------------\n",
      "--------------------------------------------------------------------\n",
      "Question: How do the terms of the employment contract boost employee retention?\n",
      "Document retrieved: employee_contracts_employee_contract_Zoe Lee.md\n",
      "Retrieval time: 0.4100914001464844 seconds\n"
     ]
    },
    {
     "data": {
      "text/markdown": [
       "The provided employment contract can boost employee retention by including the following terms:\n",
       "\n",
       "* **Competitive compensation and benefits:** Offering a competitive salary and benefits package can help attract and retain top talent. This shows employees that the company values their contributions and is willing to invest in their well-being.\n",
       "* **Clear and fair termination conditions:** Providing clear and fair termination conditions can give employees peace of mind and reduce uncertainty about their job security. This can help foster a sense of trust and loyalty between employees and the company.\n",
       "* **Opportunities for professional development:** Employees are more likely to stay with a company that invests in their professional development. Offering opportunities for training, mentorship, and career advancement can show employees that the company is committed to their growth and success.\n",
       "* **Positive and supportive work environment:** Employees are more likely to be engaged and satisfied with their jobs if they work in a positive and supportive environment. This includes having a sense of belonging, feeling valued and respected, and having a good relationship with their manager.\n",
       "\n",
       "Overall, a well-written employment contract that includes fair and competitive terms can help create a positive and supportive work environment, which can lead to increased employee retention."
      ],
      "text/plain": [
       "<IPython.core.display.Markdown object>"
      ]
     },
     "metadata": {},
     "output_type": "display_data"
    },
    {
     "name": "stdout",
     "output_type": "stream",
     "text": [
      "Gemini time: 8.141819715499878 seconds\n",
      "Total time: 8.551911115646362 seconds\n",
      "--------------------------------------------------------------------\n",
      "--------------------------------------------------------------------\n",
      "Question: What is the Marketing Objective for Influencer Collaboration Services?\n",
      "Document retrieved: business_docs_Marketing Plan.md\n",
      "Retrieval time: 0.4100918769836426 seconds\n"
     ]
    },
    {
     "data": {
      "text/markdown": [
       "The marketing objective for Influencer Collaboration Services is to establish authentic brand partnerships with influencers to amplify brand reach and credibility, as well as drive user engagement and brand affinity through influencer-generated content.\n",
       "\n",
       "Influencer collaborations can be a powerful marketing tool for businesses looking to tap into the reach and credibility of influencers. By partnering with influencers who align with their brand values and target audience, businesses can leverage the influencer's audience to increase brand awareness, generate leads, and drive sales.\n",
       "\n",
       "Instagram's Influencer Collaboration Services can help businesses identify and connect with relevant influencers, develop compelling content, and track the performance of their influencer campaigns. This can help businesses maximize the impact of their influencer marketing efforts and achieve their marketing objectives."
      ],
      "text/plain": [
       "<IPython.core.display.Markdown object>"
      ]
     },
     "metadata": {},
     "output_type": "display_data"
    },
    {
     "name": "stdout",
     "output_type": "stream",
     "text": [
      "Gemini time: 7.121590852737427 seconds\n",
      "Total time: 7.531682729721069 seconds\n",
      "--------------------------------------------------------------------\n",
      "--------------------------------------------------------------------\n",
      "Question: Who is the target audience of Content Creation and Curation Services?\n",
      "Document retrieved: business_docs_Marketing Plan.md\n",
      "Retrieval time: 0.4030895233154297 seconds\n"
     ]
    },
    {
     "data": {
      "text/markdown": [
       "The target audience for Content Creation and Curation Services includes:\n",
       "\n",
       "* Media companies\n",
       "* Creative agencies\n",
       "* Lifestyle brands\n",
       "* Businesses looking to enhance their content quality and engagement\n",
       "* Businesses looking to establish a consistent and visually appealing brand identity through curated content\n",
       "\n",
       "These services are designed to help businesses create and curate high-quality content that resonates with their target audience and helps them achieve their marketing goals.\n",
       "\n",
       "Content Creation and Curation Services can help businesses:\n",
       "\n",
       "* Develop a strong brand identity and voice\n",
       "* Create engaging and shareable content\n",
       "* Increase brand awareness and reach\n",
       "* Drive traffic to their website or other marketing channels\n",
       "* Generate leads and sales\n",
       "\n",
       "If you are a business that wants to improve the quality of your content and reach a wider audience, Content Creation and Curation Services can be a valuable investment."
      ],
      "text/plain": [
       "<IPython.core.display.Markdown object>"
      ]
     },
     "metadata": {},
     "output_type": "display_data"
    },
    {
     "name": "stdout",
     "output_type": "stream",
     "text": [
      "Gemini time: 7.900765895843506 seconds\n",
      "Total time: 8.303855419158936 seconds\n",
      "--------------------------------------------------------------------\n",
      "--------------------------------------------------------------------\n",
      "Question: What is the financial update for the Reels Optimization Project?\n",
      "Document retrieved: business_docs_Progress Report.md\n",
      "Retrieval time: 0.3900868892669678 seconds\n"
     ]
    },
    {
     "data": {
      "text/markdown": [
       "According to the Instagram Progress Report, the financial update for the Reels Optimization Project is $7,000. This amount has been allocated to the project to cover the costs of development and implementation.\n",
       "\n",
       "The Reels Optimization Project is currently in progress, with the team working on improving the performance of Reels. The goal of the project is to increase user adoption and engagement with Reels, which is a short-form video feature on Instagram.\n",
       "\n",
       "The project team is conducting user feedback analysis to identify areas for improvement and will be implementing new features based on this feedback. They are also working to address challenges related to user adoption, such as creating content guidelines and moderation tools.\n",
       "\n",
       "Overall, the Reels Optimization Project is progressing well, and the allocated budget is sufficient to cover the costs of development and implementation."
      ],
      "text/plain": [
       "<IPython.core.display.Markdown object>"
      ]
     },
     "metadata": {},
     "output_type": "display_data"
    },
    {
     "name": "stdout",
     "output_type": "stream",
     "text": [
      "Gemini time: 6.711499214172363 seconds\n",
      "Total time: 7.101586103439331 seconds\n",
      "--------------------------------------------------------------------\n",
      "--------------------------------------------------------------------\n",
      "Question: Give me details about the progress report of the Stories Upgrade project.\n",
      "Document retrieved: business_docs_Progress Report.md\n",
      "Retrieval time: 0.41509294509887695 seconds\n"
     ]
    },
    {
     "data": {
      "text/markdown": [
       "The Stories Upgrade project is reported as \"Completed\" in the Instagram Progress Report. This means that the project has been successfully implemented and is now live on the Instagram platform.\n",
       "\n",
       "**Achievements:**\n",
       "\n",
       "* Added new interactive elements to Stories, such as polls, quizzes, and sliders.\n",
       "* Improved the overall user experience of Stories, making it more engaging and interactive.\n",
       "\n",
       "**Challenges:**\n",
       "\n",
       "* The project team encountered some challenges related to user feedback and improvement suggestions.\n",
       "\n",
       "**Action Plans:**\n",
       "\n",
       "* The team plans to implement new features and improvements to Stories based on user feedback.\n",
       "\n",
       "**Resource Allocation:**\n",
       "\n",
       "* The project team consisted of 3 designers and 2 developers.\n",
       "* The financial update for the project is $5,000.\n",
       "\n",
       "**Overall:**\n",
       "\n",
       "The Stories Upgrade project was a success, and the new interactive elements have been well-received by users. The project team is continuing to monitor user feedback and make improvements to Stories to enhance the user experience."
      ],
      "text/plain": [
       "<IPython.core.display.Markdown object>"
      ]
     },
     "metadata": {},
     "output_type": "display_data"
    },
    {
     "name": "stdout",
     "output_type": "stream",
     "text": [
      "Gemini time: 7.685717582702637 seconds\n",
      "Total time: 8.100810527801514 seconds\n",
      "--------------------------------------------------------------------\n",
      "--------------------------------------------------------------------\n",
      "Question: Compare the progress report of the Feed Redesign and Stories Upgrade project and draw a conclusion on the information.\n",
      "Document retrieved: business_docs_Progress Report.md\n",
      "Retrieval time: 0.39308786392211914 seconds\n"
     ]
    },
    {
     "data": {
      "text/markdown": [
       "**Progress Report Comparison:**\n",
       "\n",
       "The Feed Redesign project is currently in progress, while the Stories Upgrade project has been completed.\n",
       "\n",
       "**Feed Redesign:**\n",
       "\n",
       "* **Status:** In Progress\n",
       "* **Achievements:** Redesigned layout and UI\n",
       "* **Challenges:** Technical issues\n",
       "* **Action Plans:** Conduct bug fixes and testing\n",
       "* **Resource Allocation:** 5 developers\n",
       "* **Financial Updates:** $10,000\n",
       "\n",
       "**Stories Upgrade:**\n",
       "\n",
       "* **Status:** Completed\n",
       "* **Achievements:** Added new interactive elements\n",
       "* **Challenges:** User feedback for improvements\n",
       "* **Action Plans:** Implement new features based on feedback\n",
       "* **Resource Allocation:** 3 designers, 2 developers\n",
       "* **Financial Updates:** $5,000\n",
       "\n",
       "**Conclusion:**\n",
       "\n",
       "Both the Feed Redesign and Stories Upgrade projects are important initiatives for Instagram. The Feed Redesign project aims to improve the overall user experience of the feed, while the Stories Upgrade project has added new interactive elements to Stories, making it more engaging and fun to use.\n",
       "\n",
       "The Feed Redesign project is facing some technical challenges, which is why it is still in progress. The Stories Upgrade project, on the other hand, has been completed successfully and is now live on the Instagram platform.\n",
       "\n",
       "Overall, both projects are progressing well and are expected to have a positive impact on the user experience of Instagram."
      ],
      "text/plain": [
       "<IPython.core.display.Markdown object>"
      ]
     },
     "metadata": {},
     "output_type": "display_data"
    },
    {
     "name": "stdout",
     "output_type": "stream",
     "text": [
      "Gemini time: 8.960001707077026 seconds\n",
      "Total time: 9.354089736938477 seconds\n",
      "--------------------------------------------------------------------\n",
      "--------------------------------------------------------------------\n",
      "Question: Who are the key personnel of Instagram?\n",
      "Document retrieved: company_bylaws_Shareholders.md\n",
      "Retrieval time: 0.4160926342010498 seconds\n"
     ]
    },
    {
     "data": {
      "text/markdown": [
       "Based on the provided document, the key personnel of Instagram are:\n",
       "\n",
       "* **Sarah Johnson** - CEO\n",
       "* **John Smith** - Chairman of the Board\n",
       "* **David Lee** - Chief Financial Officer (CFO)\n",
       "\n",
       "These individuals hold significant stakes in the company and play crucial roles in its leadership and decision-making.\n",
       "\n",
       "* **Sarah Johnson**, as the CEO, is responsible for the overall direction and strategy of Instagram. She has been instrumental in the company's growth and success.\n",
       "* **John Smith**, as the Chairman of the Board, provides strategic guidance and oversight to the company's operations. He brings a wealth of experience from the technology industry.\n",
       "* **David Lee**, as the CFO, manages the financial aspects of the company, ensuring its financial stability and growth.\n",
       "\n",
       "Together, these key personnel form the core leadership team of Instagram and are responsible for driving the company's continued success and innovation."
      ],
      "text/plain": [
       "<IPython.core.display.Markdown object>"
      ]
     },
     "metadata": {},
     "output_type": "display_data"
    },
    {
     "name": "stdout",
     "output_type": "stream",
     "text": [
      "Gemini time: 7.250620126724243 seconds\n",
      "Total time: 7.666712760925293 seconds\n",
      "--------------------------------------------------------------------\n",
      "--------------------------------------------------------------------\n",
      "Question: List all the achievements of Instagram.\n",
      "Document retrieved: company_bylaws_About Instagram.md\n",
      "Retrieval time: 0.4050905704498291 seconds\n"
     ]
    },
    {
     "data": {
      "text/markdown": [
       "Here are some of Instagram's achievements:\n",
       "\n",
       "* Surpassing 1 billion monthly active users worldwide\n",
       "* Introducing features like Stories, IGTV, and Reels, which have revolutionized content sharing and consumption\n",
       "* Facilitating collaborations between creators, businesses, and influencers\n",
       "* Supporting numerous charitable initiatives and advocacy campaigns\n",
       "\n",
       "In addition to these achievements, Instagram has also been recognized for its positive impact on society and culture. For example, Instagram has been credited with:\n",
       "\n",
       "* Providing a platform for people to express themselves and connect with others\n",
       "* Fostering creativity and innovation\n",
       "* Empowering individuals and businesses to share their stories and reach a wider audience\n",
       "* Raising awareness for important causes and social issues\n",
       "\n",
       "Overall, Instagram has made significant contributions to the digital landscape and continues to play a vital role in connecting people, fostering creativity, and supporting positive change."
      ],
      "text/plain": [
       "<IPython.core.display.Markdown object>"
      ]
     },
     "metadata": {},
     "output_type": "display_data"
    },
    {
     "name": "stdout",
     "output_type": "stream",
     "text": [
      "Gemini time: 8.336862802505493 seconds\n",
      "Total time: 8.741953372955322 seconds\n",
      "--------------------------------------------------------------------\n",
      "--------------------------------------------------------------------\n",
      "Question: How does Instagram promote community involvement?\n",
      "Document retrieved: company_bylaws_About Instagram.md\n",
      "Retrieval time: 0.3830857276916504 seconds\n"
     ]
    },
    {
     "data": {
      "text/markdown": [
       "Instagram promotes community involvement in several ways:\n",
       "\n",
       "* **Amplifying important causes:** Instagram uses its platform to raise awareness for important social and environmental issues. The platform has partnered with various organizations to launch campaigns and initiatives that encourage users to get involved and make a difference.\n",
       "* **Showcasing emerging talents:** Instagram provides a platform for emerging artists, photographers, and other creatives to showcase their work and connect with a wider audience. The platform's Explore feature helps users discover new and interesting content, including posts from up-and-coming creators.\n",
       "* **Facilitating connections between users with shared interests:** Instagram allows users to connect with others who share their interests, whether it's photography, travel, fashion, or anything else. The platform's community features, such as groups and hashtags, make it easy for users to find and interact with like-minded individuals.\n",
       "\n",
       "By promoting community involvement, Instagram fosters a sense of belonging and empowerment among its users. The platform provides a space for people to connect with others, share their passions, and make a positive impact on the world."
      ],
      "text/plain": [
       "<IPython.core.display.Markdown object>"
      ]
     },
     "metadata": {},
     "output_type": "display_data"
    },
    {
     "name": "stdout",
     "output_type": "stream",
     "text": [
      "Gemini time: 9.124038934707642 seconds\n",
      "Total time: 9.507124662399292 seconds\n",
      "--------------------------------------------------------------------\n",
      "--------------------------------------------------------------------\n",
      "Question: What is the background of the CEO (Chief Executive Officer) of Instagram?\n",
      "Document retrieved: company_bylaws_Board of Directors.md\n",
      "Retrieval time: 0.41309189796447754 seconds\n"
     ]
    },
    {
     "data": {
      "text/markdown": [
       "The provided document does not contain any information about the background of the CEO (Chief Executive Officer) of Instagram."
      ],
      "text/plain": [
       "<IPython.core.display.Markdown object>"
      ]
     },
     "metadata": {},
     "output_type": "display_data"
    },
    {
     "name": "stdout",
     "output_type": "stream",
     "text": [
      "Gemini time: 9.21806001663208 seconds\n",
      "Total time: 9.632152080535889 seconds\n",
      "--------------------------------------------------------------------\n",
      "--------------------------------------------------------------------\n",
      "Question: Who is the chairman of Instagram and which year did the person become the chairman of the board?\n",
      "Document retrieved: company_bylaws_Board of Directors.md\n",
      "Retrieval time: 0.4100916385650635 seconds\n"
     ]
    },
    {
     "data": {
      "text/markdown": [
       "The chairman of Instagram is **John Smith**. He has served as the Chairman of the Board since **2015**."
      ],
      "text/plain": [
       "<IPython.core.display.Markdown object>"
      ]
     },
     "metadata": {},
     "output_type": "display_data"
    },
    {
     "name": "stdout",
     "output_type": "stream",
     "text": [
      "Gemini time: 9.784185647964478 seconds\n",
      "Total time: 10.194277286529541 seconds\n",
      "--------------------------------------------------------------------\n",
      "--------------------------------------------------------------------\n",
      "Question: How has the Board of Directors contributed to Instagram's success?\n",
      "Document retrieved: company_bylaws_Board of Directors.md\n",
      "Retrieval time: 0.4070913791656494 seconds\n"
     ]
    },
    {
     "data": {
      "text/markdown": [
       "The Board of Directors has contributed to Instagram's success in several ways:\n",
       "\n",
       "* **Guiding Instagram through its acquisition by Facebook:** The Board provided strategic guidance and oversight during Instagram's acquisition by Facebook in 2012. They ensured that Instagram's unique identity and features were preserved while also leveraging Facebook's resources to support Instagram's growth.\n",
       "* **Providing strategic guidance:** The Board provides ongoing strategic guidance to Instagram's management team. They help set the company's long-term vision and goals, and they provide advice and support on key decisions.\n",
       "* **Supporting the launch of new features:** The Board has supported the launch of several new features that have been instrumental in Instagram's success. These include Stories, IGTV, and Reels, which have all revolutionized content sharing and engagement on the platform.\n",
       "* **Fostering a safe and inclusive community:** The Board has supported the launch of various initiatives to foster a safe and inclusive community on Instagram. These include proactive content moderation practices and the promotion of positive online behavior.\n",
       "* **Overseeing the expansion of Instagram's user base:** The Board has overseen the expansion of Instagram's user base to over 1 billion monthly active users worldwide. They have provided guidance and support on strategies to attract and retain users, and they have helped ensure that Instagram remains one of the most popular social media platforms globally.\n",
       "\n",
       "Overall, the Board of Directors has played a vital role in Instagram's success. They have provided strategic guidance, supported the launch of new features, fostered a safe and inclusive community, and overseen the expansion of Instagram's user base."
      ],
      "text/plain": [
       "<IPython.core.display.Markdown object>"
      ]
     },
     "metadata": {},
     "output_type": "display_data"
    },
    {
     "name": "stdout",
     "output_type": "stream",
     "text": [
      "Gemini time: 14.293194055557251 seconds\n",
      "Total time: 14.701285123825073 seconds\n",
      "--------------------------------------------------------------------\n",
      "--------------------------------------------------------------------\n",
      "Question: Does Instagram have any initiatives for Employee Resource Groups? If yes explain the initiative.\n",
      "Document retrieved: company_bylaws_Diversity, Equity, and Inclusion.md\n",
      "Retrieval time: 0.3870861530303955 seconds\n"
     ]
    },
    {
     "data": {
      "text/markdown": [
       "Yes, Instagram has initiatives for Employee Resource Groups (ERGs). ERGs are employee-led groups that provide a platform for employees to connect, share experiences, and create a sense of belonging. Instagram supports ERGs that represent a variety of identities and backgrounds, including:\n",
       "\n",
       "* **Women@Instagram:** This ERG supports and empowers women at Instagram, providing opportunities for networking, mentorship, and professional development.\n",
       "* **Black@Instagram:** This ERG creates a space for Black employees to connect, share experiences, and advocate for racial equity and inclusion.\n",
       "* **Latinx@Instagram:** This ERG celebrates and supports the Latinx community at Instagram, providing a platform for cultural exchange and professional growth.\n",
       "* **Pride@Instagram:** This ERG supports and advocates for LGBTQ+ employees at Instagram, creating a safe and inclusive space for them to connect and thrive.\n",
       "* **Parents@Instagram:** This ERG provides support and resources for employees who are parents or caregivers, helping them balance their work and family responsibilities.\n",
       "\n",
       "These ERGs play a vital role in fostering a culture of inclusion and belonging at Instagram. They provide a space for employees to connect with others who share their experiences and identities, and they work to create a more equitable and inclusive workplace for all."
      ],
      "text/plain": [
       "<IPython.core.display.Markdown object>"
      ]
     },
     "metadata": {},
     "output_type": "display_data"
    },
    {
     "name": "stdout",
     "output_type": "stream",
     "text": [
      "Gemini time: 11.503570318222046 seconds\n",
      "Total time: 11.890656471252441 seconds\n",
      "--------------------------------------------------------------------\n",
      "--------------------------------------------------------------------\n",
      "Question: How does Instagram promote diversity?\n",
      "Document retrieved: company_bylaws_Diversity, Equity, and Inclusion.md\n",
      "Retrieval time: 0.44609975814819336 seconds\n"
     ]
    },
    {
     "data": {
      "text/markdown": [
       "Instagram promotes diversity in a number of ways, including:\n",
       "\n",
       "* **Diverse Hiring:** Instagram has implemented strategies to ensure diverse candidate pools and unbiased hiring processes. They actively recruit talent from underrepresented communities and provide equal opportunities for all applicants.\n",
       "* **Employee Resource Groups:** Instagram supports Employee Resource Groups (ERGs) that provide a platform for employees to connect, share experiences, and create a sense of belonging. These ERGs represent a variety of identities and backgrounds, including women, people of color, LGBTQ+ people, and parents.\n",
       "* **Training and Education:** Instagram provides ongoing training and education to its employees to promote awareness and understanding of unconscious bias, privilege, and systemic racism. They believe that education is essential in creating an inclusive and equitable workplace.\n",
       "* **Diverse Content:** Instagram is committed to featuring diverse content creators, artists, and voices on its platform. They actively highlight diverse perspectives to ensure that their users have a rich and inclusive experience.\n",
       "\n",
       "By promoting diversity in these ways, Instagram is creating a more inclusive and equitable workplace and community."
      ],
      "text/plain": [
       "<IPython.core.display.Markdown object>"
      ]
     },
     "metadata": {},
     "output_type": "display_data"
    },
    {
     "name": "stdout",
     "output_type": "stream",
     "text": [
      "Gemini time: 11.454560041427612 seconds\n",
      "Total time: 11.900659799575806 seconds\n",
      "--------------------------------------------------------------------\n",
      "--------------------------------------------------------------------\n",
      "Question: Describe the ownership structure of Instagram.\n",
      "Document retrieved: company_bylaws_Shareholders.md\n",
      "Retrieval time: 0.4210939407348633 seconds\n"
     ]
    },
    {
     "data": {
      "text/markdown": [
       "Instagram is a private company that is wholly owned by Facebook Inc. This means that Facebook owns 100% of Instagram's shares.\n",
       "\n",
       "Prior to its acquisition by Facebook in 2012, Instagram had several major shareholders, including its founders Kevin Systrom and Mike Krieger, as well as venture capital firms such as Benchmark Capital and Andreessen Horowitz. However, after the acquisition, Facebook became the sole owner of Instagram.\n",
       "\n",
       "The exact shareholdings of individual shareholders prior to the acquisition are not publicly disclosed. However, it is likely that Systrom and Krieger were the largest individual shareholders, as they were the founders and driving forces behind the company's early success.\n",
       "\n",
       "Since the acquisition, Instagram's ownership structure has remained relatively stable, with Facebook maintaining its 100% ownership stake. This has allowed Instagram to operate as a separate entity while still benefiting from the resources and support of its parent company."
      ],
      "text/plain": [
       "<IPython.core.display.Markdown object>"
      ]
     },
     "metadata": {},
     "output_type": "display_data"
    },
    {
     "name": "stdout",
     "output_type": "stream",
     "text": [
      "Gemini time: 10.17127275466919 seconds\n",
      "Total time: 10.592366695404053 seconds\n",
      "--------------------------------------------------------------------\n",
      "--------------------------------------------------------------------\n",
      "Question: What is the total amount of assets that Instagram has?\n",
      "Document retrieved: business_docs_Progress Report.md\n",
      "Retrieval time: 0.3980891704559326 seconds\n"
     ]
    },
    {
     "data": {
      "text/markdown": [
       "The provided document does not contain any information about Instagram's total assets."
      ],
      "text/plain": [
       "<IPython.core.display.Markdown object>"
      ]
     },
     "metadata": {},
     "output_type": "display_data"
    },
    {
     "name": "stdout",
     "output_type": "stream",
     "text": [
      "Gemini time: 7.779737949371338 seconds\n",
      "Total time: 8.17782711982727 seconds\n",
      "--------------------------------------------------------------------\n",
      "--------------------------------------------------------------------\n",
      "Question: How much cash is present in balance with Instagram?\n",
      "Document retrieved: business_docs_Progress Report.md\n",
      "Retrieval time: 0.42209410667419434 seconds\n"
     ]
    },
    {
     "data": {
      "text/markdown": [
       "The provided document does not contain any information about the amount of cash present in balance with Instagram."
      ],
      "text/plain": [
       "<IPython.core.display.Markdown object>"
      ]
     },
     "metadata": {},
     "output_type": "display_data"
    },
    {
     "name": "stdout",
     "output_type": "stream",
     "text": [
      "Gemini time: 8.144819974899292 seconds\n",
      "Total time: 8.567914485931396 seconds\n",
      "--------------------------------------------------------------------\n",
      "--------------------------------------------------------------------\n",
      "Question: How much amount of long-term loan does Instagram have on the balance sheet?\n",
      "Document retrieved: company_bylaws_Shareholders.md\n",
      "Retrieval time: 0.4210939407348633 seconds\n"
     ]
    },
    {
     "data": {
      "text/markdown": [
       "The provided document does not contain any information about the amount of long-term loan Instagram has on its balance sheet."
      ],
      "text/plain": [
       "<IPython.core.display.Markdown object>"
      ]
     },
     "metadata": {},
     "output_type": "display_data"
    },
    {
     "name": "stdout",
     "output_type": "stream",
     "text": [
      "Gemini time: 7.732727527618408 seconds\n",
      "Total time: 8.15482211112976 seconds\n",
      "--------------------------------------------------------------------\n",
      "--------------------------------------------------------------------\n",
      "Question: What is the net income of Instagram?\n",
      "Document retrieved: company_bylaws_About Instagram.md\n",
      "Retrieval time: 0.4230945110321045 seconds\n"
     ]
    },
    {
     "data": {
      "text/markdown": [
       "The provided document does not contain any information about Instagram's net income."
      ],
      "text/plain": [
       "<IPython.core.display.Markdown object>"
      ]
     },
     "metadata": {},
     "output_type": "display_data"
    },
    {
     "name": "stdout",
     "output_type": "stream",
     "text": [
      "Gemini time: 7.7367284297943115 seconds\n",
      "Total time: 8.159822940826416 seconds\n",
      "--------------------------------------------------------------------\n",
      "--------------------------------------------------------------------\n",
      "Question: What is the gross profit of Instagram?\n",
      "Document retrieved: business_docs_Progress Report.md\n",
      "Retrieval time: 0.40409040451049805 seconds\n"
     ]
    },
    {
     "data": {
      "text/markdown": [
       "The provided document does not contain any information about Instagram's gross profit."
      ],
      "text/plain": [
       "<IPython.core.display.Markdown object>"
      ]
     },
     "metadata": {},
     "output_type": "display_data"
    },
    {
     "name": "stdout",
     "output_type": "stream",
     "text": [
      "Gemini time: 7.6867170333862305 seconds\n",
      "Total time: 8.090807437896729 seconds\n",
      "--------------------------------------------------------------------\n",
      "--------------------------------------------------------------------\n",
      "Question: What is the income before taxes Instagram and net income? Also let me know how much income tax is paid by Instagram.\n",
      "Document retrieved: hr_docs_filled_Employee Handbook.md\n",
      "Retrieval time: 0.42609524726867676 seconds\n"
     ]
    },
    {
     "data": {
      "text/markdown": [
       "The provided document does not contain any information about Instagram's income before taxes, net income, or income tax paid."
      ],
      "text/plain": [
       "<IPython.core.display.Markdown object>"
      ]
     },
     "metadata": {},
     "output_type": "display_data"
    },
    {
     "name": "stdout",
     "output_type": "stream",
     "text": [
      "Gemini time: 9.478117942810059 seconds\n",
      "Total time: 9.904213190078735 seconds\n",
      "--------------------------------------------------------------------\n",
      "--------------------------------------------------------------------\n",
      "Question: What is the investment income of Instagram?\n",
      "Document retrieved: business_docs_Progress Report.md\n",
      "Retrieval time: 0.42409515380859375 seconds\n"
     ]
    },
    {
     "data": {
      "text/markdown": [
       "The provided document does not contain any information about Instagram's investment income."
      ],
      "text/plain": [
       "<IPython.core.display.Markdown object>"
      ]
     },
     "metadata": {},
     "output_type": "display_data"
    },
    {
     "name": "stdout",
     "output_type": "stream",
     "text": [
      "Gemini time: 7.41265606880188 seconds\n",
      "Total time: 7.836751222610474 seconds\n",
      "--------------------------------------------------------------------\n",
      "--------------------------------------------------------------------\n",
      "Question: How much of Instagram income goes to Charitable Contributions?\n",
      "Document retrieved: company_bylaws_About Instagram.md\n",
      "Retrieval time: 0.41309261322021484 seconds\n"
     ]
    },
    {
     "data": {
      "text/markdown": [
       "The provided document does not contain any information about how much of Instagram's income goes to charitable contributions."
      ],
      "text/plain": [
       "<IPython.core.display.Markdown object>"
      ]
     },
     "metadata": {},
     "output_type": "display_data"
    },
    {
     "name": "stdout",
     "output_type": "stream",
     "text": [
      "Gemini time: 8.147820949554443 seconds\n",
      "Total time: 8.56191349029541 seconds\n",
      "--------------------------------------------------------------------\n",
      "--------------------------------------------------------------------\n",
      "Question: What is the Position of Ava Thomas and in which department does she work?\n",
      "Document retrieved: employee_contracts_employee_contract_Ava Thomas.md\n",
      "Retrieval time: 0.4430983066558838 seconds\n"
     ]
    },
    {
     "data": {
      "text/markdown": [
       "Ava Thomas is an Administrative Assistant in the Administration department at Instagram."
      ],
      "text/plain": [
       "<IPython.core.display.Markdown object>"
      ]
     },
     "metadata": {},
     "output_type": "display_data"
    },
    {
     "name": "stdout",
     "output_type": "stream",
     "text": [
      "Gemini time: 7.777738332748413 seconds\n",
      "Total time: 8.221836566925049 seconds\n",
      "--------------------------------------------------------------------\n",
      "--------------------------------------------------------------------\n",
      "Question: Total number of work hours of Leo Kim?\n",
      "Document retrieved: employee_contracts_employee_contract_Leo Kim.md\n",
      "Retrieval time: 0.4140925407409668 seconds\n"
     ]
    },
    {
     "data": {
      "text/markdown": [
       "Leo Kim's total number of work hours is 40 hours per week."
      ],
      "text/plain": [
       "<IPython.core.display.Markdown object>"
      ]
     },
     "metadata": {},
     "output_type": "display_data"
    },
    {
     "name": "stdout",
     "output_type": "stream",
     "text": [
      "Gemini time: 7.578693628311157 seconds\n",
      "Total time: 7.992786169052124 seconds\n",
      "--------------------------------------------------------------------\n",
      "--------------------------------------------------------------------\n",
      "Question: What are the employee benefits provided to Ethan Rodriguez?\n",
      "Document retrieved: employee_contracts_employee_contract_Ethan Rodriguez.md\n",
      "Retrieval time: 0.4210937023162842 seconds\n"
     ]
    },
    {
     "data": {
      "text/markdown": [
       "Ethan Rodriguez is provided with the following employee benefits:\n",
       "\n",
       "* Health insurance\n",
       "* Retirement plan"
      ],
      "text/plain": [
       "<IPython.core.display.Markdown object>"
      ]
     },
     "metadata": {},
     "output_type": "display_data"
    },
    {
     "name": "stdout",
     "output_type": "stream",
     "text": [
      "Gemini time: 7.65471076965332 seconds\n",
      "Total time: 8.075804471969604 seconds\n",
      "--------------------------------------------------------------------\n",
      "--------------------------------------------------------------------\n",
      "Question: Who is the Quality Assurance Specialist at Instagram?\n",
      "Document retrieved: employee_contracts_employee_contract_Lucas Martinez.md\n",
      "Retrieval time: 0.4230945110321045 seconds\n"
     ]
    },
    {
     "data": {
      "text/markdown": [
       "Lucas Martinez is the Quality Assurance Specialist at Instagram."
      ],
      "text/plain": [
       "<IPython.core.display.Markdown object>"
      ]
     },
     "metadata": {},
     "output_type": "display_data"
    },
    {
     "name": "stdout",
     "output_type": "stream",
     "text": [
      "Gemini time: 8.183829069137573 seconds\n",
      "Total time: 8.606923580169678 seconds\n",
      "--------------------------------------------------------------------\n",
      "--------------------------------------------------------------------\n",
      "Question: Name the employee working in the Security Department and what is his/her compensation?\n",
      "Document retrieved: employee_payslips_employee_payslip_Ethan Rodriguez.md\n",
      "Retrieval time: 0.4400980472564697 seconds\n"
     ]
    },
    {
     "data": {
      "text/markdown": [
       "Ethan Rodriguez is the employee working in the Security Department and his compensation for the pay period from December 1, 2022 to December 15, 2022 is $3,966.67."
      ],
      "text/plain": [
       "<IPython.core.display.Markdown object>"
      ]
     },
     "metadata": {},
     "output_type": "display_data"
    },
    {
     "name": "stdout",
     "output_type": "stream",
     "text": [
      "Gemini time: 8.57291579246521 seconds\n",
      "Total time: 9.01301383972168 seconds\n",
      "--------------------------------------------------------------------\n",
      "--------------------------------------------------------------------\n",
      "Question: What is the responsibility of the content moderator?\n",
      "Document retrieved: employee_contracts_employee_contract_Eva Kim.md\n",
      "Retrieval time: 0.41709327697753906 seconds\n"
     ]
    },
    {
     "data": {
      "text/markdown": [
       "The responsibility of the content moderator is to monitor and moderate user-generated content. This involves reviewing content for any violations of the company's policies, such as hate speech, violence, or pornography. Content moderators may also be responsible for removing or flagging inappropriate content."
      ],
      "text/plain": [
       "<IPython.core.display.Markdown object>"
      ]
     },
     "metadata": {},
     "output_type": "display_data"
    },
    {
     "name": "stdout",
     "output_type": "stream",
     "text": [
      "Gemini time: 7.756732940673828 seconds\n",
      "Total time: 8.173826217651367 seconds\n",
      "--------------------------------------------------------------------\n",
      "--------------------------------------------------------------------\n",
      "Question: Which employee is getting paid $125,000 per year as compensation and which department does he work in?\n",
      "Document retrieved: employee_payslips_employee_payslip_Michael Johnson.md\n",
      "Retrieval time: 0.4210939407348633 seconds\n"
     ]
    },
    {
     "data": {
      "text/markdown": [
       "The employee getting paid $125,000 per year as compensation is not mentioned in the provided document."
      ],
      "text/plain": [
       "<IPython.core.display.Markdown object>"
      ]
     },
     "metadata": {},
     "output_type": "display_data"
    },
    {
     "name": "stdout",
     "output_type": "stream",
     "text": [
      "Gemini time: 8.141819477081299 seconds\n",
      "Total time: 8.562913417816162 seconds\n",
      "--------------------------------------------------------------------\n",
      "--------------------------------------------------------------------\n",
      "Question: Which employee did enter into the ESOP with Instagram on April 1, 2022?\n",
      "Document retrieved: employee_esops_employee_esop_John Doe.md\n",
      "Retrieval time: 0.443098783493042 seconds\n"
     ]
    },
    {
     "data": {
      "text/markdown": [
       "The provided document does not specify which employee entered into the ESOP with Instagram on April 1, 2022."
      ],
      "text/plain": [
       "<IPython.core.display.Markdown object>"
      ]
     },
     "metadata": {},
     "output_type": "display_data"
    },
    {
     "name": "stdout",
     "output_type": "stream",
     "text": [
      "Gemini time: 7.964779853820801 seconds\n",
      "Total time: 8.407878637313843 seconds\n",
      "--------------------------------------------------------------------\n",
      "--------------------------------------------------------------------\n",
      "Question: How many number of shares were allocated to Liam Kim?\n",
      "Document retrieved: employee_esops_employee_esop_Liam Kim.md\n",
      "Retrieval time: 0.3980891704559326 seconds\n"
     ]
    },
    {
     "data": {
      "text/markdown": [
       "Liam Kim was allocated 105 shares under the Employee Stock Ownership Plan (ESOP)."
      ],
      "text/plain": [
       "<IPython.core.display.Markdown object>"
      ]
     },
     "metadata": {},
     "output_type": "display_data"
    },
    {
     "name": "stdout",
     "output_type": "stream",
     "text": [
      "Gemini time: 7.398653507232666 seconds\n",
      "Total time: 7.796742677688599 seconds\n",
      "--------------------------------------------------------------------\n",
      "--------------------------------------------------------------------\n",
      "Question: What is the Basic salary of Jane Smith?\n",
      "Document retrieved: employee_payslips_employee_payslip_Jane Smith.md\n",
      "Retrieval time: 0.41509270668029785 seconds\n"
     ]
    },
    {
     "data": {
      "text/markdown": [
       "Jane Smith's Basic salary is $3,333.33."
      ],
      "text/plain": [
       "<IPython.core.display.Markdown object>"
      ]
     },
     "metadata": {},
     "output_type": "display_data"
    },
    {
     "name": "stdout",
     "output_type": "stream",
     "text": [
      "Gemini time: 7.978782892227173 seconds\n",
      "Total time: 8.39387559890747 seconds\n",
      "--------------------------------------------------------------------\n",
      "--------------------------------------------------------------------\n",
      "Question: How much bonus does the Public Relations Manager receive?\n",
      "Document retrieved: employee_payslips_employee_payslip_Mia Hernandez.md\n",
      "Retrieval time: 0.4180929660797119 seconds\n"
     ]
    },
    {
     "data": {
      "text/markdown": [
       "The Public Relations Manager receives a bonus of $1,000.00."
      ],
      "text/plain": [
       "<IPython.core.display.Markdown object>"
      ]
     },
     "metadata": {},
     "output_type": "display_data"
    },
    {
     "name": "stdout",
     "output_type": "stream",
     "text": [
      "Gemini time: 7.589696168899536 seconds\n",
      "Total time: 8.007789134979248 seconds\n",
      "--------------------------------------------------------------------\n",
      "--------------------------------------------------------------------\n",
      "Question: What is the net pay to the employee working in the Customer Support department?\n",
      "Document retrieved: employee_payslips_employee_payslip_William Anderson.md\n",
      "Retrieval time: 0.3960883617401123 seconds\n"
     ]
    },
    {
     "data": {
      "text/markdown": [
       "The net pay to the employee working in the Customer Support department is $3,275.00."
      ],
      "text/plain": [
       "<IPython.core.display.Markdown object>"
      ]
     },
     "metadata": {},
     "output_type": "display_data"
    },
    {
     "name": "stdout",
     "output_type": "stream",
     "text": [
      "Gemini time: 8.721948862075806 seconds\n",
      "Total time: 9.119037628173828 seconds\n",
      "--------------------------------------------------------------------\n"
     ]
    }
   ],
   "source": [
    "for q in questions:\n",
    "    print(\"--------------------------------------------------------------------\")\n",
    "    print(f\"Question: {q}\")\n",
    "    gemini_result = generate_responses(q,collection)\n",
    "    print(\"--------------------------------------------------------------------\")"
   ]
  },
  {
   "cell_type": "code",
   "execution_count": 6,
   "metadata": {},
   "outputs": [],
   "source": [
    "questions = [\n",
    "\"How does Instagram's marketing plan contribute to its growth strategy?\",\n",
    "\"In what ways do employee contracts at Instagram reflect the company's values?\",\n",
    "\"What impact does diversity, inclusion, and equity have on Instagram's workplace culture?\",\n",
    "\"How does Instagram's tax return history compare to industry standards?\",\n",
    "\"What strategies does Instagram employ to ensure financial stability, as seen in its balance sheet?\",\n",
    "\"How do the terms of the employment contract boost employee retention?\",\n",
    "\"How does Instagram's marketing plan adapt to changing market trends and customer preferences?\",\n",
    "\"What role does diversity, inclusion, and equity play in shaping Instagram's corporate culture?\",\n",
    "\"How do Instagram's employee ESOPs align with the company's long-term growth objectives?\",\n",
    "\"What impact does Instagram's tax return strategy have on its overall financial health?\",\n",
    "\"How does Instagram's progress report reflect the company's performance compared to competitors?\",\n",
    "\"What are the implications of Instagram's shareholder agreements on corporate governance?\",\n",
    "\"How does Instagram's balance sheet reflect its investment and financial decision-making?\",\n",
    "\"What are the challenges faced by Instagram's board of directors in maintaining transparency and accountability?\",\n",
    "\"How does Instagram's marketing plan integrate digital and traditional marketing channels for maximum impact?\"\n",
    "]"
   ]
  },
  {
   "cell_type": "code",
   "execution_count": 7,
   "metadata": {},
   "outputs": [
    {
     "name": "stdout",
     "output_type": "stream",
     "text": [
      "--------------------------------------------------------------------\n",
      "Question: How does Instagram's marketing plan contribute to its growth strategy?\n",
      "Document retrieved: business_docs_Marketing Plan.md\n",
      "Retrieval time: 0.41709280014038086 seconds\n"
     ]
    },
    {
     "data": {
      "text/markdown": [
       "Sure. Instagram's marketing plan plays a crucial role in the company's growth strategy by enabling it to reach new users, engage existing ones, and drive business results. Here's how:\n",
       "\n",
       "**Target Audience Identification:** Instagram's marketing plan starts with identifying its target audience. The platform primarily focuses on individuals and businesses looking to connect, share, and grow their presence online. By understanding their audience's demographics, interests, and behaviors, Instagram can tailor its marketing efforts to resonate with them effectively.\n",
       "\n",
       "**Content Strategy:** Instagram's marketing plan revolves around creating and distributing valuable content that meets the needs and interests of its target audience. The platform offers various content formats, including photos, videos, Stories, Reels, and IGTV, allowing businesses and individuals to showcase their products, services, or personal brand in engaging ways. By providing a platform for creative expression and storytelling, Instagram attracts and retains users, fostering a sense of community and belonging.\n",
       "\n",
       "**Influencer Partnerships:** Influencer marketing is a key component of Instagram's growth strategy. The platform collaborates with influential individuals who have a large following and can help promote Instagram's features and services to their audiences. These partnerships allow Instagram to tap into new markets, increase brand awareness, and drive user engagement. By leveraging the credibility and reach of influencers, Instagram can effectively connect with target audiences and build trust.\n",
       "\n",
       "**Community Engagement:** Instagram's marketing plan emphasizes building and engaging with its community. The platform encourages users to interact with each other through likes, comments, shares, and direct messages. Instagram also hosts contests, challenges, and live events to foster a sense of community and keep users engaged. By creating opportunities for interaction and connection, Instagram strengthens its user base and promotes brand loyalty.\n",
       "\n",
       "**Data-Driven Insights:** Instagram's marketing plan is driven by data and insights. The platform collects and analyzes user data to understand their preferences, behaviors, and engagement patterns. This data helps Instagram refine its marketing strategies, optimize content, and tailor its services to better meet the needs of its users. By leveraging data-driven insights, Instagram can make informed decisions and maximize the effectiveness of its marketing efforts.\n",
       "\n",
       "Overall, Instagram's marketing plan contributes to its growth strategy by attracting new users, engaging existing ones, and fostering a strong sense of community. The platform's focus on content, influencer partnerships, community engagement, and data-driven insights enables it to stay relevant, innovative, and competitive in the ever-evolving social media landscape."
      ],
      "text/plain": [
       "<IPython.core.display.Markdown object>"
      ]
     },
     "metadata": {},
     "output_type": "display_data"
    },
    {
     "name": "stdout",
     "output_type": "stream",
     "text": [
      "Gemini time: 12.937891006469727 seconds\n",
      "Total time: 13.354983806610107 seconds\n",
      "--------------------------------------------------------------------\n",
      "--------------------------------------------------------------------\n",
      "Question: In what ways do employee contracts at Instagram reflect the company's values?\n",
      "Document retrieved: hr_docs_filled_Employee Handbook.md\n",
      "Retrieval time: 0.4090909957885742 seconds\n"
     ]
    },
    {
     "data": {
      "text/markdown": [
       "Instagram's employee contracts reflect the company's values in several ways:\n",
       "\n",
       "**Alignment with Mission and Values:** The contracts clearly state that employees are expected to align with Instagram's mission and values, which include creativity, diversity, and inclusion. This sets the expectation that employees will conduct themselves in a manner that supports and promotes these values in their work and interactions with colleagues and customers.\n",
       "\n",
       "**Code of Conduct:** The contracts outline a Code of Conduct that employees must adhere to. This code includes guidelines for professional behavior, respect for others, confidentiality, and compliance with company policies and procedures. By incorporating these principles into the contracts, Instagram ensures that employees understand and are held accountable for maintaining a positive and ethical work environment.\n",
       "\n",
       "**Anti-Discrimination and Harassment Policies:** The contracts emphasize Instagram's commitment to providing a work environment free from discrimination and harassment. They state that any form of discrimination or harassment based on race, gender, age, religion, or any other protected characteristic will not be tolerated. This demonstrates Instagram's commitment to fostering an inclusive and respectful workplace where all employees feel valued and supported.\n",
       "\n",
       "**Performance Management:** The contracts outline the company's performance management processes, which are designed to provide regular feedback and support employee growth. By setting clear expectations and providing opportunities for professional development, Instagram shows that it values employee performance and is invested in their success.\n",
       "\n",
       "**Employee Benefits:** The contracts describe the various employee benefits offered by Instagram, such as health insurance, retirement plans, and paid time off. These benefits demonstrate Instagram's commitment to employee well-being and work-life balance, reflecting the company's values of caring for its employees and creating a supportive work environment.\n",
       "\n",
       "Overall, Instagram's employee contracts serve as a reflection of the company's values and commitment to creating a positive and inclusive workplace where employees are valued, supported, and empowered to succeed."
      ],
      "text/plain": [
       "<IPython.core.display.Markdown object>"
      ]
     },
     "metadata": {},
     "output_type": "display_data"
    },
    {
     "name": "stdout",
     "output_type": "stream",
     "text": [
      "Gemini time: 8.82497239112854 seconds\n",
      "Total time: 9.234063386917114 seconds\n",
      "--------------------------------------------------------------------\n",
      "--------------------------------------------------------------------\n",
      "Question: What impact does diversity, inclusion, and equity have on Instagram's workplace culture?\n",
      "Document retrieved: company_bylaws_Diversity, Equity, and Inclusion.md\n",
      "Retrieval time: 0.41309237480163574 seconds\n"
     ]
    },
    {
     "data": {
      "text/markdown": [
       "Diversity, inclusion, and equity (DEI) have a profound impact on Instagram's workplace culture by creating an environment where all employees feel valued, respected, and empowered to succeed. Here's how DEI shapes Instagram's workplace:\n",
       "\n",
       "**Culture of Belonging:** Instagram actively promotes a culture of inclusion where everyone's voice is heard and perspectives are valued. This creates a sense of belonging and psychological safety, allowing employees to bring their authentic selves to work and contribute to the company's success.\n",
       "\n",
       "**Innovation and Creativity:** A diverse workforce brings together a wide range of experiences, ideas, and perspectives. By fostering an inclusive environment, Instagram encourages employees to share their unique insights and collaborate with colleagues from different backgrounds. This diversity of thought leads to innovation, creativity, and better problem-solving.\n",
       "\n",
       "**Employee Engagement and Retention:** When employees feel included and respected, they are more engaged and committed to their work. Instagram's DEI initiatives help create a positive and supportive work environment, which boosts employee morale, reduces turnover, and attracts top talent.\n",
       "\n",
       "**Enhanced User Experience:** Instagram's commitment to DEI extends to its products and features. By considering the needs of diverse user groups, Instagram can develop more inclusive and accessible products that meet the needs of a global audience. This enhances the user experience and makes Instagram a more welcoming platform for everyone.\n",
       "\n",
       "**Reputation and Brand Value:** Instagram's strong DEI reputation attracts customers, partners, and investors who value diversity and inclusion. By embracing DEI, Instagram aligns with the values of its users and stakeholders, enhancing its brand image and reputation.\n",
       "\n",
       "Overall, DEI is not just a corporate buzzword for Instagram; it's a core value that shapes every aspect of the company's culture, from hiring and promotion practices to product development and community engagement. By fostering a diverse, equitable, and inclusive workplace, Instagram empowers its employees, drives innovation, and creates a more welcoming and engaging experience for its users."
      ],
      "text/plain": [
       "<IPython.core.display.Markdown object>"
      ]
     },
     "metadata": {},
     "output_type": "display_data"
    },
    {
     "name": "stdout",
     "output_type": "stream",
     "text": [
      "Gemini time: 8.682940244674683 seconds\n",
      "Total time: 9.096032619476318 seconds\n",
      "--------------------------------------------------------------------\n",
      "--------------------------------------------------------------------\n",
      "Question: How does Instagram's tax return history compare to industry standards?\n",
      "Document retrieved: business_docs_Progress Report.md\n",
      "Retrieval time: 0.41709303855895996 seconds\n"
     ]
    },
    {
     "data": {
      "text/markdown": [
       "The provided text does not contain any information about Instagram's tax return history or industry standards, so I cannot answer this question from the provided context."
      ],
      "text/plain": [
       "<IPython.core.display.Markdown object>"
      ]
     },
     "metadata": {},
     "output_type": "display_data"
    },
    {
     "name": "stdout",
     "output_type": "stream",
     "text": [
      "Gemini time: 4.162930488586426 seconds\n",
      "Total time: 4.580023527145386 seconds\n",
      "--------------------------------------------------------------------\n",
      "--------------------------------------------------------------------\n",
      "Question: What strategies does Instagram employ to ensure financial stability, as seen in its balance sheet?\n",
      "Document retrieved: business_docs_Marketing Plan.md\n",
      "Retrieval time: 0.4070909023284912 seconds\n"
     ]
    },
    {
     "data": {
      "text/markdown": [
       "I apologize, but the provided text focuses on Instagram's marketing plans and does not contain information about the company's financial stability or balance sheet. Therefore, I cannot answer this question from the provided context."
      ],
      "text/plain": [
       "<IPython.core.display.Markdown object>"
      ]
     },
     "metadata": {},
     "output_type": "display_data"
    },
    {
     "name": "stdout",
     "output_type": "stream",
     "text": [
      "Gemini time: 4.507007360458374 seconds\n",
      "Total time: 4.914098262786865 seconds\n",
      "--------------------------------------------------------------------\n",
      "--------------------------------------------------------------------\n",
      "Question: How do the terms of the employment contract boost employee retention?\n",
      "Document retrieved: employee_contracts_employee_contract_Zoe Lee.md\n",
      "Retrieval time: 0.41709351539611816 seconds\n"
     ]
    },
    {
     "data": {
      "text/markdown": [
       "The provided employment contract includes several terms that can contribute to employee retention:\n",
       "\n",
       "**Competitive compensation:** The contract outlines a salary of $90,000 per year, which is likely a competitive rate for the position and industry. Offering fair and competitive compensation can help attract and retain top talent.\n",
       "\n",
       "**Comprehensive benefits package:** The contract mentions a benefits package that includes health insurance and a retirement plan. Providing a comprehensive benefits package can enhance employee satisfaction and make the company more attractive to potential candidates.\n",
       "\n",
       "**Clear expectations and responsibilities:** The contract clearly outlines the employee's responsibilities as a Customer Success Manager, ensuring that both the employee and the company have a shared understanding of the role's expectations. This clarity can help employees feel valued and supported in their work, leading to increased job satisfaction and reduced turnover.\n",
       "\n",
       "**Fair termination policy:** The contract includes a 30-day notice period for termination, which provides a reasonable amount of time for both the employee and the company to prepare for the transition. Fair and transparent termination policies can help build trust and reduce feelings of uncertainty or job insecurity among employees, contributing to retention.\n",
       "\n",
       "**Confidentiality and intellectual property protection:** The contract includes a confidentiality agreement and a clause regarding intellectual property rights, ensuring that the employee understands and agrees to protect the company's sensitive information and intellectual property. This can create a sense of trust and loyalty between the employee and the company, as the employee feels valued and respected for their contributions.\n",
       "\n",
       "Overall, the terms of this employment contract are designed to create a positive and supportive work environment that can boost employee retention by providing competitive compensation, a comprehensive benefits package, clear expectations, fair termination policies, and a sense of trust and loyalty."
      ],
      "text/plain": [
       "<IPython.core.display.Markdown object>"
      ]
     },
     "metadata": {},
     "output_type": "display_data"
    },
    {
     "name": "stdout",
     "output_type": "stream",
     "text": [
      "Gemini time: 8.029794454574585 seconds\n",
      "Total time: 8.446887969970703 seconds\n",
      "--------------------------------------------------------------------\n",
      "--------------------------------------------------------------------\n",
      "Question: How does Instagram's marketing plan adapt to changing market trends and customer preferences?\n",
      "Document retrieved: business_docs_Marketing Plan.md\n",
      "Retrieval time: 0.40809106826782227 seconds\n"
     ]
    },
    {
     "data": {
      "text/markdown": [
       "Instagram's marketing plan is designed to be adaptable and responsive to changing market trends and customer preferences. Here's how Instagram adapts its marketing strategies:\n",
       "\n",
       "**Market Research and Analysis:** Instagram continuously conducts market research and analysis to stay updated on the latest trends and customer preferences in the social media landscape. By understanding the evolving needs and behaviors of its users, Instagram can tailor its marketing strategies to remain relevant and engaging.\n",
       "\n",
       "**Data-Driven Insights:** Instagram leverages data and analytics to gain insights into campaign performance, audience behavior, and industry benchmarks. This data-driven approach allows Instagram to identify what's working well and what needs improvement, enabling the team to make informed decisions and optimize strategies accordingly.\n",
       "\n",
       "**Content Innovation:** Instagram recognizes the importance of creating fresh, engaging, and visually appealing content that resonates with its users. The platform continuously explores new content formats, features, and storytelling techniques to keep its content offering relevant and exciting.\n",
       "\n",
       "**Influencer Collaborations:** Instagram understands the power of influencer marketing and collaborates with influential individuals who align with the brand's values and have a strong following among the target audience. These partnerships allow Instagram to tap into new markets, increase brand credibility, and drive engagement through authentic and relatable content.\n",
       "\n",
       "**Adaptable Strategies:** Instagram's marketing strategies are designed to be adaptable and flexible to accommodate changing market conditions and customer preferences. The team regularly reviews and adjusts its plans based on performance data, user feedback, and industry trends to ensure that Instagram remains competitive and effective in the ever-evolving social media landscape.\n",
       "\n",
       "**User-Centric Approach:** At the core of Instagram's marketing efforts is a user-centric approach. The platform prioritizes understanding and meeting the needs of its users. By listening to feedback, analyzing user behavior, and conducting research, Instagram ensures that its marketing strategies align with the interests and preferences of its audience.\n",
       "\n",
       "Overall, Instagram's marketing plan is characterized by its adaptability, data-driven decision-making, content innovation, strategic partnerships, and a deep understanding of its users. By continuously adapting to changing market trends and customer preferences, Instagram maintains its relevance, engagement, and growth in the competitive social media industry."
      ],
      "text/plain": [
       "<IPython.core.display.Markdown object>"
      ]
     },
     "metadata": {},
     "output_type": "display_data"
    },
    {
     "name": "stdout",
     "output_type": "stream",
     "text": [
      "Gemini time: 9.721171855926514 seconds\n",
      "Total time: 10.129262924194336 seconds\n",
      "--------------------------------------------------------------------\n",
      "--------------------------------------------------------------------\n",
      "Question: What role does diversity, inclusion, and equity play in shaping Instagram's corporate culture?\n",
      "Document retrieved: company_bylaws_Diversity, Equity, and Inclusion.md\n",
      "Retrieval time: 0.4140923023223877 seconds\n"
     ]
    },
    {
     "data": {
      "text/markdown": [
       "Diversity, inclusion, and equity (DEI) play a crucial role in shaping Instagram's corporate culture by creating an environment where everyone feels valued, respected, and empowered to contribute their unique perspectives and experiences. Here's how DEI shapes Instagram's culture:\n",
       "\n",
       "**Belonging and Inclusion:** Instagram actively promotes a culture of inclusion where all voices are heard and diverse perspectives are celebrated. This creates a sense of belonging for employees from all backgrounds, fostering a work environment where everyone feels comfortable bringing their authentic selves to work.\n",
       "\n",
       "**Innovation and Creativity:** Diversity of thought and experience drives innovation and creativity. By embracing DEI, Instagram brings together a wide range of perspectives, skills, and life experiences. This diversity fosters a creative and collaborative work environment where employees can learn from each other and develop innovative solutions.\n",
       "\n",
       "**Employee Engagement and Retention:** When employees feel included and valued, they are more engaged and committed to their work. Instagram's DEI initiatives contribute to employee satisfaction and retention by creating a positive and supportive work culture where everyone has equal opportunities to grow and succeed.\n",
       "\n",
       "**Enhanced User Experience:** Instagram's commitment to DEI extends to its products and features. By considering the needs of diverse user groups, Instagram develops inclusive and accessible products that cater to a global audience. This enhances the user experience and makes Instagram a more welcoming and enjoyable platform for everyone.\n",
       "\n",
       "**Brand Reputation and Value:** Instagram's strong DEI reputation attracts customers, partners, and investors who value diversity and inclusion. By embracing DEI, Instagram aligns with the values of its users and stakeholders, enhancing its brand image and reputation.\n",
       "\n",
       "Overall, DEI is not just a corporate buzzword for Instagram; it's a core value that permeates every aspect of the company's culture. By fostering a diverse, equitable, and inclusive workplace, Instagram empowers its employees, drives innovation, enhances the user experience, and strengthens its brand reputation."
      ],
      "text/plain": [
       "<IPython.core.display.Markdown object>"
      ]
     },
     "metadata": {},
     "output_type": "display_data"
    },
    {
     "name": "stdout",
     "output_type": "stream",
     "text": [
      "Gemini time: 10.693389654159546 seconds\n",
      "Total time: 11.107481956481934 seconds\n",
      "--------------------------------------------------------------------\n",
      "--------------------------------------------------------------------\n",
      "Question: How do Instagram's employee ESOPs align with the company's long-term growth objectives?\n",
      "Document retrieved: employee_esops_employee_esop_Emily Brown.md\n",
      "Retrieval time: 0.4050900936126709 seconds\n"
     ]
    },
    {
     "data": {
      "text/markdown": [
       "Instagram's employee stock ownership plans (ESOPs) align with the company's long-term growth objectives in several ways:\n",
       "\n",
       "**Employee Ownership and Alignment:** ESOPs give employees a sense of ownership in the company, making them more invested in its success. When employees feel like they have a stake in the company's performance, they are more likely to be engaged, motivated, and productive. This alignment of interests between employees and the company contributes to long-term growth by fostering a culture of ownership and responsibility.\n",
       "\n",
       "**Retention and Motivation:** ESOPs can serve as a powerful tool for employee retention and motivation. By providing employees with a financial incentive to stay with the company and contribute to its success, ESOPs help reduce turnover and attract top talent. Motivated and engaged employees are essential for driving innovation, productivity, and long-term growth.\n",
       "\n",
       "**Attracting and Retaining Key Talent:** In a competitive job market, offering ESOPs can be a valuable tool for attracting and retaining key talent. By providing employees with the opportunity to share in the company's success, Instagram can differentiate itself from competitors and build a strong and loyal workforce.\n",
       "\n",
       "**Increased Productivity and Innovation:** When employees feel like they have a stake in the company's success, they are more likely to go the extra mile and contribute their best ideas. ESOPs foster a culture of innovation and productivity, which are crucial for long-term growth and competitiveness.\n",
       "\n",
       "**Enhanced Financial Performance:** Studies have shown a positive correlation between employee ownership and improved financial performance. Companies with ESOPs often exhibit higher levels of profitability, productivity, and shareholder returns. By aligning the interests of employees with the company's long-term success, ESOPs can contribute to overall financial growth and stability.\n",
       "\n",
       "Overall, Instagram's ESOPs are strategically aligned with the company's long-term growth objectives by fostering employee ownership, retention, motivation, and a culture of innovation and productivity. By empowering employees and aligning their interests with the company's success, ESOPs contribute to a positive and sustainable growth trajectory for Instagram."
      ],
      "text/plain": [
       "<IPython.core.display.Markdown object>"
      ]
     },
     "metadata": {},
     "output_type": "display_data"
    },
    {
     "name": "stdout",
     "output_type": "stream",
     "text": [
      "Gemini time: 10.499345779418945 seconds\n",
      "Total time: 10.904435873031616 seconds\n",
      "--------------------------------------------------------------------\n",
      "--------------------------------------------------------------------\n",
      "Question: What impact does Instagram's tax return strategy have on its overall financial health?\n",
      "Document retrieved: business_docs_Progress Report.md\n",
      "Retrieval time: 0.38808703422546387 seconds\n"
     ]
    },
    {
     "data": {
      "text/markdown": [
       "The provided text does not contain any information about Instagram's tax return strategy or its impact on the company's overall financial health, so I cannot answer this question from the provided context."
      ],
      "text/plain": [
       "<IPython.core.display.Markdown object>"
      ]
     },
     "metadata": {},
     "output_type": "display_data"
    },
    {
     "name": "stdout",
     "output_type": "stream",
     "text": [
      "Gemini time: 5.180157423019409 seconds\n",
      "Total time: 5.568244457244873 seconds\n",
      "--------------------------------------------------------------------\n",
      "--------------------------------------------------------------------\n",
      "Question: How does Instagram's progress report reflect the company's performance compared to competitors?\n",
      "Document retrieved: business_docs_Progress Report.md\n",
      "Retrieval time: 0.40609097480773926 seconds\n"
     ]
    },
    {
     "data": {
      "text/markdown": [
       "The provided text does not include any information about Instagram's competitors or the company's performance relative to them, so I cannot answer this question from the provided context."
      ],
      "text/plain": [
       "<IPython.core.display.Markdown object>"
      ]
     },
     "metadata": {},
     "output_type": "display_data"
    },
    {
     "name": "stdout",
     "output_type": "stream",
     "text": [
      "Gemini time: 6.4064319133758545 seconds\n",
      "Total time: 6.812522888183594 seconds\n",
      "--------------------------------------------------------------------\n",
      "--------------------------------------------------------------------\n",
      "Question: What are the implications of Instagram's shareholder agreements on corporate governance?\n",
      "Document retrieved: company_bylaws_Shareholders.md\n",
      "Retrieval time: 0.418093204498291 seconds\n"
     ]
    },
    {
     "data": {
      "text/markdown": [
       "**Shareholder Agreements and Corporate Governance:** Shareholder agreements are legal contracts that outline the rights, responsibilities, and relationships between shareholders and the company. These agreements have significant implications for corporate governance, which refers to the system of rules, practices, and processes by which a company is directed and controlled.\n",
       "\n",
       "**Ownership and Control:** In the case of Instagram, Facebook Inc. holds 100% of the shares, giving it complete ownership and control of the company. This means that Facebook Inc. has the ultimate authority to make decisions regarding Instagram's operations, strategy, and future direction.\n",
       "\n",
       "**Board of Directors:** Shareholder agreements often specify the composition and powers of the board of directors. In the case of Instagram, the Chairman of the Board is a major shareholder (John Smith), indicating that shareholders have a strong voice in the governance of the company.\n",
       "\n",
       "**Transparency and Accountability:** While Instagram is a private company, it recognizes the importance of transparency and accountability to its community. By providing information about its major shareholders and their roles, Instagram aims to build trust and demonstrate its commitment to responsible corporate governance.\n",
       "\n",
       "**Alignment of Interests:** Shareholder agreements help align the interests of shareholders with the long-term success of the company. When shareholders have a significant stake in the company's performance, they are more likely to make decisions that benefit the company and its stakeholders, including employees, customers, and the broader community.\n",
       "\n",
       "Overall, Instagram's shareholder agreements play a crucial role in shaping corporate governance by establishing clear ownership structures, defining the roles and responsibilities of shareholders and the board of directors, and promoting transparency and accountability to ensure the long-term success and sustainability of the company."
      ],
      "text/plain": [
       "<IPython.core.display.Markdown object>"
      ]
     },
     "metadata": {},
     "output_type": "display_data"
    },
    {
     "name": "stdout",
     "output_type": "stream",
     "text": [
      "Gemini time: 9.986231565475464 seconds\n",
      "Total time: 10.405324935913086 seconds\n",
      "--------------------------------------------------------------------\n",
      "--------------------------------------------------------------------\n",
      "Question: How does Instagram's balance sheet reflect its investment and financial decision-making?\n",
      "Document retrieved: business_docs_Progress Report.md\n",
      "Retrieval time: 0.38808655738830566 seconds\n"
     ]
    },
    {
     "data": {
      "text/markdown": [
       "The provided text does not contain any information about Instagram's balance sheet or financial decision-making, so I cannot answer this question from the provided context."
      ],
      "text/plain": [
       "<IPython.core.display.Markdown object>"
      ]
     },
     "metadata": {},
     "output_type": "display_data"
    },
    {
     "name": "stdout",
     "output_type": "stream",
     "text": [
      "Gemini time: 5.394205570220947 seconds\n",
      "Total time: 5.783292293548584 seconds\n",
      "--------------------------------------------------------------------\n",
      "--------------------------------------------------------------------\n",
      "Question: What are the challenges faced by Instagram's board of directors in maintaining transparency and accountability?\n",
      "Document retrieved: company_bylaws_Board of Directors.md\n",
      "Retrieval time: 0.38608646392822266 seconds\n"
     ]
    },
    {
     "data": {
      "text/markdown": [
       "**Challenges in Maintaining Transparency and Accountability:** Despite the commitment of Instagram's board of directors to transparency and accountability, there are several challenges they may face:\n",
       "\n",
       "**Balancing Stakeholder Interests:** The board must navigate the sometimes competing interests of different stakeholders, including shareholders, employees, users, and the broader community. Striking a balance between maximizing shareholder value and fulfilling the company's social responsibilities can be a delicate task.\n",
       "\n",
       "**Regulatory Scrutiny:** Instagram operates in a rapidly evolving regulatory landscape, with governments around the world implementing new laws and regulations related to social media, data privacy, and content moderation. The board must stay abreast of these regulations and ensure that Instagram complies with all applicable laws, which can be complex and challenging.\n",
       "\n",
       "**Managing Public Perception:** As a highly visible social media platform, Instagram is constantly in the public eye. The board must manage Instagram's reputation and respond effectively to public criticism or controversies that may arise. Maintaining transparency and accountability is crucial for building and preserving public trust.\n",
       "\n",
       "**Balancing Innovation and Safety:** Instagram must continually innovate and introduce new features to remain competitive and meet the evolving needs of its users. However, the board must also ensure that these innovations do not compromise user safety or privacy. Striking the right balance between innovation and safety is an ongoing challenge for the board.\n",
       "\n",
       "Despite these challenges, Instagram's board of directors is committed to maintaining high standards of transparency and accountability. By engaging with stakeholders, responding to feedback, and adhering to ethical and legal guidelines, the board aims to foster a culture of trust and ensure that Instagram operates in a responsible and sustainable manner."
      ],
      "text/plain": [
       "<IPython.core.display.Markdown object>"
      ]
     },
     "metadata": {},
     "output_type": "display_data"
    },
    {
     "name": "stdout",
     "output_type": "stream",
     "text": [
      "Gemini time: 10.360315084457397 seconds\n",
      "Total time: 10.74640154838562 seconds\n",
      "--------------------------------------------------------------------\n",
      "--------------------------------------------------------------------\n",
      "Question: How does Instagram's marketing plan integrate digital and traditional marketing channels for maximum impact?\n",
      "Document retrieved: business_docs_Marketing Plan.md\n",
      "Retrieval time: 0.40609097480773926 seconds\n"
     ]
    },
    {
     "data": {
      "text/markdown": [
       "Instagram's marketing plan integrates digital and traditional marketing channels to maximize its impact in several ways:\n",
       "\n",
       "**Digital Marketing:** Instagram leverages its social media platform as a primary digital marketing channel. It utilizes targeted advertising, influencer partnerships, and content creation to reach its vast user base. By creating engaging and shareable content, Instagram attracts and retains users, driving brand awareness and engagement.\n",
       "\n",
       "**Traditional Marketing:** While Instagram primarily focuses on digital marketing, it also incorporates traditional marketing channels to complement its digital efforts. For example, Instagram has been known to use print advertising, billboards, and TV commercials to promote its platform and specific campaigns. These traditional channels help Instagram reach a broader audience and build brand recognition beyond its digital presence.\n",
       "\n",
       "**Integration and Synergy:** Instagram's marketing plan effectively integrates digital and traditional channels to create a synergistic effect. By using both digital and traditional channels, Instagram can reach a wider audience and reinforce its messaging across multiple platforms. This multi-channel approach helps Instagram maximize its impact, increase brand visibility, and drive engagement.\n",
       "\n",
       "**Targeted Advertising:** Instagram's targeted advertising capabilities allow it to precisely reach specific audience segments based on their demographics, interests, and behaviors. This enables Instagram to deliver highly relevant ads to users, increasing the likelihood of engagement and conversions.\n",
       "\n",
       "**Influencer Collaborations:** Instagram's influencer marketing program connects brands with influential individuals who have a dedicated following on the platform. These collaborations allow Instagram to tap into the credibility and reach of influencers, helping brands build trust and authenticity with their target audience.\n",
       "\n",
       "**Content Creation:** Instagram's focus on content creation is central to its marketing strategy. The platform encourages users to share photos, videos, and stories, creating a vast pool of user-generated content. Instagram also produces original content, such as IGTV shows and Reels, to entertain and engage its users.\n",
       "\n",
       "Overall, Instagram's marketing plan is a well-rounded integration of digital and traditional marketing channels that maximizes its impact, builds brand awareness, drives engagement, and supports its overall growth strategy."
      ],
      "text/plain": [
       "<IPython.core.display.Markdown object>"
      ]
     },
     "metadata": {},
     "output_type": "display_data"
    },
    {
     "name": "stdout",
     "output_type": "stream",
     "text": [
      "Gemini time: 13.435001373291016 seconds\n",
      "Total time: 13.841092348098755 seconds\n",
      "--------------------------------------------------------------------\n"
     ]
    }
   ],
   "source": [
    "for q in questions:\n",
    "    print(\"--------------------------------------------------------------------\")\n",
    "    print(f\"Question: {q}\")\n",
    "    gemini_result = generate_responses(q,collection)\n",
    "    print(\"--------------------------------------------------------------------\")"
   ]
  },
  {
   "cell_type": "code",
   "execution_count": 8,
   "metadata": {},
   "outputs": [],
   "source": [
    "question_multihop = [\n",
    "\"Given Instagram's progress report data, what are the key factors influencing its marketing strategy?\",\n",
    "\"How do Instagram's shareholder agreements align with the company's long-term goals and vision?\",\n",
    "\"Considering Instagram's board of directors and diversity initiatives, how are decisions made to promote inclusion within the company?\",\n",
    "\"By analyzing Instagram's income statement and balance sheet, what insights can be drawn regarding its financial performance and future projections?\",\n",
    "\"Exploring Instagram's employee ESOPs and payslip details, how does the company incentivize employee retention and satisfaction?\",\n",
    "\"By analyzing Instagram's progress report and employee contracts, what insights can be drawn regarding the company's growth trajectory and workforce management strategies?\",\n",
    "\"Considering Instagram's marketing plan, shareholder agreements, and balance sheet data, how does the company plan to expand its market share while maintaining financial stability?\",\n",
    "\"How do Instagram's employee ESOPs, diversity initiatives, and progress report metrics contribute to its reputation as an employer of choice?\",\n",
    "\"Given Instagram's tax return history, shareholder agreements, and board of directors' decisions, what strategies does the company employ to manage financial risks and compliance?\",\n",
    "\"How do Instagram's marketing strategies, employee payslip structures, and balance sheet figures align with its mission and values?\",\n",
    "\"Exploring Instagram's progress report, business proposal, and diversity initiatives, what are the key drivers of the company's competitive advantage?\",\n",
    "\"By examining Instagram's marketing plan, employee contracts, and income statement details, how does the company ensure ethical marketing practices and financial transparency?\",\n",
    "\"What insights can be gained from analyzing Instagram's shareholder agreements, progress report metrics, and employee ESOPs regarding the company's commitment to sustainability and social responsibility?\",\n",
    "\"Considering Instagram's tax return data, board of directors' decisions, and employee payslip information, how does the company foster a culture of innovation and continuous improvement?\",\n",
    "\"Based on Instagram's marketing strategies, balance sheet trends, and diversity metrics, what recommendations can be made to enhance the company's overall performance and stakeholder value?\"\n",
    "]"
   ]
  },
  {
   "cell_type": "code",
   "execution_count": 9,
   "metadata": {},
   "outputs": [
    {
     "name": "stdout",
     "output_type": "stream",
     "text": [
      "--------------------------------------------------------------------\n",
      "Question: Given Instagram's progress report data, what are the key factors influencing its marketing strategy?\n",
      "Document retrieved: business_docs_Progress Report.md\n",
      "Retrieval time: 1.6163609027862549 seconds\n"
     ]
    },
    {
     "data": {
      "text/markdown": [
       "The provided progress report does not contain specific information about Instagram's marketing strategy or the factors influencing it. Therefore, I cannot answer this question from the provided context."
      ],
      "text/plain": [
       "<IPython.core.display.Markdown object>"
      ]
     },
     "metadata": {},
     "output_type": "display_data"
    },
    {
     "name": "stdout",
     "output_type": "stream",
     "text": [
      "Gemini time: 4.551016807556152 seconds\n",
      "Total time: 6.167377710342407 seconds\n",
      "--------------------------------------------------------------------\n",
      "--------------------------------------------------------------------\n",
      "Question: How do Instagram's shareholder agreements align with the company's long-term goals and vision?\n",
      "Document retrieved: company_bylaws_Shareholders.md\n",
      "Retrieval time: 0.4120924472808838 seconds\n"
     ]
    },
    {
     "data": {
      "text/markdown": [
       "Instagram's shareholder agreements align with the company's long-term goals and vision by establishing a clear ownership structure and aligning the interests of shareholders with the company's success. Here's how:\n",
       "\n",
       "**Control and Decision-Making:** As the sole owner of Instagram, Facebook Inc. has complete control over the company's strategic direction, decision-making, and resource allocation. This centralized control allows Facebook to ensure that Instagram's long-term goals and vision are aligned with its own overall strategy.\n",
       "\n",
       "**Alignment of Interests:** The shareholdings of major shareholders, such as the CEO, Chairman of the Board, and CFO, are significant. This alignment of interests incentivizes these key individuals to make decisions that benefit the company's long-term growth and profitability. When the interests of shareholders are aligned with the company's success, it reduces the risk of short-term or self-serving decisions that could jeopardize Instagram's long-term goals.\n",
       "\n",
       "**Financial Stability and Growth:** The financial resources and support provided by Facebook Inc. contribute to Instagram's financial stability and growth. Facebook's investment in Instagram allows the company to invest in new features, expand its user base, and pursue strategic acquisitions. This financial backing supports Instagram's long-term vision of becoming a leading player in the social media and visual storytelling space.\n",
       "\n",
       "**Innovation and Adaptability:** Shareholder agreements can provide a framework for innovation and adaptability. By allowing Facebook Inc. to have ultimate control over Instagram's direction, the company can quickly respond to changing market trends, technological advancements, and competitive pressures. This flexibility enables Instagram to remain innovative and adapt to the evolving needs of its users and the industry.\n",
       "\n",
       "Overall, Instagram's shareholder agreements are designed to align the interests of shareholders with the company's long-term goals and vision. By establishing clear ownership structures, incentivizing key individuals, providing financial stability, and fostering innovation, these agreements contribute to Instagram's sustainable growth and success in the competitive social media landscape."
      ],
      "text/plain": [
       "<IPython.core.display.Markdown object>"
      ]
     },
     "metadata": {},
     "output_type": "display_data"
    },
    {
     "name": "stdout",
     "output_type": "stream",
     "text": [
      "Gemini time: 14.718289136886597 seconds\n",
      "Total time: 15.131381511688232 seconds\n",
      "--------------------------------------------------------------------\n",
      "--------------------------------------------------------------------\n",
      "Question: Considering Instagram's board of directors and diversity initiatives, how are decisions made to promote inclusion within the company?\n",
      "Document retrieved: company_bylaws_Diversity, Equity, and Inclusion.md\n",
      "Retrieval time: 0.3900871276855469 seconds\n"
     ]
    },
    {
     "data": {
      "text/markdown": [
       "Instagram's board of directors and diversity initiatives play a crucial role in promoting inclusion within the company through the following mechanisms:\n",
       "\n",
       "**Diversity on the Board:** The composition of Instagram's board of directors reflects the company's commitment to diversity and inclusion. The board includes individuals with diverse backgrounds, experiences, and perspectives, ensuring that a range of viewpoints are considered in decision-making.\n",
       "\n",
       "**Inclusive Decision-Making:** The board of directors sets the tone for inclusive decision-making by valuing and soliciting input from all members. By fostering a culture of respect and open dialogue, the board ensures that diverse perspectives are heard and considered in the decision-making process.\n",
       "\n",
       "**DEI Policies and Initiatives:** The board oversees the development and implementation of DEI policies and initiatives throughout the company. These policies and initiatives aim to create an inclusive work environment, promote equity and fairness, and foster a sense of belonging for all employees.\n",
       "\n",
       "**Accountability and Oversight:** The board of directors provides oversight and accountability for Instagram's DEI efforts. They regularly review the company's progress in promoting inclusion and ensure that management is taking the necessary steps to create a diverse and equitable workplace.\n",
       "\n",
       "**Employee Resource Groups:** Instagram supports Employee Resource Groups (ERGs) that provide a platform for employees from underrepresented groups to connect, share experiences, and advocate for inclusion. The board recognizes the importance of ERGs in fostering a sense of community and belonging for employees from diverse backgrounds.\n",
       "\n",
       "**Training and Education:** The board encourages and supports ongoing training and education programs for employees on topics related to diversity, equity, and inclusion. These programs aim to raise awareness, promote understanding, and equip employees with the skills needed to create a more inclusive workplace.\n",
       "\n",
       "**External Partnerships:** The board supports Instagram's collaboration with external organizations and communities that share the company's commitment to DEI. These partnerships allow Instagram to learn from best practices, amplify its impact, and contribute to broader efforts to promote inclusion in the tech industry and beyond.\n",
       "\n",
       "Overall, Instagram's board of directors and diversity initiatives work together to create a framework for promoting inclusion within the company. By valuing diversity, fostering inclusive decision-making, implementing DEI policies, providing oversight, and supporting employee-led initiatives, Instagram aims to create a workplace where everyone feels respected, valued, and empowered to contribute their unique perspectives."
      ],
      "text/plain": [
       "<IPython.core.display.Markdown object>"
      ]
     },
     "metadata": {},
     "output_type": "display_data"
    },
    {
     "name": "stdout",
     "output_type": "stream",
     "text": [
      "Gemini time: 16.973793029785156 seconds\n",
      "Total time: 17.363880157470703 seconds\n",
      "--------------------------------------------------------------------\n",
      "--------------------------------------------------------------------\n",
      "Question: By analyzing Instagram's income statement and balance sheet, what insights can be drawn regarding its financial performance and future projections?\n",
      "Document retrieved: financial_docs_Income Statement.md\n",
      "Retrieval time: 0.41309237480163574 seconds\n"
     ]
    },
    {
     "data": {
      "text/markdown": [
       "I am unable to provide insights into Instagram's financial performance and future projections as the provided text does not contain an income statement or balance sheet for Instagram."
      ],
      "text/plain": [
       "<IPython.core.display.Markdown object>"
      ]
     },
     "metadata": {},
     "output_type": "display_data"
    },
    {
     "name": "stdout",
     "output_type": "stream",
     "text": [
      "Gemini time: 9.580140829086304 seconds\n",
      "Total time: 9.99323320388794 seconds\n",
      "--------------------------------------------------------------------\n",
      "--------------------------------------------------------------------\n",
      "Question: Exploring Instagram's employee ESOPs and payslip details, how does the company incentivize employee retention and satisfaction?\n",
      "Document retrieved: employee_esops_employee_esop_John Doe.md\n",
      "Retrieval time: 0.3900876045227051 seconds\n"
     ]
    },
    {
     "data": {
      "text/markdown": [
       "I cannot provide insights into Instagram's employee retention and satisfaction strategies as the provided text only includes details about an Employee Stock Ownership Plan (ESOP) but does not mention payslip details or other employee incentive programs."
      ],
      "text/plain": [
       "<IPython.core.display.Markdown object>"
      ]
     },
     "metadata": {},
     "output_type": "display_data"
    },
    {
     "name": "stdout",
     "output_type": "stream",
     "text": [
      "Gemini time: 9.27907395362854 seconds\n",
      "Total time: 9.670161247253418 seconds\n",
      "--------------------------------------------------------------------\n",
      "--------------------------------------------------------------------\n",
      "Question: By analyzing Instagram's progress report and employee contracts, what insights can be drawn regarding the company's growth trajectory and workforce management strategies?\n",
      "Document retrieved: business_docs_Progress Report.md\n",
      "Retrieval time: 0.4140925407409668 seconds\n"
     ]
    },
    {
     "data": {
      "text/markdown": [
       "I cannot provide insights into Instagram's growth trajectory and workforce management strategies as the provided text does not include employee contracts or specific information on these topics."
      ],
      "text/plain": [
       "<IPython.core.display.Markdown object>"
      ]
     },
     "metadata": {},
     "output_type": "display_data"
    },
    {
     "name": "stdout",
     "output_type": "stream",
     "text": [
      "Gemini time: 9.735175132751465 seconds\n",
      "Total time: 10.149267673492432 seconds\n",
      "--------------------------------------------------------------------\n",
      "--------------------------------------------------------------------\n",
      "Question: Considering Instagram's marketing plan, shareholder agreements, and balance sheet data, how does the company plan to expand its market share while maintaining financial stability?\n",
      "Document retrieved: business_docs_Marketing Plan.md\n",
      "Retrieval time: 0.38608622550964355 seconds\n"
     ]
    },
    {
     "data": {
      "text/markdown": [
       "I cannot provide insights into Instagram's plans for expanding market share while maintaining financial stability as the provided text does not include shareholder agreements or balance sheet data."
      ],
      "text/plain": [
       "<IPython.core.display.Markdown object>"
      ]
     },
     "metadata": {},
     "output_type": "display_data"
    },
    {
     "name": "stdout",
     "output_type": "stream",
     "text": [
      "Gemini time: 9.092031478881836 seconds\n",
      "Total time: 9.47811770439148 seconds\n",
      "--------------------------------------------------------------------\n",
      "--------------------------------------------------------------------\n",
      "Question: How do Instagram's employee ESOPs, diversity initiatives, and progress report metrics contribute to its reputation as an employer of choice?\n",
      "Document retrieved: employee_esops_employee_esop_Emily Brown.md\n",
      "Retrieval time: 0.4090909957885742 seconds\n"
     ]
    },
    {
     "data": {
      "text/markdown": [
       "I cannot provide insights into Instagram's reputation as an employer of choice or how its ESOPs, diversity initiatives, and progress report metrics contribute to it as the provided text does not include information on these topics."
      ],
      "text/plain": [
       "<IPython.core.display.Markdown object>"
      ]
     },
     "metadata": {},
     "output_type": "display_data"
    },
    {
     "name": "stdout",
     "output_type": "stream",
     "text": [
      "Gemini time: 10.568361282348633 seconds\n",
      "Total time: 10.977452278137207 seconds\n",
      "--------------------------------------------------------------------\n",
      "--------------------------------------------------------------------\n",
      "Question: Given Instagram's tax return history, shareholder agreements, and board of directors' decisions, what strategies does the company employ to manage financial risks and compliance?\n",
      "Document retrieved: hr_docs_filled_Employee Handbook.md\n",
      "Retrieval time: 0.42609453201293945 seconds\n"
     ]
    },
    {
     "data": {
      "text/markdown": [
       "I cannot provide insights into Instagram's strategies for managing financial risks and compliance as the provided text does not include information on tax return history, shareholder agreements, or board of directors' decisions."
      ],
      "text/plain": [
       "<IPython.core.display.Markdown object>"
      ]
     },
     "metadata": {},
     "output_type": "display_data"
    },
    {
     "name": "stdout",
     "output_type": "stream",
     "text": [
      "Gemini time: 9.429107189178467 seconds\n",
      "Total time: 9.855201721191406 seconds\n",
      "--------------------------------------------------------------------\n",
      "--------------------------------------------------------------------\n",
      "Question: How do Instagram's marketing strategies, employee payslip structures, and balance sheet figures align with its mission and values?\n",
      "Document retrieved: hr_docs_filled_Employee Handbook.md\n",
      "Retrieval time: 0.40809106826782227 seconds\n"
     ]
    },
    {
     "data": {
      "text/markdown": [
       "The provided text does not include information on Instagram's marketing strategies, employee payslip structures, or balance sheet figures, so I cannot provide insights into their alignment with the company's mission and values."
      ],
      "text/plain": [
       "<IPython.core.display.Markdown object>"
      ]
     },
     "metadata": {},
     "output_type": "display_data"
    },
    {
     "name": "stdout",
     "output_type": "stream",
     "text": [
      "Gemini time: 9.559136629104614 seconds\n",
      "Total time: 9.967227697372437 seconds\n",
      "--------------------------------------------------------------------\n",
      "--------------------------------------------------------------------\n",
      "Question: Exploring Instagram's progress report, business proposal, and diversity initiatives, what are the key drivers of the company's competitive advantage?\n",
      "Document retrieved: business_docs_Business Proposal.md\n",
      "Retrieval time: 0.38408613204956055 seconds\n"
     ]
    },
    {
     "data": {
      "text/markdown": [
       "I am unable to provide insights into Instagram's competitive advantage as the provided text does not include a progress report or information on diversity initiatives."
      ],
      "text/plain": [
       "<IPython.core.display.Markdown object>"
      ]
     },
     "metadata": {},
     "output_type": "display_data"
    },
    {
     "name": "stdout",
     "output_type": "stream",
     "text": [
      "Gemini time: 12.77185320854187 seconds\n",
      "Total time: 13.156939506530762 seconds\n",
      "--------------------------------------------------------------------\n",
      "--------------------------------------------------------------------\n",
      "Question: By examining Instagram's marketing plan, employee contracts, and income statement details, how does the company ensure ethical marketing practices and financial transparency?\n",
      "Document retrieved: business_docs_Marketing Plan.md\n",
      "Retrieval time: 0.4100914001464844 seconds\n"
     ]
    },
    {
     "data": {
      "text/markdown": [
       "I am unable to provide insights into Instagram's ethical marketing practices and financial transparency as the provided text does not include employee contracts or income statement details."
      ],
      "text/plain": [
       "<IPython.core.display.Markdown object>"
      ]
     },
     "metadata": {},
     "output_type": "display_data"
    },
    {
     "name": "stdout",
     "output_type": "stream",
     "text": [
      "Gemini time: 10.562360286712646 seconds\n",
      "Total time: 10.973452091217041 seconds\n",
      "--------------------------------------------------------------------\n",
      "--------------------------------------------------------------------\n",
      "Question: What insights can be gained from analyzing Instagram's shareholder agreements, progress report metrics, and employee ESOPs regarding the company's commitment to sustainability and social responsibility?\n",
      "Document retrieved: employee_esops_employee_esop_David Lee.md\n",
      "Retrieval time: 0.40208959579467773 seconds\n"
     ]
    },
    {
     "data": {
      "text/markdown": [
       "The provided text does not include information on shareholder agreements, progress report metrics, or the company's commitment to sustainability and social responsibility, so I cannot provide insights into these aspects."
      ],
      "text/plain": [
       "<IPython.core.display.Markdown object>"
      ]
     },
     "metadata": {},
     "output_type": "display_data"
    },
    {
     "name": "stdout",
     "output_type": "stream",
     "text": [
      "Gemini time: 9.20505690574646 seconds\n",
      "Total time: 9.607146501541138 seconds\n",
      "--------------------------------------------------------------------\n",
      "--------------------------------------------------------------------\n",
      "Question: Considering Instagram's tax return data, board of directors' decisions, and employee payslip information, how does the company foster a culture of innovation and continuous improvement?\n",
      "Document retrieved: hr_docs_filled_Employee Handbook.md\n",
      "Retrieval time: 0.40409016609191895 seconds\n"
     ]
    },
    {
     "data": {
      "text/markdown": [
       "I am unable to provide insights into Instagram's culture of innovation and continuous improvement as the provided text does not include tax return data, board of directors' decisions, or employee payslip information."
      ],
      "text/plain": [
       "<IPython.core.display.Markdown object>"
      ]
     },
     "metadata": {},
     "output_type": "display_data"
    },
    {
     "name": "stdout",
     "output_type": "stream",
     "text": [
      "Gemini time: 9.002514362335205 seconds\n",
      "Total time: 9.406604528427124 seconds\n",
      "--------------------------------------------------------------------\n",
      "--------------------------------------------------------------------\n",
      "Question: Based on Instagram's marketing strategies, balance sheet trends, and diversity metrics, what recommendations can be made to enhance the company's overall performance and stakeholder value?\n",
      "Document retrieved: business_docs_Marketing Plan.md\n",
      "Retrieval time: 0.4090914726257324 seconds\n"
     ]
    },
    {
     "data": {
      "text/markdown": [
       "I am unable to provide recommendations to enhance Instagram's overall performance and stakeholder value as the provided text does not include balance sheet trends or diversity metrics."
      ],
      "text/plain": [
       "<IPython.core.display.Markdown object>"
      ]
     },
     "metadata": {},
     "output_type": "display_data"
    },
    {
     "name": "stdout",
     "output_type": "stream",
     "text": [
      "Gemini time: 9.140545845031738 seconds\n",
      "Total time: 9.54963731765747 seconds\n",
      "--------------------------------------------------------------------\n"
     ]
    }
   ],
   "source": [
    "for q in question_multihop:\n",
    "    print(\"--------------------------------------------------------------------\")\n",
    "    print(f\"Question: {q}\")\n",
    "    gemini_result = generate_responses(q,collection)\n",
    "    print(\"--------------------------------------------------------------------\")"
   ]
  },
  {
   "cell_type": "code",
   "execution_count": null,
   "metadata": {},
   "outputs": [],
   "source": []
  }
 ],
 "metadata": {
  "kernelspec": {
   "display_name": "rag_env",
   "language": "python",
   "name": "python3"
  },
  "language_info": {
   "codemirror_mode": {
    "name": "ipython",
    "version": 3
   },
   "file_extension": ".py",
   "mimetype": "text/x-python",
   "name": "python",
   "nbconvert_exporter": "python",
   "pygments_lexer": "ipython3",
   "version": "3.10.0"
  }
 },
 "nbformat": 4,
 "nbformat_minor": 2
}
