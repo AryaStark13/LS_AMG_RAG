{
 "cells": [
  {
   "cell_type": "code",
   "execution_count": 20,
   "metadata": {},
   "outputs": [],
   "source": [
    "from IPython.display import display, Markdown\n",
    "import os\n",
    "from LS_AMG_RAG.data_snythesis import prompt_utils\n",
    "import google.generativeai as palm\n",
    "\n",
    "import chromadb\n",
    "import chromadb.utils.embedding_functions as embedding_functions\n",
    "chroma_client = chromadb.Client()\n",
    "gemini = prompt_utils.Gemini()\n",
    "google_ef  = embedding_functions.GoogleGenerativeAiEmbeddingFunction(api_key=os.environ['GEMINI_API_KEY'])"
   ]
  },
  {
   "cell_type": "code",
   "execution_count": 6,
   "metadata": {},
   "outputs": [],
   "source": [
    "documents = []\n",
    "metadata = []\n",
    "ids = []\n",
    "for idx, file_name in enumerate(os.listdir(\"../data/business_docs\")):\n",
    "    with open(f\"../data/business_docs/{file_name}\", \"r\") as f:\n",
    "        file_contents = f.read()\n",
    "        documents.append(file_contents)\n",
    "        metadata.append({\n",
    "            \"type\": \"business document\",\n",
    "        })\n",
    "        ids.append(f\"business_doc_{idx}\")"
   ]
  },
  {
   "cell_type": "code",
   "execution_count": 13,
   "metadata": {},
   "outputs": [
    {
     "name": "stdout",
     "output_type": "stream",
     "text": [
      "models/chat-bison-001\n",
      "models/text-bison-001\n",
      "models/embedding-gecko-001\n",
      "models/gemini-1.0-pro\n",
      "models/gemini-1.0-pro-001\n",
      "models/gemini-1.0-pro-latest\n",
      "models/gemini-1.0-pro-vision-latest\n",
      "models/gemini-pro\n",
      "models/gemini-pro-vision\n",
      "models/embedding-001\n",
      "models/aqa\n"
     ]
    }
   ],
   "source": [
    "for m in palm.list_models():\n",
    "    print(m.name)"
   ]
  },
  {
   "cell_type": "code",
   "execution_count": 21,
   "metadata": {},
   "outputs": [],
   "source": [
    "collection = chroma_client.create_collection(name=\"my_collection\", embedding_function=google_ef)"
   ]
  },
  {
   "cell_type": "code",
   "execution_count": 22,
   "metadata": {},
   "outputs": [],
   "source": [
    "collection.add(\n",
    "    documents=documents,\n",
    "    metadatas=metadata,\n",
    "    ids=ids,\n",
    ")"
   ]
  },
  {
   "cell_type": "code",
   "execution_count": 23,
   "metadata": {},
   "outputs": [
    {
     "name": "stdout",
     "output_type": "stream",
     "text": [
      "{\n",
      "  \"ids\": [\n",
      "    \"business_doc_0\",\n",
      "    \"business_doc_1\",\n",
      "    \"business_doc_2\"\n",
      "  ],\n",
      "  \"embeddings\": null,\n",
      "  \"metadatas\": [\n",
      "    {\n",
      "      \"type\": \"business document\"\n",
      "    },\n",
      "    {\n",
      "      \"type\": \"business document\"\n",
      "    },\n",
      "    {\n",
      "      \"type\": \"business document\"\n",
      "    }\n",
      "  ],\n",
      "  \"documents\": [\n",
      "    \"\\n### Company Name: Instagram\\n### Category of Document: Business Proposal\\n\\n---\\n\\n#### **Business Proposal 1: Social Media Marketing Services**\\n\\n**Executive Summary:**\\nInstagram offers comprehensive social media marketing services tailored to enhance brand presence and engagement. With a team of experienced digital marketers, we aim to elevate your social media strategy and maximize audience reach.\\n\\n**Company Overview:**\\nInstagram, a leader in social media platforms, leverages its expertise and innovative tools to deliver impactful marketing solutions. Our focus on visual content and community engagement sets us apart in the industry.\\n\\n**Problem Statement:**\\nMany businesses struggle to effectively utilize social media for brand promotion and customer interaction, leading to missed opportunities for growth and visibility.\\n\\n**Proposed Solution:**\\nOur social media marketing services encompass strategic content creation, optimized ad campaigns, targeted audience analysis, and performance tracking to ensure impactful results for your brand.\\n\\n**Pricing:**\\nOur pricing structure is flexible and customized based on the scope of services required. We offer competitive rates to cater to businesses of all sizes.\\n\\n**Terms and Conditions:**\\nTerms of engagement include a detailed service agreement outlining deliverables, timelines, reporting mechanisms, and confidentiality clauses for a transparent partnership.\\n\\n**Timeline:**\\nThe implementation of social media marketing services will be orchestrated in phases, with measurable goals and milestones outlined for each stage of the campaign.\\n\\n**Contact Information:**\\nFor inquiries and further discussion on our social media marketing services, please contact our dedicated team at business@instagram.com.\\n\\n---\\n\\n#### **Business Proposal 2: Influencer Collaboration Services**\\n\\n**Executive Summary:**\\nInstagram presents a unique opportunity for brands to collaborate with influencers and leverage their reach and credibility to drive brand awareness and engagement. Our influencer collaboration services aim to connect brands with relevant influencers for impactful partnerships.\\n\\n**Company Overview:**\\nAs a pioneer in visual content sharing, Instagram has established itself as a hub for influencer marketing collaborations, offering brands a platform to amplify their voice and connect with their target audience.\\n\\n**Problem Statement:**\\nIdentifying and engaging the right influencers for brand partnerships can be a daunting task for many businesses, leading to missed opportunities for authentic promotion and audience engagement.\\n\\n**Proposed Solution:**\\nOur influencer collaboration services involve influencer discovery, outreach, negotiation, campaign management, and performance analysis to ensure successful partnerships that resonate with your brand values.\\n\\n**Pricing:**\\nOur pricing model for influencer collaborations is transparent and based on factors such as influencer reach, engagement rates, content requirements, and campaign duration.\\n\\n**Terms and Conditions:**\\nA comprehensive agreement will outline the terms of collaboration, including influencer selection criteria, content approvals, compensation details, and exclusivity clauses for mutual benefit and clarity.\\n\\n**Timeline:**\\nEach influencer collaboration campaign will be meticulously planned and executed to align with your brand objectives, with regular performance reviews and optimizations throughout the partnership.\\n\\n**Contact Information:**\\nFor inquiries and to explore influencer collaboration opportunities, please reach out to our team at partnerships@instagram.com.\\n\\n---\\n\\n#### **Business Proposal 3: Content Creation and Curation Services**\\n\\n**Executive Summary:**\\nInstagram offers specialized content creation and curation services to elevate your brand's visual presence and storytelling on the platform. Our creative team aims to deliver engaging and visually appealing content that resonates with your audience.\\n\\n**Company Overview:**\\nWith a deep understanding of visual storytelling and community engagement, Instagram provides brands with the tools and expertise to craft compelling content that drives user interaction and loyalty.\\n\\n**Problem Statement:**\\nMany businesses struggle to maintain a consistent and compelling content strategy on social media platforms, hindering their ability to connect with their audience and drive meaningful engagement.\\n\\n**Proposed Solution:**\\nOur content creation and curation services include bespoke content planning, photo and video production\",\n",
      "    \"\\n### Company Name: Instagram\\n### Category of Document: Business Document\\n### Document Title: Marketing Plan\\n\\n---\\n\\n#### **Marketing Plan for Social Media Marketing Services**\\n\\n**Market Analysis:**\\n- Analysis of current social media marketing trends and competitive landscape.\\n- Identification of key target industries and potential clients for social media marketing services.\\n\\n**Target Audience:**\\n- Small businesses, startups, and e-commerce ventures looking to enhance their online presence.\\n- Brands seeking to engage with a younger demographic through social media platforms.\\n\\n**Marketing Objectives:**\\n- Increase brand awareness and reach through targeted social media campaigns.\\n- Drive customer engagement and conversions for client businesses.\\n\\n**Strategies:**\\n- Develop personalized social media marketing strategies based on client goals and industry trends.\\n- Utilize influencer collaborations, interactive content, and data-driven insights for optimized marketing campaigns.\\n\\n**Tactics:**\\n- Content creation and curation for social media platforms.\\n- Paid advertising campaigns targeting specific audience segments.\\n- Regular performance tracking and analytics to measure campaign effectiveness.\\n\\n**Budget:**\\n- Initial budget allocation of $20,000 for social media marketing campaigns and ad spend.\\n- Budget may be adjusted based on campaign performance and client requirements.\\n\\n**Timeline:**\\n- Campaign implementation and monitoring over a 3-month period.\\n- Monthly reporting and analysis to track performance metrics and adjust strategies.\\n\\n**Performance Metrics:**\\n- Key performance indicators include website traffic, engagement rates, lead generation, and conversion metrics.\\n- Monthly reports to be generated for clients to review campaign progress and ROI.\\n\\n---\\n\\n#### **Marketing Plan for Influencer Collaboration Services**\\n\\n**Market Analysis:**\\n- Evaluation of influencer marketing trends and industry benchmarks.\\n- Identification of relevant influencers in target industries for potential collaborations.\\n\\n**Target Audience:**\\n- Fashion brands, lifestyle products, and beauty companies looking to leverage influencer partnerships.\\n- Brands aiming to tap into niche markets and increase brand advocacy through influencer endorsements.\\n\\n**Marketing Objectives:**\\n- Establish authentic brand partnerships with influencers to amplify brand reach and credibility.\\n- Drive user engagement and brand affinity through influencer-generated content.\\n\\n**Strategies:**\\n- Strategic selection of influencers based on brand fit, audience alignment, and engagement metrics.\\n- Co-creation of compelling content with influencers to resonate with target audiences.\\n\\n**Tactics:**\\n- Influencer outreach and negotiations for collaboration agreements.\\n- Performance monitoring and analysis of influencer campaigns for optimization.\\n- Leveraging influencer content across multiple platforms for extended reach.\\n\\n**Budget:**\\n- Allocated budget of $15,000 for influencer collaborations and content creation.\\n- Budget flexibility to accommodate high-profile influencers and extended campaign durations.\\n\\n**Timeline:**\\n- Influencer campaign planning and execution over a 2-month period.\\n- Real-time monitoring of influencer performance and content engagement.\\n\\n**Performance Metrics:**\\n- Metrics include influencer reach, engagement rates, content virality, and brand sentiment.\\n- Data-driven insights to measure the impact of influencer collaborations on brand visibility and customer perception.\\n\\n---\\n\\n#### **Marketing Plan for Content Creation and Curation Services**\\n\\n**Market Analysis:**\\n- Assessment of content marketing trends and visual storytelling strategies.\\n- Understanding of audience preferences and content consumption habits on social media platforms.\\n\\n**Target Audience:**\\n- Media companies, creative agencies, and lifestyle brands seeking to enhance their content quality and engagement.\\n- Businesses looking to establish a consistent and visually appealing brand identity through curated content.\\n\\n**Marketing Objectives:**\\n- Elevate brand storytelling through visually captivating and engaging content formats.\\n- Increase audience interaction and user-generated content through immersive brand experiences.\\n\\n**Strategies:**\\n- Tailored content planning and production based on brand guidelines and audience insights.\\n- Implementing user-generated content campaigns and interactive storytelling elements for enhanced audience engagement\",\n",
      "    \"# Instagram Progress Report\\n\\n| Project Name   | Status      | Achievements                   | Challenges                  | Action Plans                         | Resource Allocation | Financial Updates |\\n|-----------------|-------------|---------------------------------|-----------------------------|--------------------------------------|---------------------|-------------------|\\n| Feed Redesign   | In Progress | Redesigned layout and UI       | Technical issues            | Conduct bug fixes and testing        | 5 developers       | $10,000           |\\n| Stories Upgrade | Completed   | Added new interactive elements | User feedback for improvements| Implement new features based on feedback | 3 designers, 2 developers | $5,000 |\\n| Direct Messaging Update | On Hold  | Enhanced encryption features  | Integration issues          | Collaborate with security team for solutions | -                  | -              |\\n| Explore Algorithm Enhancement | In Progress | Improved personalized recommendations | Data analysis required | Analyze user behavior and engagement metrics | 2 data analysts    | $8,000 |\\n| IGTV Expansion  | Planned     | Increased video duration limit | Content moderation policies | Develop content guidelines and moderation tools | -               | -              |\\n| Reels Optimization | In Progress | Performance improvements     | User adoption rate          | User feedback analysis for enhancements | 3 developers     | $7,000 |\"\n",
      "  ],\n",
      "  \"uris\": null,\n",
      "  \"data\": null\n",
      "}\n"
     ]
    }
   ],
   "source": [
    "import json\n",
    "print(json.dumps(collection.get(), indent=2))"
   ]
  },
  {
   "cell_type": "code",
   "execution_count": 24,
   "metadata": {},
   "outputs": [],
   "source": [
    "queries = [\n",
    "    \"What is the status of the Direct Messaging update? Also, what are the challenges that we are facing?\",\n",
    "]\n",
    "\n",
    "results = collection.query(\n",
    "    query_texts=queries,\n",
    "    n_results=2\n",
    ")"
   ]
  },
  {
   "cell_type": "code",
   "execution_count": 32,
   "metadata": {},
   "outputs": [
    {
     "data": {
      "text/plain": [
       "{'ids': [['business_doc_2', 'business_doc_0']],\n",
       " 'distances': [[0.7423908114433289, 0.5049270391464233]],\n",
       " 'metadatas': [[{'type': 'business document'}, {'type': 'business document'}]],\n",
       " 'embeddings': None,\n",
       " 'documents': [['# Instagram Progress Report\\n\\n| Project Name   | Status      | Achievements                   | Challenges                  | Action Plans                         | Resource Allocation | Financial Updates |\\n|-----------------|-------------|---------------------------------|-----------------------------|--------------------------------------|---------------------|-------------------|\\n| Feed Redesign   | In Progress | Redesigned layout and UI       | Technical issues            | Conduct bug fixes and testing        | 5 developers       | $10,000           |\\n| Stories Upgrade | Completed   | Added new interactive elements | User feedback for improvements| Implement new features based on feedback | 3 designers, 2 developers | $5,000 |\\n| Direct Messaging Update | On Hold  | Enhanced encryption features  | Integration issues          | Collaborate with security team for solutions | -                  | -              |\\n| Explore Algorithm Enhancement | In Progress | Improved personalized recommendations | Data analysis required | Analyze user behavior and engagement metrics | 2 data analysts    | $8,000 |\\n| IGTV Expansion  | Planned     | Increased video duration limit | Content moderation policies | Develop content guidelines and moderation tools | -               | -              |\\n| Reels Optimization | In Progress | Performance improvements     | User adoption rate          | User feedback analysis for enhancements | 3 developers     | $7,000 |',\n",
       "   \"\\n### Company Name: Instagram\\n### Category of Document: Business Proposal\\n\\n---\\n\\n#### **Business Proposal 1: Social Media Marketing Services**\\n\\n**Executive Summary:**\\nInstagram offers comprehensive social media marketing services tailored to enhance brand presence and engagement. With a team of experienced digital marketers, we aim to elevate your social media strategy and maximize audience reach.\\n\\n**Company Overview:**\\nInstagram, a leader in social media platforms, leverages its expertise and innovative tools to deliver impactful marketing solutions. Our focus on visual content and community engagement sets us apart in the industry.\\n\\n**Problem Statement:**\\nMany businesses struggle to effectively utilize social media for brand promotion and customer interaction, leading to missed opportunities for growth and visibility.\\n\\n**Proposed Solution:**\\nOur social media marketing services encompass strategic content creation, optimized ad campaigns, targeted audience analysis, and performance tracking to ensure impactful results for your brand.\\n\\n**Pricing:**\\nOur pricing structure is flexible and customized based on the scope of services required. We offer competitive rates to cater to businesses of all sizes.\\n\\n**Terms and Conditions:**\\nTerms of engagement include a detailed service agreement outlining deliverables, timelines, reporting mechanisms, and confidentiality clauses for a transparent partnership.\\n\\n**Timeline:**\\nThe implementation of social media marketing services will be orchestrated in phases, with measurable goals and milestones outlined for each stage of the campaign.\\n\\n**Contact Information:**\\nFor inquiries and further discussion on our social media marketing services, please contact our dedicated team at business@instagram.com.\\n\\n---\\n\\n#### **Business Proposal 2: Influencer Collaboration Services**\\n\\n**Executive Summary:**\\nInstagram presents a unique opportunity for brands to collaborate with influencers and leverage their reach and credibility to drive brand awareness and engagement. Our influencer collaboration services aim to connect brands with relevant influencers for impactful partnerships.\\n\\n**Company Overview:**\\nAs a pioneer in visual content sharing, Instagram has established itself as a hub for influencer marketing collaborations, offering brands a platform to amplify their voice and connect with their target audience.\\n\\n**Problem Statement:**\\nIdentifying and engaging the right influencers for brand partnerships can be a daunting task for many businesses, leading to missed opportunities for authentic promotion and audience engagement.\\n\\n**Proposed Solution:**\\nOur influencer collaboration services involve influencer discovery, outreach, negotiation, campaign management, and performance analysis to ensure successful partnerships that resonate with your brand values.\\n\\n**Pricing:**\\nOur pricing model for influencer collaborations is transparent and based on factors such as influencer reach, engagement rates, content requirements, and campaign duration.\\n\\n**Terms and Conditions:**\\nA comprehensive agreement will outline the terms of collaboration, including influencer selection criteria, content approvals, compensation details, and exclusivity clauses for mutual benefit and clarity.\\n\\n**Timeline:**\\nEach influencer collaboration campaign will be meticulously planned and executed to align with your brand objectives, with regular performance reviews and optimizations throughout the partnership.\\n\\n**Contact Information:**\\nFor inquiries and to explore influencer collaboration opportunities, please reach out to our team at partnerships@instagram.com.\\n\\n---\\n\\n#### **Business Proposal 3: Content Creation and Curation Services**\\n\\n**Executive Summary:**\\nInstagram offers specialized content creation and curation services to elevate your brand's visual presence and storytelling on the platform. Our creative team aims to deliver engaging and visually appealing content that resonates with your audience.\\n\\n**Company Overview:**\\nWith a deep understanding of visual storytelling and community engagement, Instagram provides brands with the tools and expertise to craft compelling content that drives user interaction and loyalty.\\n\\n**Problem Statement:**\\nMany businesses struggle to maintain a consistent and compelling content strategy on social media platforms, hindering their ability to connect with their audience and drive meaningful engagement.\\n\\n**Proposed Solution:**\\nOur content creation and curation services include bespoke content planning, photo and video production\"]],\n",
       " 'uris': None,\n",
       " 'data': None}"
      ]
     },
     "execution_count": 32,
     "metadata": {},
     "output_type": "execute_result"
    }
   ],
   "source": [
    "results"
   ]
  },
  {
   "cell_type": "code",
   "execution_count": 36,
   "metadata": {},
   "outputs": [
    {
     "data": {
      "text/plain": [
       "dict_items([('ids', [['business_doc_2', 'business_doc_0']]), ('distances', [[0.7423908114433289, 0.5049270391464233]]), ('metadatas', [[{'type': 'business document'}, {'type': 'business document'}]]), ('embeddings', None), ('documents', [['# Instagram Progress Report\\n\\n| Project Name   | Status      | Achievements                   | Challenges                  | Action Plans                         | Resource Allocation | Financial Updates |\\n|-----------------|-------------|---------------------------------|-----------------------------|--------------------------------------|---------------------|-------------------|\\n| Feed Redesign   | In Progress | Redesigned layout and UI       | Technical issues            | Conduct bug fixes and testing        | 5 developers       | $10,000           |\\n| Stories Upgrade | Completed   | Added new interactive elements | User feedback for improvements| Implement new features based on feedback | 3 designers, 2 developers | $5,000 |\\n| Direct Messaging Update | On Hold  | Enhanced encryption features  | Integration issues          | Collaborate with security team for solutions | -                  | -              |\\n| Explore Algorithm Enhancement | In Progress | Improved personalized recommendations | Data analysis required | Analyze user behavior and engagement metrics | 2 data analysts    | $8,000 |\\n| IGTV Expansion  | Planned     | Increased video duration limit | Content moderation policies | Develop content guidelines and moderation tools | -               | -              |\\n| Reels Optimization | In Progress | Performance improvements     | User adoption rate          | User feedback analysis for enhancements | 3 developers     | $7,000 |', \"\\n### Company Name: Instagram\\n### Category of Document: Business Proposal\\n\\n---\\n\\n#### **Business Proposal 1: Social Media Marketing Services**\\n\\n**Executive Summary:**\\nInstagram offers comprehensive social media marketing services tailored to enhance brand presence and engagement. With a team of experienced digital marketers, we aim to elevate your social media strategy and maximize audience reach.\\n\\n**Company Overview:**\\nInstagram, a leader in social media platforms, leverages its expertise and innovative tools to deliver impactful marketing solutions. Our focus on visual content and community engagement sets us apart in the industry.\\n\\n**Problem Statement:**\\nMany businesses struggle to effectively utilize social media for brand promotion and customer interaction, leading to missed opportunities for growth and visibility.\\n\\n**Proposed Solution:**\\nOur social media marketing services encompass strategic content creation, optimized ad campaigns, targeted audience analysis, and performance tracking to ensure impactful results for your brand.\\n\\n**Pricing:**\\nOur pricing structure is flexible and customized based on the scope of services required. We offer competitive rates to cater to businesses of all sizes.\\n\\n**Terms and Conditions:**\\nTerms of engagement include a detailed service agreement outlining deliverables, timelines, reporting mechanisms, and confidentiality clauses for a transparent partnership.\\n\\n**Timeline:**\\nThe implementation of social media marketing services will be orchestrated in phases, with measurable goals and milestones outlined for each stage of the campaign.\\n\\n**Contact Information:**\\nFor inquiries and further discussion on our social media marketing services, please contact our dedicated team at business@instagram.com.\\n\\n---\\n\\n#### **Business Proposal 2: Influencer Collaboration Services**\\n\\n**Executive Summary:**\\nInstagram presents a unique opportunity for brands to collaborate with influencers and leverage their reach and credibility to drive brand awareness and engagement. Our influencer collaboration services aim to connect brands with relevant influencers for impactful partnerships.\\n\\n**Company Overview:**\\nAs a pioneer in visual content sharing, Instagram has established itself as a hub for influencer marketing collaborations, offering brands a platform to amplify their voice and connect with their target audience.\\n\\n**Problem Statement:**\\nIdentifying and engaging the right influencers for brand partnerships can be a daunting task for many businesses, leading to missed opportunities for authentic promotion and audience engagement.\\n\\n**Proposed Solution:**\\nOur influencer collaboration services involve influencer discovery, outreach, negotiation, campaign management, and performance analysis to ensure successful partnerships that resonate with your brand values.\\n\\n**Pricing:**\\nOur pricing model for influencer collaborations is transparent and based on factors such as influencer reach, engagement rates, content requirements, and campaign duration.\\n\\n**Terms and Conditions:**\\nA comprehensive agreement will outline the terms of collaboration, including influencer selection criteria, content approvals, compensation details, and exclusivity clauses for mutual benefit and clarity.\\n\\n**Timeline:**\\nEach influencer collaboration campaign will be meticulously planned and executed to align with your brand objectives, with regular performance reviews and optimizations throughout the partnership.\\n\\n**Contact Information:**\\nFor inquiries and to explore influencer collaboration opportunities, please reach out to our team at partnerships@instagram.com.\\n\\n---\\n\\n#### **Business Proposal 3: Content Creation and Curation Services**\\n\\n**Executive Summary:**\\nInstagram offers specialized content creation and curation services to elevate your brand's visual presence and storytelling on the platform. Our creative team aims to deliver engaging and visually appealing content that resonates with your audience.\\n\\n**Company Overview:**\\nWith a deep understanding of visual storytelling and community engagement, Instagram provides brands with the tools and expertise to craft compelling content that drives user interaction and loyalty.\\n\\n**Problem Statement:**\\nMany businesses struggle to maintain a consistent and compelling content strategy on social media platforms, hindering their ability to connect with their audience and drive meaningful engagement.\\n\\n**Proposed Solution:**\\nOur content creation and curation services include bespoke content planning, photo and video production\"]]), ('uris', None), ('data', None)])"
      ]
     },
     "execution_count": 36,
     "metadata": {},
     "output_type": "execute_result"
    }
   ],
   "source": [
    "results.items()"
   ]
  },
  {
   "cell_type": "code",
   "execution_count": 33,
   "metadata": {},
   "outputs": [
    {
     "ename": "KeyError",
     "evalue": "0",
     "output_type": "error",
     "traceback": [
      "\u001b[1;31m---------------------------------------------------------------------------\u001b[0m",
      "\u001b[1;31mKeyError\u001b[0m                                  Traceback (most recent call last)",
      "Cell \u001b[1;32mIn[33], line 1\u001b[0m\n\u001b[1;32m----> 1\u001b[0m \u001b[38;5;28msorted\u001b[39m(\u001b[43mresults\u001b[49m\u001b[43m[\u001b[49m\u001b[38;5;241;43m0\u001b[39;49m\u001b[43m]\u001b[49m\u001b[38;5;241m.\u001b[39mitems(), key\u001b[38;5;241m=\u001b[39m\u001b[38;5;28;01mlambda\u001b[39;00m x: x[\u001b[38;5;241m1\u001b[39m], reverse\u001b[38;5;241m=\u001b[39m\u001b[38;5;28;01mTrue\u001b[39;00m)\n",
      "\u001b[1;31mKeyError\u001b[0m: 0"
     ]
    }
   ],
   "source": [
    "sorted(results.items(), key=lambda x: x[1], reverse=True)"
   ]
  },
  {
   "cell_type": "code",
   "execution_count": 60,
   "metadata": {},
   "outputs": [
    {
     "data": {
      "text/plain": [
       "\"\\n### Company Name: Instagram\\n### Category of Document: Business Proposal\\n\\n---\\n\\n#### **Business Proposal 1: Social Media Marketing Services**\\n\\n**Executive Summary:**\\nInstagram offers comprehensive social media marketing services tailored to enhance brand presence and engagement. With a team of experienced digital marketers, we aim to elevate your social media strategy and maximize audience reach.\\n\\n**Company Overview:**\\nInstagram, a leader in social media platforms, leverages its expertise and innovative tools to deliver impactful marketing solutions. Our focus on visual content and community engagement sets us apart in the industry.\\n\\n**Problem Statement:**\\nMany businesses struggle to effectively utilize social media for brand promotion and customer interaction, leading to missed opportunities for growth and visibility.\\n\\n**Proposed Solution:**\\nOur social media marketing services encompass strategic content creation, optimized ad campaigns, targeted audience analysis, and performance tracking to ensure impactful results for your brand.\\n\\n**Pricing:**\\nOur pricing structure is flexible and customized based on the scope of services required. We offer competitive rates to cater to businesses of all sizes.\\n\\n**Terms and Conditions:**\\nTerms of engagement include a detailed service agreement outlining deliverables, timelines, reporting mechanisms, and confidentiality clauses for a transparent partnership.\\n\\n**Timeline:**\\nThe implementation of social media marketing services will be orchestrated in phases, with measurable goals and milestones outlined for each stage of the campaign.\\n\\n**Contact Information:**\\nFor inquiries and further discussion on our social media marketing services, please contact our dedicated team at business@instagram.com.\\n\\n---\\n\\n#### **Business Proposal 2: Influencer Collaboration Services**\\n\\n**Executive Summary:**\\nInstagram presents a unique opportunity for brands to collaborate with influencers and leverage their reach and credibility to drive brand awareness and engagement. Our influencer collaboration services aim to connect brands with relevant influencers for impactful partnerships.\\n\\n**Company Overview:**\\nAs a pioneer in visual content sharing, Instagram has established itself as a hub for influencer marketing collaborations, offering brands a platform to amplify their voice and connect with their target audience.\\n\\n**Problem Statement:**\\nIdentifying and engaging the right influencers for brand partnerships can be a daunting task for many businesses, leading to missed opportunities for authentic promotion and audience engagement.\\n\\n**Proposed Solution:**\\nOur influencer collaboration services involve influencer discovery, outreach, negotiation, campaign management, and performance analysis to ensure successful partnerships that resonate with your brand values.\\n\\n**Pricing:**\\nOur pricing model for influencer collaborations is transparent and based on factors such as influencer reach, engagement rates, content requirements, and campaign duration.\\n\\n**Terms and Conditions:**\\nA comprehensive agreement will outline the terms of collaboration, including influencer selection criteria, content approvals, compensation details, and exclusivity clauses for mutual benefit and clarity.\\n\\n**Timeline:**\\nEach influencer collaboration campaign will be meticulously planned and executed to align with your brand objectives, with regular performance reviews and optimizations throughout the partnership.\\n\\n**Contact Information:**\\nFor inquiries and to explore influencer collaboration opportunities, please reach out to our team at partnerships@instagram.com.\\n\\n---\\n\\n#### **Business Proposal 3: Content Creation and Curation Services**\\n\\n**Executive Summary:**\\nInstagram offers specialized content creation and curation services to elevate your brand's visual presence and storytelling on the platform. Our creative team aims to deliver engaging and visually appealing content that resonates with your audience.\\n\\n**Company Overview:**\\nWith a deep understanding of visual storytelling and community engagement, Instagram provides brands with the tools and expertise to craft compelling content that drives user interaction and loyalty.\\n\\n**Problem Statement:**\\nMany businesses struggle to maintain a consistent and compelling content strategy on social media platforms, hindering their ability to connect with their audience and drive meaningful engagement.\\n\\n**Proposed Solution:**\\nOur content creation and curation services include bespoke content planning, photo and video production\""
      ]
     },
     "execution_count": 60,
     "metadata": {},
     "output_type": "execute_result"
    }
   ],
   "source": [
    "results['documents'][0][0]"
   ]
  },
  {
   "cell_type": "code",
   "execution_count": 61,
   "metadata": {},
   "outputs": [
    {
     "data": {
      "text/markdown": [
       "I'm sorry, but the provided passage does not contain any information regarding the status of the Direct Messaging update and the challenges faced by the team. Therefore, I cannot answer your question based on the provided information."
      ],
      "text/plain": [
       "<IPython.core.display.Markdown object>"
      ]
     },
     "metadata": {},
     "output_type": "display_data"
    }
   ],
   "source": [
    "metaprompt = \"\"\"You are a helpful and informative bot that answers questions using text from the reference passage included below. \\\n",
    "  Be sure to respond in a complete sentence, being comprehensive, including all relevant background information. \\\n",
    "  However, you are talking to a non-technical audience, so be sure to break down complicated concepts and \\\n",
    "  strike a friendly and converstional tone. \\\n",
    "  If the passage is irrelevant to the answer, you may ignore it.\n",
    "  QUESTION: '{query}'\n",
    "  PASSAGE: '{relevant_passage}'\n",
    "\n",
    "  ANSWER:\n",
    "\"\"\"\n",
    "\n",
    "gemini_result = gemini.send_message(message=metaprompt.format(query=queries[0], relevant_passage=results['documents'][0][0])).text\n",
    "display(Markdown(gemini_result))"
   ]
  },
  {
   "cell_type": "code",
   "execution_count": 26,
   "metadata": {},
   "outputs": [
    {
     "data": {
      "text/plain": [
       "'# Instagram Progress Report\\n\\n| Project Name   | Status      | Achievements                   | Challenges                  | Action Plans                         | Resource Allocation | Financial Updates |\\n|-----------------|-------------|---------------------------------|-----------------------------|--------------------------------------|---------------------|-------------------|\\n| Feed Redesign   | In Progress | Redesigned layout and UI       | Technical issues            | Conduct bug fixes and testing        | 5 developers       | $10,000           |\\n| Stories Upgrade | Completed   | Added new interactive elements | User feedback for improvements| Implement new features based on feedback | 3 designers, 2 developers | $5,000 |\\n| Direct Messaging Update | On Hold  | Enhanced encryption features  | Integration issues          | Collaborate with security team for solutions | -                  | -              |\\n| Explore Algorithm Enhancement | In Progress | Improved personalized recommendations | Data analysis required | Analyze user behavior and engagement metrics | 2 data analysts    | $8,000 |\\n| IGTV Expansion  | Planned     | Increased video duration limit | Content moderation policies | Develop content guidelines and moderation tools | -               | -              |\\n| Reels Optimization | In Progress | Performance improvements     | User adoption rate          | User feedback analysis for enhancements | 3 developers     | $7,000 |'"
      ]
     },
     "execution_count": 26,
     "metadata": {},
     "output_type": "execute_result"
    }
   ],
   "source": [
    "results['documents'][0][1]"
   ]
  },
  {
   "cell_type": "code",
   "execution_count": 57,
   "metadata": {},
   "outputs": [],
   "source": [
    "metaprompt = \"\"\"You are a helpful and informative bot that answers questions using text from the reference passage included below. \\\n",
    "  Be sure to respond in a complete sentence, being comprehensive, including all relevant background information. \\\n",
    "  However, you are talking to a non-technical audience, so be sure to break down complicated concepts and \\\n",
    "  strike a friendly and converstional tone. \\\n",
    "  If the passage is irrelevant to the answer, you may ignore it.\n",
    "  QUESTION: '{query}'\n",
    "  PASSAGE: '{relevant_passage}'\n",
    "\n",
    "  ANSWER:\n",
    "\"\"\"\n",
    "\n",
    "gemini_result = gemini.send_message(message=metaprompt.format(query=queries[0], relevant_passage=results['documents'][0][1]))"
   ]
  },
  {
   "cell_type": "code",
   "execution_count": 59,
   "metadata": {},
   "outputs": [
    {
     "data": {
      "text/plain": [
       "'Currently, the Direct Messaging update is on hold due to integration issues. The team is collaborating with the security team to find solutions to these issues.'"
      ]
     },
     "execution_count": 59,
     "metadata": {},
     "output_type": "execute_result"
    }
   ],
   "source": [
    "gemini_result.text"
   ]
  }
 ],
 "metadata": {
  "kernelspec": {
   "display_name": "rag_env",
   "language": "python",
   "name": "python3"
  },
  "language_info": {
   "codemirror_mode": {
    "name": "ipython",
    "version": 3
   },
   "file_extension": ".py",
   "mimetype": "text/x-python",
   "name": "python",
   "nbconvert_exporter": "python",
   "pygments_lexer": "ipython3",
   "version": "3.10.5"
  }
 },
 "nbformat": 4,
 "nbformat_minor": 2
}
