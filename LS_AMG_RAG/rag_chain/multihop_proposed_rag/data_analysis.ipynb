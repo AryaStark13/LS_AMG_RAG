{
 "cells": [
  {
   "cell_type": "code",
   "execution_count": 1,
   "metadata": {},
   "outputs": [],
   "source": [
    "import pandas as pd\n",
    "from datetime import datetime\n",
    "from textwrap import shorten\n",
    "from pymongo.mongo_client import MongoClient\n",
    "from pymongo.server_api import ServerApi\n",
    "from dotenv import load_dotenv\n",
    "import os\n",
    "import time\n",
    "\n",
    "from LS_AMG_RAG import utils\n",
    "from tqdm.notebook import tqdm\n",
    "\n",
    "# Load environment variables from .env file\n",
    "load_dotenv()\n",
    "\n",
    "uri = os.getenv(\"MULTIHOP_RAG_URI\")\n",
    "\n",
    "# Create a new client and connect to the server\n",
    "client = MongoClient(uri, server_api=ServerApi('1'))\n",
    "\n",
    "# Send a ping to confirm a successful connection\n",
    "try:\n",
    "    client.admin.command('ping')\n",
    "    print(\"Pinged your deployment. You successfully connected to MongoDB!\")\n",
    "except Exception as e:\n",
    "    print(e)\n",
    "\n",
    "db = client['multihop-rag']\n",
    "corpus = db['corpus']"
   ]
  },
  {
   "cell_type": "code",
   "execution_count": 2,
   "metadata": {},
   "outputs": [
    {
     "data": {
      "text/html": [
       "<div>\n",
       "<style scoped>\n",
       "    .dataframe tbody tr th:only-of-type {\n",
       "        vertical-align: middle;\n",
       "    }\n",
       "\n",
       "    .dataframe tbody tr th {\n",
       "        vertical-align: top;\n",
       "    }\n",
       "\n",
       "    .dataframe thead th {\n",
       "        text-align: right;\n",
       "    }\n",
       "</style>\n",
       "<table border=\"1\" class=\"dataframe\">\n",
       "  <thead>\n",
       "    <tr style=\"text-align: right;\">\n",
       "      <th></th>\n",
       "      <th>category</th>\n",
       "      <th>url</th>\n",
       "      <th>body</th>\n",
       "      <th>title</th>\n",
       "      <th>author</th>\n",
       "      <th>published_at</th>\n",
       "      <th>source</th>\n",
       "    </tr>\n",
       "  </thead>\n",
       "  <tbody>\n",
       "    <tr>\n",
       "      <th>0</th>\n",
       "      <td>entertainment</td>\n",
       "      <td>https://mashable.com/article/cyber-monday-deal...</td>\n",
       "      <td>Table of Contents Table of Contents Echo, Fire...</td>\n",
       "      <td>200+ of the best deals from Amazon's Cyber Mon...</td>\n",
       "      <td>NaN</td>\n",
       "      <td>2023-11-27T08:45:59+00:00</td>\n",
       "      <td>Mashable</td>\n",
       "    </tr>\n",
       "  </tbody>\n",
       "</table>\n",
       "</div>"
      ],
      "text/plain": [
       "        category                                                url  \\\n",
       "0  entertainment  https://mashable.com/article/cyber-monday-deal...   \n",
       "\n",
       "                                                body  \\\n",
       "0  Table of Contents Table of Contents Echo, Fire...   \n",
       "\n",
       "                                               title author  \\\n",
       "0  200+ of the best deals from Amazon's Cyber Mon...    NaN   \n",
       "\n",
       "                published_at    source  \n",
       "0  2023-11-27T08:45:59+00:00  Mashable  "
      ]
     },
     "execution_count": 2,
     "metadata": {},
     "output_type": "execute_result"
    }
   ],
   "source": [
    "df = pd.read_csv('multi_hop_rag_dataset.csv')\n",
    "df.head(1)"
   ]
  },
  {
   "cell_type": "code",
   "execution_count": 6,
   "metadata": {},
   "outputs": [],
   "source": [
    "# First article:\n",
    "print(f\"Category: {df['category'][0]}\")\n",
    "print(f\"URL: {df['url'][0]}\")\n",
    "print(f\"Title: {df['title'][0]}\")\n",
    "print(f\"Body: {shorten(df['body'][0], width=100, placeholder='...')}\")\n",
    "print(f\"Author(s): {df['author'][0]}\")\n",
    "print(f\"Published Date: {datetime.strptime(df['published_at'][0], '%Y-%m-%dT%H:%M:%S%z').strftime('%Y-%m-%d')}\")\n",
    "print(f\"Source: {df['source'][0]}\")\n",
    "\n",
    "paragraphs = df['body'][0].split('\\n\\n')\n",
    "paragraph_embeddings = []\n",
    "paragraph_len = []\n",
    "\n",
    "start_time = time.time()\n",
    "for paragraph in paragraphs:\n",
    "    paragraph_len.append(len(paragraph.split(' ')))\n",
    "    paragraph_embeddings.append(utils.gemini_vector(text=paragraph, title=df['title'][0]))\n",
    "\n",
    "print(f\"Paragraphs: {len(paragraphs)}\")\n",
    "print(f\"Average words per paragraph: {sum(paragraph_len) / len(paragraph_len)}\")\n",
    "print(f\"Minimum words per paragraph: {min(paragraph_len)}\")\n",
    "print(f\"Maximum words per paragraph: {max(paragraph_len)}\")\n",
    "print(f\"Time taken to embed {len(paragraphs)} paragraphs: {time.time() - start_time} seconds\")"
   ]
  },
  {
   "cell_type": "code",
   "execution_count": 3,
   "metadata": {},
   "outputs": [
    {
     "data": {
      "application/vnd.jupyter.widget-view+json": {
       "model_id": "9fdaa56e5cc74c66a5b191977187d571",
       "version_major": 2,
       "version_minor": 0
      },
      "text/plain": [
       "  0%|          | 0/609 [00:00<?, ?it/s]"
      ]
     },
     "metadata": {},
     "output_type": "display_data"
    },
    {
     "name": "stdout",
     "output_type": "stream",
     "text": [
      "Total number of articles: 609\n",
      "Total number of paragraphs: 5482\n",
      "Average paragraphs per article: 9.001642036124794\n"
     ]
    }
   ],
   "source": [
    "all_paragraphs = []\n",
    "all_paragraph_embeddings = []\n",
    "for i in tqdm(range(len(df))):\n",
    "\n",
    "    category = df['category'][i]\n",
    "    url = df['url'][i]\n",
    "    title = df['title'][i]\n",
    "    body = df['body'][i]\n",
    "    author = df['author'][i] if not pd.isnull(df['author'][i]) else None\n",
    "    source = df['source'][i]\n",
    "\n",
    "    words = df['body'][i].split(' ')\n",
    "    paragraphs_per_article = []\n",
    "    paragraph_embeddings = []\n",
    "    \n",
    "    for j in range(0, len(words), 200):\n",
    "        paragraphs_per_article.append(' '.join(words[j:j + 250]))\n",
    "    \n",
    "    all_paragraphs.append(paragraphs_per_article)\n",
    "    documents_per_article = []\n",
    "    for idx, paragraph in enumerate(paragraphs_per_article):\n",
    "        paragraph_embedding = utils.gemini_vector(text=paragraph, title=df['title'][i])\n",
    "        paragraph_embeddings.append(paragraph_embedding)\n",
    "        document = {\n",
    "            'category': category,\n",
    "            'url': url,\n",
    "            'title': title,\n",
    "            'body': body,\n",
    "            'author': author,\n",
    "            'source': source,\n",
    "            'paragraph': paragraph,\n",
    "            'paragraph_no': idx+1,\n",
    "            'paragraph_embedding': paragraph_embedding,\n",
    "        }\n",
    "        documents_per_article.append(document)\n",
    "    \n",
    "    all_paragraph_embeddings.append(paragraph_embeddings)\n",
    "\n",
    "    \n",
    "    result = corpus.insert_many(documents_per_article)\n",
    "\n",
    "paragraph_len = [len(paragraphs) for paragraphs in all_paragraphs]\n",
    "\n",
    "print(f\"Total number of articles: {len(all_paragraphs)}\")\n",
    "print(f\"Total number of paragraphs: {sum([len(paragraphs) for paragraphs in all_paragraphs])}\")\n",
    "print(f\"Average paragraphs per article: {sum(paragraph_len) / len(paragraph_len)}\")"
   ]
  },
  {
   "cell_type": "code",
   "execution_count": null,
   "metadata": {},
   "outputs": [],
   "source": [
    "for i in tqdm(range(len(df))):\n",
    "\n",
    "    category = df['category'][i]\n",
    "    url = df['url'][i]\n",
    "    title = df['title'][i]\n",
    "    body = df['body'][i]\n",
    "    author = df['author'][i] if not pd.isnull(df['author'][i]) else None\n",
    "    source = df['source'][i]\n",
    "\n",
    "    doc_id = corpus.find_one({'url': url})['_id']\n",
    "\n",
    "    # metadata code\n",
    "\n",
    "    metadata = {\n",
    "        # key: value\n",
    "        'doc_id': doc_id,\n",
    "    }"
   ]
  }
 ],
 "metadata": {
  "kernelspec": {
   "display_name": ".venv",
   "language": "python",
   "name": "python3"
  },
  "language_info": {
   "codemirror_mode": {
    "name": "ipython",
    "version": 3
   },
   "file_extension": ".py",
   "mimetype": "text/x-python",
   "name": "python",
   "nbconvert_exporter": "python",
   "pygments_lexer": "ipython3",
   "version": "3.10.5"
  }
 },
 "nbformat": 4,
 "nbformat_minor": 2
}
