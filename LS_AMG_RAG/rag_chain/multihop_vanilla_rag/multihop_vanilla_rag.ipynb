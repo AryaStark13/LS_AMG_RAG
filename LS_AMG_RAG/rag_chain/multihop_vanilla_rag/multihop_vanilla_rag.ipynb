{
 "cells": [
  {
   "cell_type": "code",
   "execution_count": 8,
   "metadata": {},
   "outputs": [
    {
     "data": {
      "text/html": [
       "<div>\n",
       "<style scoped>\n",
       "    .dataframe tbody tr th:only-of-type {\n",
       "        vertical-align: middle;\n",
       "    }\n",
       "\n",
       "    .dataframe tbody tr th {\n",
       "        vertical-align: top;\n",
       "    }\n",
       "\n",
       "    .dataframe thead th {\n",
       "        text-align: right;\n",
       "    }\n",
       "</style>\n",
       "<table border=\"1\" class=\"dataframe\">\n",
       "  <thead>\n",
       "    <tr style=\"text-align: right;\">\n",
       "      <th></th>\n",
       "      <th>category</th>\n",
       "      <th>url</th>\n",
       "      <th>body</th>\n",
       "      <th>title</th>\n",
       "      <th>author</th>\n",
       "      <th>published_at</th>\n",
       "      <th>source</th>\n",
       "    </tr>\n",
       "  </thead>\n",
       "  <tbody>\n",
       "    <tr>\n",
       "      <th>0</th>\n",
       "      <td>entertainment</td>\n",
       "      <td>https://mashable.com/article/cyber-monday-deal...</td>\n",
       "      <td>Table of Contents Table of Contents Echo, Fire...</td>\n",
       "      <td>200+ of the best deals from Amazon's Cyber Mon...</td>\n",
       "      <td>NaN</td>\n",
       "      <td>2023-11-27T08:45:59+00:00</td>\n",
       "      <td>Mashable</td>\n",
       "    </tr>\n",
       "  </tbody>\n",
       "</table>\n",
       "</div>"
      ],
      "text/plain": [
       "        category                                                url  \\\n",
       "0  entertainment  https://mashable.com/article/cyber-monday-deal...   \n",
       "\n",
       "                                                body  \\\n",
       "0  Table of Contents Table of Contents Echo, Fire...   \n",
       "\n",
       "                                               title author  \\\n",
       "0  200+ of the best deals from Amazon's Cyber Mon...    NaN   \n",
       "\n",
       "                published_at    source  \n",
       "0  2023-11-27T08:45:59+00:00  Mashable  "
      ]
     },
     "execution_count": 8,
     "metadata": {},
     "output_type": "execute_result"
    }
   ],
   "source": [
    "import pandas as pd\n",
    "from datetime import datetime\n",
    "from textwrap import shorten\n",
    "import os\n",
    "import time\n",
    "\n",
    "from LS_AMG_RAG import utils\n",
    "from LS_AMG_RAG.data_snythesis import prompt_utils\n",
    "from tqdm import tqdm\n",
    "\n",
    "import chromadb\n",
    "import chromadb.utils.embedding_functions as embedding_functions\n",
    "# chroma_client = chromadb.PersistentClient(path=\"./\")\n",
    "chroma_client = chromadb.HttpClient(host=\"3.85.170.245\", port=8000)\n",
    "\n",
    "gemini = prompt_utils.Gemini()\n",
    "google_ef  = embedding_functions.GoogleGenerativeAiEmbeddingFunction(api_key=os.environ['GEMINI_API_KEY'])\n",
    "\n",
    "df = pd.read_csv('multi_hop_rag_dataset.csv')\n",
    "df.head(1)"
   ]
  },
  {
   "cell_type": "code",
   "execution_count": 2,
   "metadata": {},
   "outputs": [],
   "source": [
    "collection = chroma_client.get_or_create_collection(\n",
    "    name='multi_hop_rag_dataset',\n",
    "    embedding_function=google_ef,\n",
    "    metadata={\"hnsw:space\": \"cosine\"}\n",
    ")"
   ]
  },
  {
   "cell_type": "code",
   "execution_count": 70,
   "metadata": {},
   "outputs": [
    {
     "name": "stderr",
     "output_type": "stream",
     "text": [
      "100%|██████████| 609/609 [40:14<00:00,  3.96s/it]  "
     ]
    },
    {
     "name": "stdout",
     "output_type": "stream",
     "text": [
      "Total number of articles: 609\n",
      "Done!\n"
     ]
    },
    {
     "name": "stderr",
     "output_type": "stream",
     "text": [
      "\n"
     ]
    }
   ],
   "source": [
    "all_paragraphs = []\n",
    "count = 0\n",
    "for i in tqdm(range(len(df))):\n",
    "\n",
    "    category = df['category'][i]\n",
    "    url = df['url'][i]\n",
    "    title = df['title'][i]\n",
    "    body = df['body'][i]\n",
    "    author = df['author'][i] if not pd.isnull(df['author'][i]) else \"\"\n",
    "    source = df['source'][i]\n",
    "\n",
    "    words = df['body'][i].split(' ')\n",
    "    paragraphs_per_article = []\n",
    "    \n",
    "    for j in range(0, len(words), 200):\n",
    "        paragraphs_per_article.append(' '.join(words[j:j + 250]))\n",
    "    \n",
    "    all_paragraphs.append(paragraphs_per_article)\n",
    "\n",
    "    for idx, paragraph in enumerate(paragraphs_per_article):\n",
    "        metadata = {\n",
    "            \"category\": category,\n",
    "            \"url\": url,\n",
    "            \"title\": title,\n",
    "            \"author\": author,\n",
    "            \"source\": source,\n",
    "            \"paragraph_no\": idx+1\n",
    "        }\n",
    "        while True:\n",
    "            try:\n",
    "                collection.add(\n",
    "                    documents=paragraph,\n",
    "                    metadatas=metadata,\n",
    "                    ids=f\"{i+1}_{idx+1}\",\n",
    "                )\n",
    "                break\n",
    "            except:\n",
    "                count += 1\n",
    "                time.sleep(3)\n",
    "                continue\n",
    "\n",
    "print(f\"Total number of articles: {len(all_paragraphs)}\")\n",
    "print(\"Done!\")"
   ]
  },
  {
   "cell_type": "code",
   "execution_count": null,
   "metadata": {},
   "outputs": [],
   "source": [
    "collection.peek(1)"
   ]
  },
  {
   "cell_type": "code",
   "execution_count": 12,
   "metadata": {},
   "outputs": [
    {
     "name": "stdout",
     "output_type": "stream",
     "text": [
      "Query Time: 0.4093012809753418 seconds\n",
      "---\n",
      "Query Time: 1.4662506580352783 seconds\n",
      "---\n",
      "Query Time: 0.4258270263671875 seconds\n",
      "---\n",
      "Query Time: 1.091294288635254 seconds\n",
      "---\n",
      "Query Time: 0.4633820056915283 seconds\n",
      "---\n",
      "Time taken: 3.8570642471313477 seconds\n",
      "Time taken per query: 0.7714128494262695 seconds\n"
     ]
    }
   ],
   "source": [
    "query = \"Who is the individual associated with the cryptocurrency industry facing a criminal trial on fraud and conspiracy charges, as reported by both The Verge and TechCrunch, and is accused by prosecutors of committing fraud for personal gain?\"\n",
    "queries = [\n",
    "    \"Who is the figure associated with generative AI technology whose departure from OpenAI was considered shocking according to Fortune, and is also the subject of a prevailing theory suggesting a lack of full truthfulness with the board as reported by TechCrunch?\",\n",
    "    \"What is the name of the individual who is the subject of a lawsuit filed by the US Securities and Exchange Commission, as reported by The Verge, and is accused of engaging in a fraudulent scheme to deceive investors?\",\n",
    "    \"Who is the individual associated with the cryptocurrency industry facing a criminal trial on fraud and conspiracy charges, as reported by both The Verge and TechCrunch, and is accused by prosecutors of committing fraud for personal gain?\",\n",
    "    \"Do the TechCrunch article on software companies and the Hacker News article on The Epoch Times both report an increase in revenue related to payment and subscription models, respectively?\",\n",
    "    \"Which online betting platform provides a welcome bonus of up to $1000 in bonus bets for new customers' first losses, runs NBA betting promotions, and is anticipated to extend the same sign-up offer to new users in Vermont, as reported by both CBSSports.com and Sporting News?\",\n",
    "]\n",
    "start_time = time.time()\n",
    "\n",
    "for query in queries:\n",
    "    query_start_time = time.time()\n",
    "    results = collection.query(\n",
    "            query_texts=query,\n",
    "            n_results=10,\n",
    "        )\n",
    "    query_time = time.time() - query_start_time\n",
    "    print(f\"Query Time: {query_time:3} seconds\")\n",
    "    print(\"---\")\n",
    "\n",
    "total_time = time.time() - start_time\n",
    "print(f\"Time taken: {total_time:3} seconds\")\n",
    "print(f\"Time taken per query: {total_time / len(queries):3} seconds\")"
   ]
  },
  {
   "cell_type": "code",
   "execution_count": 13,
   "metadata": {},
   "outputs": [],
   "source": [
    "metaprompt = \"\"\"You are a helpful and informative bot that answers questions using text from the reference document included below. \\\n",
    "Be sure to respond in a complete sentence, being comprehensive, including all relevant background information. \\\n",
    "However, you are talking to a non-technical audience, so be sure to break down complicated concepts and \\\n",
    "strike a friendly and converstional tone. \\\n",
    "Onlt use the data provided in the PASSAGE below.\n",
    "Do not make any assumptions or use your own knowledge.\n",
    "  QUESTION: '{query}'\n",
    "  PASSAGE: '{relevant_passage}'\n",
    "\n",
    "  ANSWER:\n",
    "\"\"\"\n",
    "\n",
    "gemini_result = gemini.send_message(message=metaprompt.format(query=query, relevant_passage=results['documents'][0][0])).text"
   ]
  },
  {
   "cell_type": "code",
   "execution_count": 5,
   "metadata": {},
   "outputs": [
    {
     "data": {
      "text/plain": [
       "'I am sorry, but neither The Verge nor CNET articles on the iPhone 13 series are available in the text provided. Therefore, I cannot answer your question regarding the iPhone model with the best combination of camera features and battery life.'"
      ]
     },
     "execution_count": 5,
     "metadata": {},
     "output_type": "execute_result"
    }
   ],
   "source": [
    "gemini_result"
   ]
  },
  {
   "cell_type": "code",
   "execution_count": 83,
   "metadata": {},
   "outputs": [
    {
     "data": {
      "text/plain": [
       "{'ids': [['577_14',\n",
       "   '577_24',\n",
       "   '223_4',\n",
       "   '601_16',\n",
       "   '601_3',\n",
       "   '418_11',\n",
       "   '601_20',\n",
       "   '92_7',\n",
       "   '601_17',\n",
       "   '92_5']],\n",
       " 'distances': [[0.29910022020339966,\n",
       "   0.3003997802734375,\n",
       "   0.3014300465583801,\n",
       "   0.30526375261953087,\n",
       "   0.3058456271962432,\n",
       "   0.30799537897109985,\n",
       "   0.30879475528735056,\n",
       "   0.3118619918823242,\n",
       "   0.3129707620020653,\n",
       "   0.3153727054595947]],\n",
       " 'metadatas': [[{'author': 'Brenda Stolyar',\n",
       "    'category': 'technology',\n",
       "    'paragraph_no': 14,\n",
       "    'source': 'Wired',\n",
       "    'title': '54 Best Apple Black Friday Deals (2023): iPad, Apple Watch, AirPods',\n",
       "    'url': 'https://www.wired.com/story/best-apple-black-friday-deals-2023-2/'},\n",
       "   {'author': 'Brenda Stolyar',\n",
       "    'category': 'technology',\n",
       "    'paragraph_no': 24,\n",
       "    'source': 'Wired',\n",
       "    'title': '54 Best Apple Black Friday Deals (2023): iPad, Apple Watch, AirPods',\n",
       "    'url': 'https://www.wired.com/story/best-apple-black-friday-deals-2023-2/'},\n",
       "   {'author': 'Jeff Dunn,Valentina Palladino,Amy Skorheim',\n",
       "    'category': 'technology',\n",
       "    'paragraph_no': 4,\n",
       "    'source': 'Engadget',\n",
       "    'title': 'The 53 best Black Friday deals we could find at Amazon, Walmart, Target and more',\n",
       "    'url': 'https://www.engadget.com/the-53-best-black-friday-deals-we-could-find-at-amazon-walmart-target-and-more-151323236.html?src=rss'},\n",
       "   {'author': 'Brenda Stolyar',\n",
       "    'category': 'technology',\n",
       "    'paragraph_no': 16,\n",
       "    'source': 'Wired',\n",
       "    'title': '41 Best Prime Day Apple Deals (2023)',\n",
       "    'url': 'https://www.wired.com/story/amazon-prime-day-apple-deals-october-2023-1/'},\n",
       "   {'author': 'Brenda Stolyar',\n",
       "    'category': 'technology',\n",
       "    'paragraph_no': 3,\n",
       "    'source': 'Wired',\n",
       "    'title': '41 Best Prime Day Apple Deals (2023)',\n",
       "    'url': 'https://www.wired.com/story/amazon-prime-day-apple-deals-october-2023-1/'},\n",
       "   {'author': 'James Trew',\n",
       "    'category': 'technology',\n",
       "    'paragraph_no': 11,\n",
       "    'source': 'Engadget',\n",
       "    'title': \"Teenage Engineering's K.O. II sampler proves the company can do cost-friendly cool\",\n",
       "    'url': 'https://www.engadget.com/teenage-engineerings-ko-ii-sampler-review-150038528.html?src=rss'},\n",
       "   {'author': 'Brenda Stolyar',\n",
       "    'category': 'technology',\n",
       "    'paragraph_no': 20,\n",
       "    'source': 'Wired',\n",
       "    'title': '41 Best Prime Day Apple Deals (2023)',\n",
       "    'url': 'https://www.wired.com/story/amazon-prime-day-apple-deals-october-2023-1/'},\n",
       "   {'author': 'Amy Skorheim',\n",
       "    'category': 'technology',\n",
       "    'paragraph_no': 7,\n",
       "    'source': 'Engadget',\n",
       "    'title': 'The best Apple Cyber Monday deals of 2023: Save on AirPods, iPads, Apple Watches and more',\n",
       "    'url': 'https://www.engadget.com/the-best-apple-cyber-monday-deals-of-2023-save-on-airpods-ipads-apple-watches-and-more-100030003.html?src=rss'},\n",
       "   {'author': 'Brenda Stolyar',\n",
       "    'category': 'technology',\n",
       "    'paragraph_no': 17,\n",
       "    'source': 'Wired',\n",
       "    'title': '41 Best Prime Day Apple Deals (2023)',\n",
       "    'url': 'https://www.wired.com/story/amazon-prime-day-apple-deals-october-2023-1/'},\n",
       "   {'author': 'Amy Skorheim',\n",
       "    'category': 'technology',\n",
       "    'paragraph_no': 5,\n",
       "    'source': 'Engadget',\n",
       "    'title': 'The best Apple Cyber Monday deals of 2023: Save on AirPods, iPads, Apple Watches and more',\n",
       "    'url': 'https://www.engadget.com/the-best-apple-cyber-monday-deals-of-2023-save-on-airpods-ipads-apple-watches-and-more-100030003.html?src=rss'}]],\n",
       " 'embeddings': None,\n",
       " 'documents': [[\"the latest Apple Watch. If you're looking to upgrade, it offers faster performance, improved battery life, and a brighter display. There's also a new Double Tap feature that will trigger functions like playing music or hanging up a call by tapping your index finger and thumb. With the second-gen ultra-wideband chip, you can precision-locate your iPhone and AirPods too.\\n\\nIf you don't need all the in-depth capabilities that come with the Apple Watch Series 9, the second-generation Apple Watch SE is a great alternative. It still tracks crucial health and fitness features, and with the S8 chip, you'll also get Crash Detection and the redesigned Compass app. It has support for WatchOS 10 too, so you'll have access to the latest software updates.\\n\\nThe second-gen Apple Watch Ultra (8/10, WIRED Recommends) packs a brighter 3,000-nit display, the latest S9 chip, and the new ultra-wideband chip for precision-locating your phone. You still get the useful Action button, the three-mic array, and the precise GPS so you can find your way home. It's the Apple Watch with the best battery life thanks to its gigantic size.\\n\\nJump to a Topic: iPads, MacBooks, Apple Watches, Beats and AirPods, Chargers, Cases and Accessories.\\n\\nBeats and AirPods Deals\\n\\nRead our Best Wireless Headphones and Best Wireless Earbuds guides for more.\\n\\nPowerbeats Pro Photograph: Beats\\n\\nThe Powerbeats Pro (8/10, WIRED Recommends) are older (they came out in 2019), but they're still our top pick for earbuds with the most secure fit—making these a great option to workout with. They have an IPX4 water-resistance\",\n",
       "   \"like this tiny adapter from Anker. The 30 watts can fast-charge the iPad Pro despite the compact size and the plug folds in, making it a nice option to take on the go.\\n\\nWhat we like best about this phone mount is that you can use it one-handed. The arms automatically close around the phone when you place it against the trigger button. To remove it, press the release bars. There's also a telescopic arm and ball joint that allows you to tweak the placement and set an ideal angle. We also love the clever magnetic tab that attaches the charging cable to the back of the mount, to keep from having to fish around for it. Plus, it's super sturdy—even on bumpy roads.\\n\\nJump to a Topic: iPads, MacBooks, Apple Watches, Beats and AirPods, Chargers, Cases and Accessories.\\n\\nPhone Cases and Accessory Deals\\n\\nCheck out our Best MagSafe Accessories, Best iPhone 15 Cases, and Best Camera Gear For Your Smartphone guides for other picks.\\n\\nLume Cube Mobile Creator Kit 2.0 Photograph: Lume Cube\\n\\nThis kit comes with a Lume Cube light, a compact tripod (that opens up to 55 inches in length), a shotgun mic with a windscreen, and a universal phone mount with clips to attach all these accessories. It's a great and convenient all-in-one solution if you shoot content with your smartphone.\\n\\nOtterbox is the first name in super-protective phone cases, and it features in our Best Galaxy S23 Cases, Best iPhone 15 Cases, guides along with many others. Over the years, several people\",\n",
       "   'brings slightly speedier performance and on-device Siri processing, the new Double Tap feature and other improvements.\\n\\nApple Watch SE\\n\\nThe Apple Watch SE has dropped to a record low of $179 for Black Friday, which is $70 off its usual price. It may not have all of the advanced health tracking features of the Series 9, but the SE has all of the basics you’d want in a smartwatch, including smart notifications, all-day activity tracking and perks like Fall and Crash Detection and Emergency SOS. If you’re looking for a good entry-point into the Apple Watch space, or a gift for someone who has never worn a smartwatch before, the Apple Watch SE is a great option.\\n\\nApple AirPods Pro (2nd Gen)\\n\\nThe latest version of Apple\\'s AirPods Pro is back on sale for $190 at Amazon, Target and Best Buy. That matches an all-time low and comes in $60 below the pair\\'s usual going rate. The AirPods Pro are the \"best for iOS\" pick in our wireless earbuds buying guide thanks to their easy pairing and deep integration with Apple devices. Effective active noise cancellation (ANC), a superb transparency mode and a pleasingly warm sound profile help as well, as does a new \"adaptive audio\" mode that can adjust the earphones\\' noise control settings based on your surroundings. That said, their battery life is just average at six-ish hours per charge, and you really have to use an iPhone to get anything out of them.\\n\\nWe gave the Lightning-based version of the second-generation AirPods',\n",
       "   \"charging, but you can remove the USB-C charging cable when the iPhone is fully charged. There's also a built-in fan to help keep the temperature down when it's hot out.\\n\\nAnker Nano USB-C Power Bank Photograph: Anker\\n\\nThis is a great power bank if you don't want to worry about carrying a cable around, since it simply slots into the bottom of your phone—thanks to the built-in rotating USB-C or Lightning connector (MFi certified). It also offers 5,000 mAh of energy, and there's a USB-C port for recharging it, complete with a short cable. However, it might not be a good pick if you have a thick case.\\n\\nThis 2-in-1 charger is featured in our guide to the Best MagSafe Accessories. The price matches the lowest we have tracked. It doesn't have a built-in Apple Watch charger, but it can top off your compatible wireless earbuds whilst simultaneously charging your iPhone. It charges at the maximum 15-watt rate, and you can turn your iPhone sideways for iOS 17’s new StandBy mode, converting it into a bedside alarm clock.\\n\\nAnker 737 Power Bank Photograph: Anker\\n\\nWe just added this power bank as our top upgrade pick in our guide to the Best Portable Chargers. It's pricey, but today's deal makes it more accessible. It charges from zero to completely full in an hour and boasts a whopping 24,000-mAh capacity. And it's powerful enough to charge laptops and tablets as well as phones and other gadgets. There's even a built-in display to monitor stats like temperature and\",\n",
       "   \"quality, and more microphones to pick up your voice more clearly. It also packs an M2 chip (the same one powering the MacBook Air and Mac Mini) and an exclusive Hover Mode for the second-gen Apple that allows you to see a preview of what your stylus will do when you hover over the screen.\\n\\niPad Mini Photograph: Apple\\n\\nThe iPad Mini (8/10, WIRED Recommends) is our go-to tablet for travel. It's small enough to slip into my backpack and fits perfectly on an airplane tray table. With an 8.3-inch display, it's great for watching movies or reading ebooks, as well as sketching and taking notes with the second-generation Apple Pencil. Equipped with an A15 Bionic processor (the same chip powering the 2021 iPhone 13), it can handle taxing apps and games with ease. It should have enough power to last you for many years. It's worth noting Apple is rumored to be launching a next-gen version soon, but this is still a solid tablet if you don't need the latest and greatest.\\n\\nMacBook and Accessory Deals\\n\\nRead our Best MacBooks guide for more info and other options.\\n\\nApple MacBook Air Photograph: Apple\\n\\nThe M1-powered MacBook Air (9/10, WIRED Recommends) is our favorite budget MacBook. It's a few years old by now, but it's still one of the most powerful laptops you can buy for this price. It's fast and light and can make quick work of simple office tasks. It also has an improved keyboard (the one that doesn't break). The Air can handle some\",\n",
       "   'this is a promising product from a company that has tested the loyalty of its fans more than usual in recent years.\\n\\nAll products recommended by Engadget are selected by our editorial team, independent of our parent company. Some of our stories include affiliate links. If you buy something through one of these links, we may earn an affiliate commission. All prices are correct at the time of publishing.',\n",
       "   \"a crazy sale, but getting these in a bundle of four means you can keep track of every set of keys, your luggage for a trip, or even your kids' backpack all at once.\\n\\nThose with an iPhone 14 or earlier can never have too many Lightning cables. These cables from Nomad are durable, available in different lengths, and come with the choice between USB-C and USB-A for the other end.\\n\\nRetailer Sale Pages\",\n",
       "   \"Touch-ID top button instead of a Home button, and a USB-C charging. The performance is snappy and the integration with the second-generation Apple Pencil makes it excel as a digital notebook. As we said in our review, with the mini, Apple “quashes notion that ‘smaller’ means ‘lesser.’”\\n\\nApple iPad (9th generation)\\n\\nFor a few hours during the Black Friday sales, the 9th generation iPad went as low as $229 at Amazon. That deal appears to have sold out, but if you still want the prior generation standard Apple slate, it's now $80 off the MSRP from Walmart. That's about the same as it's sold for these past few months. But we still think it's a good buy and recommend it as the best budget iPad you can buy.\\n\\nCheck out our guide to iPads here.\\n\\nMacBook Cyber Monday deals\\n\\nMacBook Pro (14-inch, 2023, M3)\\n\\nThe base model, 14-inch MacBook Pro with the new M3 chip just came out in October but is $150 off for Cyber Monday. After testing the new chip, we think the base model with 8GB of RAM may quickly get bogged down. If it's within your budget, we recommend the model with 16GB of RAM, which is $150 off at B&H photo. And if you upgrade to a model with the M3 Pro chip for an even speedier experience — you'll get a $200 discount as it's down to $2,199 at B&H Photo. We gave the new M3 MacBook Pros an appreciative review and named them the best option for creatives in\",\n",
       "   \"but today's deal makes it more accessible. It charges from zero to completely full in an hour and boasts a whopping 24,000-mAh capacity. And it's powerful enough to charge laptops and tablets as well as phones and other gadgets. There's even a built-in display to monitor stats like temperature and remaining battery percentage.\\n\\nNomad's wireless charger is one of our favorite MagSafe wireless chargers. It delivers the maximum 15-watt charging speed possible, but it's not meant to be held up while you use the phone. It doesn't have a power adapter but includes a USB-C-to-USB-C cable. It'll sit securely on your desk and can charge an Apple Watch, too.\\n\\nThis travel kit from ESR works well if you want something that can prop your iPhone in portrait or landscape orientation. It can also display your Apple Watch in Nightstand mode, so you can peek and see how long before you must get out of bed. The main body folds open with a MagSafe charging pad for your iPhone and a slot behind for your AirPods. Unfortunately, it doesn't support fast charging and it's capped at 7.5 watts and 5 watts for the iPhone and Apple Watch, respectively. But it's a good, affordable charger. It dipped a little lower to $40 back in July, but this is still a solid deal.\\n\\nPhone Cases and Accessory Deals\\n\\nBe sure to read our Best MagSafe Accessories and Best iPhone 15 Cases guides for other picks.\\n\\nPhotograph: iOttie\\n\\nWhat we like best about this phone mount is that you can\",\n",
       "   'that lets you tap your thumb and forefinger together to answer calls and more. It also allows for the onboard processing of Siri requests, making simple demands (like starting a timer or a workout) happen faster.\\n\\nThe Series 9 has an always-on display and when paired with the Sport Loop is a carbon neutral product. As has been the case for many years now, the Apple Watch is an excellent fitness companion, offering comprehensive health and activity data. It also happens to be our favorite smartwatch for most people.\\n\\nRead our full review of the Apple Watch Series 9\\n\\nApple iPad Cyber Monday deals\\n\\niPad (10th generation)\\n\\nThe tenth generation iPad is on sale for $349 at Amazon, Best Buy and Target, which is $100 off the list price. It has often sold for $399 lately so this is still $50 off the typical street price. We don’t think it’s a wild improvement over the previous generation, though it does orient the camera to the landscape edge, which is much better for video calling. The USB-C charging is more modern than the Lightning connector on the 9th gen iPad, but for some reason this model still works with the first generation Apple Pencil (even though the slate came out after the second-gen stylus).\\n\\niPad Air\\n\\nThe base model of the latest generation of the iPad Air has an MSRP of $599 and is now down to $499, a price its hit quite a few times in 2023. This is the iPad we recommend for most people because']],\n",
       " 'uris': None,\n",
       " 'data': None}"
      ]
     },
     "execution_count": 83,
     "metadata": {},
     "output_type": "execute_result"
    }
   ],
   "source": [
    "results"
   ]
  },
  {
   "cell_type": "code",
   "execution_count": 85,
   "metadata": {},
   "outputs": [
    {
     "data": {
      "text/plain": [
       "[\"the latest Apple Watch. If you're looking to upgrade, it offers faster performance, improved battery life, and a brighter display. There's also a new Double Tap feature that will trigger functions like playing music or hanging up a call by tapping your index finger and thumb. With the second-gen ultra-wideband chip, you can precision-locate your iPhone and AirPods too.\\n\\nIf you don't need all the in-depth capabilities that come with the Apple Watch Series 9, the second-generation Apple Watch SE is a great alternative. It still tracks crucial health and fitness features, and with the S8 chip, you'll also get Crash Detection and the redesigned Compass app. It has support for WatchOS 10 too, so you'll have access to the latest software updates.\\n\\nThe second-gen Apple Watch Ultra (8/10, WIRED Recommends) packs a brighter 3,000-nit display, the latest S9 chip, and the new ultra-wideband chip for precision-locating your phone. You still get the useful Action button, the three-mic array, and the precise GPS so you can find your way home. It's the Apple Watch with the best battery life thanks to its gigantic size.\\n\\nJump to a Topic: iPads, MacBooks, Apple Watches, Beats and AirPods, Chargers, Cases and Accessories.\\n\\nBeats and AirPods Deals\\n\\nRead our Best Wireless Headphones and Best Wireless Earbuds guides for more.\\n\\nPowerbeats Pro Photograph: Beats\\n\\nThe Powerbeats Pro (8/10, WIRED Recommends) are older (they came out in 2019), but they're still our top pick for earbuds with the most secure fit—making these a great option to workout with. They have an IPX4 water-resistance\",\n",
       " \"like this tiny adapter from Anker. The 30 watts can fast-charge the iPad Pro despite the compact size and the plug folds in, making it a nice option to take on the go.\\n\\nWhat we like best about this phone mount is that you can use it one-handed. The arms automatically close around the phone when you place it against the trigger button. To remove it, press the release bars. There's also a telescopic arm and ball joint that allows you to tweak the placement and set an ideal angle. We also love the clever magnetic tab that attaches the charging cable to the back of the mount, to keep from having to fish around for it. Plus, it's super sturdy—even on bumpy roads.\\n\\nJump to a Topic: iPads, MacBooks, Apple Watches, Beats and AirPods, Chargers, Cases and Accessories.\\n\\nPhone Cases and Accessory Deals\\n\\nCheck out our Best MagSafe Accessories, Best iPhone 15 Cases, and Best Camera Gear For Your Smartphone guides for other picks.\\n\\nLume Cube Mobile Creator Kit 2.0 Photograph: Lume Cube\\n\\nThis kit comes with a Lume Cube light, a compact tripod (that opens up to 55 inches in length), a shotgun mic with a windscreen, and a universal phone mount with clips to attach all these accessories. It's a great and convenient all-in-one solution if you shoot content with your smartphone.\\n\\nOtterbox is the first name in super-protective phone cases, and it features in our Best Galaxy S23 Cases, Best iPhone 15 Cases, guides along with many others. Over the years, several people\",\n",
       " 'brings slightly speedier performance and on-device Siri processing, the new Double Tap feature and other improvements.\\n\\nApple Watch SE\\n\\nThe Apple Watch SE has dropped to a record low of $179 for Black Friday, which is $70 off its usual price. It may not have all of the advanced health tracking features of the Series 9, but the SE has all of the basics you’d want in a smartwatch, including smart notifications, all-day activity tracking and perks like Fall and Crash Detection and Emergency SOS. If you’re looking for a good entry-point into the Apple Watch space, or a gift for someone who has never worn a smartwatch before, the Apple Watch SE is a great option.\\n\\nApple AirPods Pro (2nd Gen)\\n\\nThe latest version of Apple\\'s AirPods Pro is back on sale for $190 at Amazon, Target and Best Buy. That matches an all-time low and comes in $60 below the pair\\'s usual going rate. The AirPods Pro are the \"best for iOS\" pick in our wireless earbuds buying guide thanks to their easy pairing and deep integration with Apple devices. Effective active noise cancellation (ANC), a superb transparency mode and a pleasingly warm sound profile help as well, as does a new \"adaptive audio\" mode that can adjust the earphones\\' noise control settings based on your surroundings. That said, their battery life is just average at six-ish hours per charge, and you really have to use an iPhone to get anything out of them.\\n\\nWe gave the Lightning-based version of the second-generation AirPods']"
      ]
     },
     "execution_count": 85,
     "metadata": {},
     "output_type": "execute_result"
    }
   ],
   "source": [
    "results['documents'][0][:3]"
   ]
  }
 ],
 "metadata": {
  "kernelspec": {
   "display_name": ".venv",
   "language": "python",
   "name": "python3"
  },
  "language_info": {
   "codemirror_mode": {
    "name": "ipython",
    "version": 3
   },
   "file_extension": ".py",
   "mimetype": "text/x-python",
   "name": "python",
   "nbconvert_exporter": "python",
   "pygments_lexer": "ipython3",
   "version": "3.10.5"
  }
 },
 "nbformat": 4,
 "nbformat_minor": 2
}
