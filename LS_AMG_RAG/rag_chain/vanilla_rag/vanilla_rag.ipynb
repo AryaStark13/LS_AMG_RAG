{
 "cells": [
  {
   "cell_type": "code",
   "execution_count": 11,
   "metadata": {},
   "outputs": [],
   "source": [
    "from IPython.display import display, Markdown\n",
    "import os\n",
    "from LS_AMG_RAG.data_snythesis import prompt_utils\n",
    "import google.generativeai as palm\n",
    "import time\n",
    "\n",
    "import chromadb\n",
    "import chromadb.utils.embedding_functions as embedding_functions\n",
    "# chroma_client = chromadb.Client()\n",
    "# chroma_client = chromadb.PersistentClient(path=\"./\")\n",
    "# chroma_client = chromadb.HttpClient(host='localhost', port=8000)\n",
    "chroma_client = chromadb.HttpClient(host=\"44.222.251.196\", port=8000)\n",
    "gemini = prompt_utils.Gemini()\n",
    "google_ef  = embedding_functions.GoogleGenerativeAiEmbeddingFunction(api_key=os.environ['GEMINI_API_KEY'])"
   ]
  },
  {
   "cell_type": "code",
   "execution_count": 12,
   "metadata": {},
   "outputs": [
    {
     "data": {
      "text/plain": [
       "1711099506439058097"
      ]
     },
     "execution_count": 12,
     "metadata": {},
     "output_type": "execute_result"
    }
   ],
   "source": [
    "chroma_client.heartbeat()"
   ]
  },
  {
   "cell_type": "code",
   "execution_count": 13,
   "metadata": {},
   "outputs": [
    {
     "name": "stdout",
     "output_type": "stream",
     "text": [
      "Total number of documents in the collection: 74\n"
     ]
    }
   ],
   "source": [
    "try:\n",
    "    collection = chroma_client.get_or_create_collection(\n",
    "        name=\"my_collection\",\n",
    "        embedding_function=google_ef,\n",
    "        metadata={\"hnsw:space\": \"cosine\"})\n",
    "except:\n",
    "    collection = chroma_client.create_collection(\n",
    "        name=\"my_collection\",\n",
    "        embedding_function=google_ef,\n",
    "        metadata={\"hnsw:space\": \"cosine\"})\n",
    "    documents = []\n",
    "    metadata = []\n",
    "    ids = []\n",
    "\n",
    "    for root, dirs, files in os.walk(\"../data\"):\n",
    "        for file in files:\n",
    "            if file.endswith(\".md\"):\n",
    "                category = root.split('\\\\')[-1]\n",
    "                with open(os.path.join(root, file), \"r\") as f:\n",
    "                    file_contents = f.read()\n",
    "                    documents.append(file_contents)\n",
    "                    metadata.append({\n",
    "                        \"type\": category,\n",
    "                    })\n",
    "                    ids.append(f\"{category}_{file}\")\n",
    "\n",
    "    collection.add(\n",
    "        documents=documents,\n",
    "        metadatas=metadata,\n",
    "        ids=ids,\n",
    "    )\n",
    "\n",
    "else:\n",
    "    print(f\"Total number of documents in the collection: {len(collection.get()['ids'])}\")"
   ]
  },
  {
   "cell_type": "code",
   "execution_count": 14,
   "metadata": {},
   "outputs": [],
   "source": [
    "documents = []\n",
    "metadata = []\n",
    "ids = []\n",
    "\n",
    "for root, dirs, files in os.walk(\"../data\"):\n",
    "    for file in files:\n",
    "        if file.endswith(\".md\"):\n",
    "            category = root.split('\\\\')[-1]\n",
    "            with open(os.path.join(root, file), \"r\") as f:\n",
    "                file_contents = f.read()\n",
    "                documents.append(file_contents)\n",
    "                metadata.append({\n",
    "                    \"type\": category,\n",
    "                })\n",
    "                ids.append(f\"{category}_{file}\")\n",
    "\n",
    "collection.add(\n",
    "    documents=documents,\n",
    "    metadatas=metadata,\n",
    "    ids=ids,\n",
    ")"
   ]
  },
  {
   "cell_type": "code",
   "execution_count": 15,
   "metadata": {},
   "outputs": [],
   "source": [
    "top_k = {\n",
    "    1: [],\n",
    "    3: [],\n",
    "    5: [],\n",
    "    10: [],\n",
    "}\n",
    "\n",
    "queries = [\n",
    "    {'query': \"What is Instagram's current business proposal?\",\n",
    "     'file': \"Business Proposal.md\"},\n",
    "    {'query': \"What is the marketing plan for Instagram?\",\n",
    "     'file': \"Marketing Plan.md\"},\n",
    "    {'query': \"What information does the progress report of Instagram contain?\",\n",
    "     'file': \"Progress Report.md\"},\n",
    "    {'query': \"Who are the members of Instagram's board of directors?\",\n",
    "     'file': \"Board of Directors.md\"},\n",
    "    {'query': \"What are the diversity and inclusion initiatives implemented by Instagram?\",\n",
    "     'file': 'Diversity, Equity, and Inclusion.md'},\n",
    "    {'query': \"What is the Marketing Objective for Influencer Collaboration Services?\",\n",
    "     'file': 'Marketing Plan.md'},\n",
    "    {'query': \"Who is the target audience of Content Creation and Curation Services?\",\n",
    "     'file': 'Marketing Plan.md'},\n",
    "    {'query': \"What is the financial update for the Reels Optimization Project?\",\n",
    "     'file': 'Progress Report.md'},\n",
    "    {'query': \"Give me details about the progress report of the Stories Upgrade project.\",\n",
    "     'file': 'Progress Report.md'},\n",
    "    {'query': \"Compare the progress report of the Feed Redesign and Stories Upgrade project and draw a conclusion on the information.\",\n",
    "     'file': 'Progress Report.md'}\n",
    "]\n",
    "\n",
    "step_times = {\n",
    "    'retrieval': [],\n",
    "    'gen': [],\n",
    "    'total': [],\n",
    "}"
   ]
  },
  {
   "cell_type": "code",
   "execution_count": 16,
   "metadata": {},
   "outputs": [
    {
     "name": "stdout",
     "output_type": "stream",
     "text": [
      "Query 1: What is Instagram's current business proposal?\n",
      "True document: Business Proposal.md\n",
      "Document retrieved: employee_contracts_employee_contract_Emily Brown.md\n",
      "Retrieval time: 0.96 seconds\n"
     ]
    },
    {
     "data": {
      "text/markdown": [
       "I'm sorry, but I am unable to answer your question as the information you are seeking cannot be found within the provided document."
      ],
      "text/plain": [
       "<IPython.core.display.Markdown object>"
      ]
     },
     "metadata": {},
     "output_type": "display_data"
    },
    {
     "name": "stdout",
     "output_type": "stream",
     "text": [
      "Gemini time: 1.63 seconds\n",
      "Total time: 2.59 seconds\n",
      "\n",
      "-------------------\n",
      "\n",
      "Query 2: What is the marketing plan for Instagram?\n",
      "True document: Marketing Plan.md\n",
      "Document retrieved: employee_contracts_employee_contract_Emily Brown.md\n",
      "Retrieval time: 0.94 seconds\n"
     ]
    },
    {
     "data": {
      "text/markdown": [
       "I apologize, but the provided document does not contain information regarding Instagram's current business proposal."
      ],
      "text/plain": [
       "<IPython.core.display.Markdown object>"
      ]
     },
     "metadata": {},
     "output_type": "display_data"
    },
    {
     "name": "stdout",
     "output_type": "stream",
     "text": [
      "Gemini time: 1.37 seconds\n",
      "Total time: 2.31 seconds\n",
      "\n",
      "-------------------\n",
      "\n",
      "Query 3: What information does the progress report of Instagram contain?\n",
      "True document: Progress Report.md\n",
      "Document retrieved: employee_contracts_employee_contract_Max Nguyen.md\n",
      "Retrieval time: 0.94 seconds\n"
     ]
    },
    {
     "data": {
      "text/markdown": [
       "I'm sorry, but the provided document does not include any information on Instagram's current business proposal."
      ],
      "text/plain": [
       "<IPython.core.display.Markdown object>"
      ]
     },
     "metadata": {},
     "output_type": "display_data"
    },
    {
     "name": "stdout",
     "output_type": "stream",
     "text": [
      "Gemini time: 1.41 seconds\n",
      "Total time: 2.35 seconds\n",
      "\n",
      "-------------------\n",
      "\n",
      "Query 4: Who are the members of Instagram's board of directors?\n",
      "True document: Board of Directors.md\n",
      "Document retrieved: employee_esops_employee_esop_Jane Smith.md\n",
      "Retrieval time: 0.93 seconds\n"
     ]
    },
    {
     "data": {
      "text/markdown": [
       "I'm sorry, but the provided document does not contain any information about Instagram's current business proposal."
      ],
      "text/plain": [
       "<IPython.core.display.Markdown object>"
      ]
     },
     "metadata": {},
     "output_type": "display_data"
    },
    {
     "name": "stdout",
     "output_type": "stream",
     "text": [
      "Gemini time: 1.52 seconds\n",
      "Total time: 2.45 seconds\n",
      "\n",
      "-------------------\n",
      "\n",
      "Query 5: What are the diversity and inclusion initiatives implemented by Instagram?\n",
      "True document: Diversity, Equity, and Inclusion.md\n",
      "Document retrieved: employee_esops_employee_esop_David Lee.md\n",
      "Retrieval time: 0.92 seconds\n"
     ]
    },
    {
     "data": {
      "text/markdown": [
       "I'm sorry, but the provided document does not contain any information about Instagram's current business proposal."
      ],
      "text/plain": [
       "<IPython.core.display.Markdown object>"
      ]
     },
     "metadata": {},
     "output_type": "display_data"
    },
    {
     "name": "stdout",
     "output_type": "stream",
     "text": [
      "Gemini time: 1.46 seconds\n",
      "Total time: 2.38 seconds\n",
      "\n",
      "-------------------\n",
      "\n",
      "Query 6: What is the Marketing Objective for Influencer Collaboration Services?\n",
      "True document: Marketing Plan.md\n",
      "Document retrieved: employee_contracts_employee_contract_Mila Lee.md\n",
      "Retrieval time: 0.91 seconds\n"
     ]
    },
    {
     "data": {
      "text/markdown": [
       "Unfortunately, the provided document does not contain any information about Instagram's current business proposal."
      ],
      "text/plain": [
       "<IPython.core.display.Markdown object>"
      ]
     },
     "metadata": {},
     "output_type": "display_data"
    },
    {
     "name": "stdout",
     "output_type": "stream",
     "text": [
      "Gemini time: 2.41 seconds\n",
      "Total time: 3.31 seconds\n",
      "\n",
      "-------------------\n",
      "\n",
      "Query 7: Who is the target audience of Content Creation and Curation Services?\n",
      "True document: Marketing Plan.md\n",
      "Document retrieved: business_docs_Progress Report.md\n",
      "Retrieval time: 0.95 seconds\n"
     ]
    },
    {
     "data": {
      "text/markdown": [
       "I apologize, but I cannot provide information on Instagram's current business proposal as it is not included in the provided document."
      ],
      "text/plain": [
       "<IPython.core.display.Markdown object>"
      ]
     },
     "metadata": {},
     "output_type": "display_data"
    },
    {
     "name": "stdout",
     "output_type": "stream",
     "text": [
      "Gemini time: 2.44 seconds\n",
      "Total time: 3.39 seconds\n",
      "\n",
      "-------------------\n",
      "\n",
      "Query 8: What is the financial update for the Reels Optimization Project?\n",
      "True document: Progress Report.md\n",
      "Document retrieved: employee_payslips_employee_payslip_Mila Lee.md\n",
      "Retrieval time: 0.69 seconds\n"
     ]
    },
    {
     "data": {
      "text/markdown": [
       "I'm sorry, but the provided document does not contain any information on Instagram's current business proposal."
      ],
      "text/plain": [
       "<IPython.core.display.Markdown object>"
      ]
     },
     "metadata": {},
     "output_type": "display_data"
    },
    {
     "name": "stdout",
     "output_type": "stream",
     "text": [
      "Gemini time: 1.73 seconds\n",
      "Total time: 2.41 seconds\n",
      "\n",
      "-------------------\n",
      "\n",
      "Query 9: Give me details about the progress report of the Stories Upgrade project.\n",
      "True document: Progress Report.md\n",
      "Document retrieved: employee_contracts_employee_contract_Luna Nguyen.md\n",
      "Retrieval time: 0.93 seconds\n"
     ]
    },
    {
     "data": {
      "text/markdown": [
       "I apologize, but the provided document does not contain any information on Instagram's current business proposal."
      ],
      "text/plain": [
       "<IPython.core.display.Markdown object>"
      ]
     },
     "metadata": {},
     "output_type": "display_data"
    },
    {
     "name": "stdout",
     "output_type": "stream",
     "text": [
      "Gemini time: 2.80 seconds\n",
      "Total time: 3.72 seconds\n",
      "\n",
      "-------------------\n",
      "\n",
      "Query 10: Compare the progress report of the Feed Redesign and Stories Upgrade project and draw a conclusion on the information.\n",
      "True document: Progress Report.md\n",
      "Document retrieved: employee_payslips_employee_payslip_Luna Nguyen.md\n",
      "Retrieval time: 0.94 seconds\n"
     ]
    },
    {
     "data": {
      "text/markdown": [
       "Based on the information provided, I cannot find any details about Instagram's current business proposal."
      ],
      "text/plain": [
       "<IPython.core.display.Markdown object>"
      ]
     },
     "metadata": {},
     "output_type": "display_data"
    },
    {
     "name": "stdout",
     "output_type": "stream",
     "text": [
      "Gemini time: 2.34 seconds\n",
      "Total time: 3.28 seconds\n",
      "\n",
      "-------------------\n",
      "\n",
      "Results:\n",
      "Top@K:\n",
      "Top@1: 0.00%\n",
      "Top@3: 0.00%\n",
      "Top@5: 0.00%\n",
      "Top@10: 100.00%\n",
      "\n",
      "\n",
      "Average Times:\n",
      "Retrieval time: 0.91 seconds\n",
      "Generation time: 1.91 seconds\n",
      "Total time: 2.82 seconds\n"
     ]
    }
   ],
   "source": [
    "\n",
    "for idx, query in enumerate(queries):\n",
    "    print(f\"Query {idx+1}: {query['query']}\")\n",
    "    total_start_time = time.time()\n",
    "    retrieval_start_time = time.time()\n",
    "    results = collection.query(\n",
    "        query_texts=query['query'],\n",
    "        n_results=10,\n",
    "    )\n",
    "\n",
    "    for k in top_k.keys():\n",
    "        top_k[k].append(any(query['file'] in x for x in results['ids'][0][-k:]))\n",
    "\n",
    "    retrieval_end_time = time.time()\n",
    "    print(f\"True document: {query['file']}\")\n",
    "    print(f\"Document retrieved: {results['ids'][0][-1]}\")\n",
    "    print(f\"Retrieval time: {retrieval_end_time - retrieval_start_time:.2f} seconds\")\n",
    "\n",
    "\n",
    "    metaprompt = \"\"\"You are a helpful and informative bot that answers questions using text from the reference document included below. \\\n",
    "Be sure to respond in a complete sentence, being comprehensive, including all relevant background information. \\\n",
    "However, you are talking to a non-technical audience, so be sure to break down complicated concepts and \\\n",
    "strike a friendly and converstional tone. \\\n",
    "Use your own knowledge base in addition to the information provided in the document to answer the question. \\\n",
    "Make relevant assumptions and use your best judgement to answer the question. \\\n",
    "  QUESTION: '{query}'\n",
    "  PASSAGE: '{relevant_passage}'\n",
    "\n",
    "  ANSWER:\n",
    "\"\"\"\n",
    "\n",
    "    gen_start_time = time.time()\n",
    "    gemini_result = gemini.send_message(message=metaprompt.format(query=queries[0], relevant_passage=results['documents'][0][-1])).text\n",
    "    gen_end_time = time.time()\n",
    "    total_end_time = time.time()\n",
    "\n",
    "    step_times['retrieval'].append(retrieval_end_time - retrieval_start_time)\n",
    "    step_times['gen'].append(gen_end_time - gen_start_time)\n",
    "    step_times['total'].append(total_end_time - total_start_time)\n",
    "    \n",
    "    display(Markdown(gemini_result))\n",
    "    print(f\"Gemini time: {gen_end_time - gen_start_time:.2f} seconds\")\n",
    "    print(f\"Total time: {total_end_time - total_start_time:.2f} seconds\")\n",
    "    print(\"\\n-------------------\\n\")\n",
    "\n",
    "print(\"Results:\")\n",
    "print(\"Top@K:\")\n",
    "for k in top_k.keys():\n",
    "    print(f\"Top@{k}: {(sum(top_k[k]) * 100) / len(top_k[k]):.2f}%\")\n",
    "\n",
    "print(\"\\n\")\n",
    "\n",
    "print(\"Average Times:\")\n",
    "print(f\"Retrieval time: {sum(step_times['retrieval']) / len(step_times['retrieval']):.2f} seconds\")\n",
    "print(f\"Generation time: {sum(step_times['gen']) / len(step_times['gen']):.2f} seconds\")\n",
    "print(f\"Total time: {sum(step_times['total']) / len(step_times['total']):.2f} seconds\")"
   ]
  }
 ],
 "metadata": {
  "kernelspec": {
   "display_name": "rag_env",
   "language": "python",
   "name": "python3"
  },
  "language_info": {
   "codemirror_mode": {
    "name": "ipython",
    "version": 3
   },
   "file_extension": ".py",
   "mimetype": "text/x-python",
   "name": "python",
   "nbconvert_exporter": "python",
   "pygments_lexer": "ipython3",
   "version": "3.10.5"
  }
 },
 "nbformat": 4,
 "nbformat_minor": 2
}
