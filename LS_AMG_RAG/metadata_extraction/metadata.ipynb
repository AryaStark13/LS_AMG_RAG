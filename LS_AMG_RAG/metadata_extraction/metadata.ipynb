{
 "cells": [
  {
   "cell_type": "code",
   "execution_count": 1,
   "metadata": {},
   "outputs": [],
   "source": [
    "import pke\n",
    "from pke.lang import stopwords\n",
    "import string\n",
    "import re"
   ]
  },
  {
   "cell_type": "code",
   "execution_count": 2,
   "metadata": {},
   "outputs": [],
   "source": [
    "def remove_markdown_formatting(text):\n",
    "    # Remove code blocks enclosed in triple backticks\n",
    "    pattern_code_blocks = r\"```[^\\\\S\\\\r\\\\n]*[a-z]*(?:\\\\n(?!```$).*)*\\\\n```\"\n",
    "    text_without_code_blocks = re.sub(pattern_code_blocks, '', text, 0, re.DOTALL)\n",
    "\n",
    "    # Remove asterisks and hash symbols\n",
    "    pattern_asterisks = r\"\\*+\"\n",
    "    pattern_hashes = r\"#\"\n",
    "    text_without_formatting = re.sub(pattern_asterisks, '', text_without_code_blocks)\n",
    "    text_without_formatting = re.sub(pattern_hashes, '', text_without_formatting)\n",
    "\n",
    "    return text_without_formatting"
   ]
  },
  {
   "cell_type": "code",
   "execution_count": 18,
   "metadata": {},
   "outputs": [
    {
     "ename": "KeyError",
     "evalue": "'file'",
     "output_type": "error",
     "traceback": [
      "\u001b[1;31m---------------------------------------------------------------------------\u001b[0m",
      "\u001b[1;31mKeyError\u001b[0m                                  Traceback (most recent call last)",
      "Cell \u001b[1;32mIn[18], line 9\u001b[0m\n\u001b[0;32m      7\u001b[0m \u001b[38;5;28;01mfor\u001b[39;00m file \u001b[38;5;129;01min\u001b[39;00m files:\n\u001b[0;32m      8\u001b[0m     \u001b[38;5;28;01mwith\u001b[39;00m \u001b[38;5;28mopen\u001b[39m(os\u001b[38;5;241m.\u001b[39mpath\u001b[38;5;241m.\u001b[39mjoin(root, file), \u001b[38;5;124m'\u001b[39m\u001b[38;5;124mr\u001b[39m\u001b[38;5;124m'\u001b[39m) \u001b[38;5;28;01mas\u001b[39;00m f:\n\u001b[1;32m----> 9\u001b[0m         \u001b[43mdf\u001b[49m\u001b[43m[\u001b[49m\u001b[38;5;124;43m'\u001b[39;49m\u001b[38;5;124;43mfile\u001b[39;49m\u001b[38;5;124;43m'\u001b[39;49m\u001b[43m]\u001b[49m\u001b[38;5;241m.\u001b[39mappend(file)\n\u001b[0;32m     10\u001b[0m         df[\u001b[38;5;124m'\u001b[39m\u001b[38;5;124mcategory\u001b[39m\u001b[38;5;124m'\u001b[39m]\u001b[38;5;241m.\u001b[39mappend(root\u001b[38;5;241m.\u001b[39msplit(\u001b[38;5;124m'\u001b[39m\u001b[38;5;124m/\u001b[39m\u001b[38;5;124m'\u001b[39m)[\u001b[38;5;241m-\u001b[39m\u001b[38;5;241m1\u001b[39m])\n\u001b[0;32m     11\u001b[0m         df[\u001b[38;5;124m'\u001b[39m\u001b[38;5;124mtext\u001b[39m\u001b[38;5;124m'\u001b[39m]\u001b[38;5;241m.\u001b[39mappend(remove_markdown_formatting(f\u001b[38;5;241m.\u001b[39mread()))\n",
      "File \u001b[1;32md:\\MajorProject\\Repo\\LS_AMG_RAG\\.venv\\lib\\site-packages\\pandas\\core\\frame.py:4090\u001b[0m, in \u001b[0;36mDataFrame.__getitem__\u001b[1;34m(self, key)\u001b[0m\n\u001b[0;32m   4088\u001b[0m \u001b[38;5;28;01mif\u001b[39;00m \u001b[38;5;28mself\u001b[39m\u001b[38;5;241m.\u001b[39mcolumns\u001b[38;5;241m.\u001b[39mnlevels \u001b[38;5;241m>\u001b[39m \u001b[38;5;241m1\u001b[39m:\n\u001b[0;32m   4089\u001b[0m     \u001b[38;5;28;01mreturn\u001b[39;00m \u001b[38;5;28mself\u001b[39m\u001b[38;5;241m.\u001b[39m_getitem_multilevel(key)\n\u001b[1;32m-> 4090\u001b[0m indexer \u001b[38;5;241m=\u001b[39m \u001b[38;5;28;43mself\u001b[39;49m\u001b[38;5;241;43m.\u001b[39;49m\u001b[43mcolumns\u001b[49m\u001b[38;5;241;43m.\u001b[39;49m\u001b[43mget_loc\u001b[49m\u001b[43m(\u001b[49m\u001b[43mkey\u001b[49m\u001b[43m)\u001b[49m\n\u001b[0;32m   4091\u001b[0m \u001b[38;5;28;01mif\u001b[39;00m is_integer(indexer):\n\u001b[0;32m   4092\u001b[0m     indexer \u001b[38;5;241m=\u001b[39m [indexer]\n",
      "File \u001b[1;32md:\\MajorProject\\Repo\\LS_AMG_RAG\\.venv\\lib\\site-packages\\pandas\\core\\indexes\\range.py:417\u001b[0m, in \u001b[0;36mRangeIndex.get_loc\u001b[1;34m(self, key)\u001b[0m\n\u001b[0;32m    415\u001b[0m         \u001b[38;5;28;01mraise\u001b[39;00m \u001b[38;5;167;01mKeyError\u001b[39;00m(key) \u001b[38;5;28;01mfrom\u001b[39;00m \u001b[38;5;21;01merr\u001b[39;00m\n\u001b[0;32m    416\u001b[0m \u001b[38;5;28;01mif\u001b[39;00m \u001b[38;5;28misinstance\u001b[39m(key, Hashable):\n\u001b[1;32m--> 417\u001b[0m     \u001b[38;5;28;01mraise\u001b[39;00m \u001b[38;5;167;01mKeyError\u001b[39;00m(key)\n\u001b[0;32m    418\u001b[0m \u001b[38;5;28mself\u001b[39m\u001b[38;5;241m.\u001b[39m_check_indexing_error(key)\n\u001b[0;32m    419\u001b[0m \u001b[38;5;28;01mraise\u001b[39;00m \u001b[38;5;167;01mKeyError\u001b[39;00m(key)\n",
      "\u001b[1;31mKeyError\u001b[0m: 'file'"
     ]
    }
   ],
   "source": [
    "import os\n",
    "import markdown\n",
    "\n",
    "data = dict()\n",
    "\n",
    "for root, dirs, files in os.walk('../data'):\n",
    "    for file in files:\n",
    "        with open(os.path.join(root, file), 'r') as f:\n",
    "            raw_text = remove_markdown_formatting(f.read())\n",
    "            data[file] = raw_text\n",
    "            "
   ]
  },
  {
   "cell_type": "code",
   "execution_count": 17,
   "metadata": {},
   "outputs": [
    {
     "data": {
      "text/html": [
       "<div>\n",
       "<style scoped>\n",
       "    .dataframe tbody tr th:only-of-type {\n",
       "        vertical-align: middle;\n",
       "    }\n",
       "\n",
       "    .dataframe tbody tr th {\n",
       "        vertical-align: top;\n",
       "    }\n",
       "\n",
       "    .dataframe thead th {\n",
       "        text-align: right;\n",
       "    }\n",
       "</style>\n",
       "<table border=\"1\" class=\"dataframe\">\n",
       "  <thead>\n",
       "    <tr style=\"text-align: right;\">\n",
       "      <th></th>\n",
       "      <th>file</th>\n",
       "      <th>category</th>\n",
       "      <th>text</th>\n",
       "    </tr>\n",
       "  </thead>\n",
       "  <tbody>\n",
       "  </tbody>\n",
       "</table>\n",
       "</div>"
      ],
      "text/plain": [
       "Empty DataFrame\n",
       "Columns: [file, category, text]\n",
       "Index: []"
      ]
     },
     "execution_count": 17,
     "metadata": {},
     "output_type": "execute_result"
    }
   ],
   "source": [
    "df"
   ]
  },
  {
   "cell_type": "code",
   "execution_count": 8,
   "metadata": {},
   "outputs": [
    {
     "data": {
      "text/html": [
       "<div>\n",
       "<style scoped>\n",
       "    .dataframe tbody tr th:only-of-type {\n",
       "        vertical-align: middle;\n",
       "    }\n",
       "\n",
       "    .dataframe tbody tr th {\n",
       "        vertical-align: top;\n",
       "    }\n",
       "\n",
       "    .dataframe thead th {\n",
       "        text-align: right;\n",
       "    }\n",
       "</style>\n",
       "<table border=\"1\" class=\"dataframe\">\n",
       "  <thead>\n",
       "    <tr style=\"text-align: right;\">\n",
       "      <th></th>\n",
       "      <th>File</th>\n",
       "      <th>Text</th>\n",
       "    </tr>\n",
       "  </thead>\n",
       "  <tbody>\n",
       "    <tr>\n",
       "      <th>0</th>\n",
       "      <td>Business Proposal.md</td>\n",
       "      <td>[\\n Company Name: Instagram\\n Category of Docu...</td>\n",
       "    </tr>\n",
       "    <tr>\n",
       "      <th>1</th>\n",
       "      <td>Marketing Plan.md</td>\n",
       "      <td>[\\n Company Name: Instagram\\n Category of Docu...</td>\n",
       "    </tr>\n",
       "    <tr>\n",
       "      <th>2</th>\n",
       "      <td>Progress Report.md</td>\n",
       "      <td>[ Instagram Progress Report\\n\\n| Project Name ...</td>\n",
       "    </tr>\n",
       "    <tr>\n",
       "      <th>3</th>\n",
       "      <td>About Instagram.md</td>\n",
       "      <td>[ About Instagram\\n\\nOverview\\n\\nInstagram is ...</td>\n",
       "    </tr>\n",
       "    <tr>\n",
       "      <th>4</th>\n",
       "      <td>Board of Directors.md</td>\n",
       "      <td>[ Board of Directors\\n\\nThe Board of Directors...</td>\n",
       "    </tr>\n",
       "    <tr>\n",
       "      <th>...</th>\n",
       "      <td>...</td>\n",
       "      <td>...</td>\n",
       "    </tr>\n",
       "    <tr>\n",
       "      <th>72</th>\n",
       "      <td>employee_payslip_William Anderson.md</td>\n",
       "      <td>[\\n Employee Payslip\\n\\n Employee Information:...</td>\n",
       "    </tr>\n",
       "    <tr>\n",
       "      <th>73</th>\n",
       "      <td>employee_payslip_Zoe Lee.md</td>\n",
       "      <td>[\\n Employee Payslip\\n\\n Employee Information:...</td>\n",
       "    </tr>\n",
       "    <tr>\n",
       "      <th>74</th>\n",
       "      <td>employee_payslip_template.md</td>\n",
       "      <td>[ Employee Payslip\\n\\n Employee Information:\\n...</td>\n",
       "    </tr>\n",
       "    <tr>\n",
       "      <th>75</th>\n",
       "      <td>employee_stock_ownership_plan_template.md</td>\n",
       "      <td>[ Employee Stock Ownership Plan (ESOP)\\n\\n Emp...</td>\n",
       "    </tr>\n",
       "    <tr>\n",
       "      <th>76</th>\n",
       "      <td>employment_contract_template.md</td>\n",
       "      <td>[ Employment Contract\\n\\n Employee Information...</td>\n",
       "    </tr>\n",
       "  </tbody>\n",
       "</table>\n",
       "<p>77 rows × 2 columns</p>\n",
       "</div>"
      ],
      "text/plain": [
       "                                         File  \\\n",
       "0                        Business Proposal.md   \n",
       "1                           Marketing Plan.md   \n",
       "2                          Progress Report.md   \n",
       "3                          About Instagram.md   \n",
       "4                       Board of Directors.md   \n",
       "..                                        ...   \n",
       "72       employee_payslip_William Anderson.md   \n",
       "73                employee_payslip_Zoe Lee.md   \n",
       "74               employee_payslip_template.md   \n",
       "75  employee_stock_ownership_plan_template.md   \n",
       "76            employment_contract_template.md   \n",
       "\n",
       "                                                 Text  \n",
       "0   [\\n Company Name: Instagram\\n Category of Docu...  \n",
       "1   [\\n Company Name: Instagram\\n Category of Docu...  \n",
       "2   [ Instagram Progress Report\\n\\n| Project Name ...  \n",
       "3   [ About Instagram\\n\\nOverview\\n\\nInstagram is ...  \n",
       "4   [ Board of Directors\\n\\nThe Board of Directors...  \n",
       "..                                                ...  \n",
       "72  [\\n Employee Payslip\\n\\n Employee Information:...  \n",
       "73  [\\n Employee Payslip\\n\\n Employee Information:...  \n",
       "74  [ Employee Payslip\\n\\n Employee Information:\\n...  \n",
       "75  [ Employee Stock Ownership Plan (ESOP)\\n\\n Emp...  \n",
       "76  [ Employment Contract\\n\\n Employee Information...  \n",
       "\n",
       "[77 rows x 2 columns]"
      ]
     },
     "execution_count": 8,
     "metadata": {},
     "output_type": "execute_result"
    }
   ],
   "source": [
    "import pandas as pd\n",
    "df = pd.DataFrame(data.items(), columns=['File', 'Text'])\n",
    "df"
   ]
  },
  {
   "cell_type": "code",
   "execution_count": 6,
   "metadata": {},
   "outputs": [],
   "source": [
    "def keyword_yake(text):\n",
    "    extractor = pke.unsupervised.YAKE()\n",
    "    stoplist = stopwords.get('english')\n",
    "    extractor.load_document(input=text,\n",
    "                            language='en',\n",
    "                            stoplist=stoplist,\n",
    "                            normalization=None)\n",
    "    extractor.candidate_selection(n=3)\n",
    "    window = 2\n",
    "    use_stems = False\n",
    "    extractor.candidate_weighting(window=window,\n",
    "                                use_stems=use_stems)\n",
    "    threshold = 0.8\n",
    "    keyphrases = extractor.get_n_best(n=10, threshold=threshold)\n",
    "    keyphrases = [keyphrase for keyphrase, score in keyphrases]\n",
    "    return keyphrases"
   ]
  },
  {
   "cell_type": "code",
   "execution_count": 12,
   "metadata": {},
   "outputs": [],
   "source": [
    "import spacy\n",
    "def extract_metadata(text):\n",
    "    nlp1 = spacy.load(R\"custom_ner/output/model-best\")\n",
    "    doc = nlp1(text)\n",
    "    tags = []\n",
    "    label_dict = {}\n",
    "    for ent in doc.ents:\n",
    "        tags.append(ent.text)\n",
    "        if ent.label_ not in label_dict:\n",
    "            label_dict[ent.label_] = [ent.text]\n",
    "        else:\n",
    "            label_dict[ent.label_].append(ent.text)\n",
    "    return label_dict"
   ]
  },
  {
   "cell_type": "code",
   "execution_count": 8,
   "metadata": {},
   "outputs": [],
   "source": [
    "def date_extraction(text):\n",
    "    # Updated regex pattern\n",
    "    pattern = r'(\\b(?:January|February|March|April|May|June|July|August|September|October|November|December)\\s+\\d{1,2},?\\s+\\d{4}\\b|\\b(?:Jan|Feb|Mar|Apr|May|Jun|Jul|Aug|Sep|Oct|Nov|Dec)\\s+\\d{1,2},?\\s+\\d{4}\\b|\\b\\d{1,2}\\s+(?:January|February|March|April|May|June|July|August|September|October|November|December)\\s+\\d{4}\\b|\\b\\d{1,2}\\s+(?:Jan|Feb|Mar|Apr|May|Jun|Jul|Aug|Sep|Oct|Nov|Dec)\\s+\\d{4}\\b)'\n",
    "    dates = re.findall(pattern, text)\n",
    "    return dates"
   ]
  },
  {
   "cell_type": "code",
   "execution_count": 9,
   "metadata": {},
   "outputs": [],
   "source": [
    "def get_uniqueset(df):\n",
    "    for i in range(len(df)):\n",
    "        for col in df.columns:\n",
    "            try:\n",
    "                df[col][i] = list(set(df[col][i]))\n",
    "            except:\n",
    "                pass\n",
    "    return df   "
   ]
  },
  {
   "cell_type": "code",
   "execution_count": 13,
   "metadata": {},
   "outputs": [],
   "source": [
    "def metadata_extract(df):\n",
    "    metadata = pd.DataFrame()\n",
    "    # initialize keyphrase extraction model, here YAKE\n",
    "    keywords = df['Text'].apply(lambda x: keyword_yake(x))\n",
    "    # keyword = [x[0] for x in keywords]\n",
    "    # NER Metadata Generation\n",
    "    labels = df['Text'].apply(lambda x: extract_metadata(x))\n",
    "    metadata['Keywords'] = keywords\n",
    "    metadata['Person'] = labels.apply(lambda x: x.get('Person'))\n",
    "    metadata['Organization'] = labels.apply(lambda x: x.get('Organization'))\n",
    "    metadata['Money'] = labels.apply(lambda x: x.get('Money'))\n",
    "    metadata['Contact_Number'] = labels.apply(lambda x: x.get('Contact_Number'))\n",
    "    metadata['Email Id'] = labels.apply(lambda x: x.get('Email Id'))\n",
    "    metadata['Date'] = df['Text'].apply(lambda x: date_extraction(x))\n",
    "    metadata = get_uniqueset(metadata)\n",
    "    return metadata"
   ]
  },
  {
   "cell_type": "code",
   "execution_count": 15,
   "metadata": {},
   "outputs": [],
   "source": [
    "metadata = metadata_extract(df)"
   ]
  },
  {
   "cell_type": "code",
   "execution_count": 34,
   "metadata": {},
   "outputs": [],
   "source": [
    "metadata.to_csv('metadata.csv', index=False)"
   ]
  }
 ],
 "metadata": {
  "kernelspec": {
   "display_name": "majorproject",
   "language": "python",
   "name": "python3"
  },
  "language_info": {
   "codemirror_mode": {
    "name": "ipython",
    "version": 3
   },
   "file_extension": ".py",
   "mimetype": "text/x-python",
   "name": "python",
   "nbconvert_exporter": "python",
   "pygments_lexer": "ipython3",
   "version": "3.10.0"
  }
 },
 "nbformat": 4,
 "nbformat_minor": 2
}
