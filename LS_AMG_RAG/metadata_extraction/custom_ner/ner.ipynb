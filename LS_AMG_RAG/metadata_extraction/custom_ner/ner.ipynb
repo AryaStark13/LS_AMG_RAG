{
 "cells": [
  {
   "cell_type": "code",
   "execution_count": 1,
   "metadata": {},
   "outputs": [
    {
     "name": "stderr",
     "output_type": "stream",
     "text": [
      "[nltk_data] Downloading package averaged_perceptron_tagger to\n",
      "[nltk_data]     C:\\Users\\JAINAM\\AppData\\Roaming\\nltk_data...\n",
      "[nltk_data]   Package averaged_perceptron_tagger is already up-to-\n",
      "[nltk_data]       date!\n",
      "[nltk_data] Downloading package punkt to\n",
      "[nltk_data]     C:\\Users\\JAINAM\\AppData\\Roaming\\nltk_data...\n",
      "[nltk_data]   Package punkt is already up-to-date!\n",
      "[nltk_data] Downloading package maxent_ne_chunker to\n",
      "[nltk_data]     C:\\Users\\JAINAM\\AppData\\Roaming\\nltk_data...\n",
      "[nltk_data]   Package maxent_ne_chunker is already up-to-date!\n",
      "[nltk_data] Downloading package words to\n",
      "[nltk_data]     C:\\Users\\JAINAM\\AppData\\Roaming\\nltk_data...\n",
      "[nltk_data]   Package words is already up-to-date!\n"
     ]
    },
    {
     "data": {
      "text/plain": [
       "True"
      ]
     },
     "execution_count": 1,
     "metadata": {},
     "output_type": "execute_result"
    }
   ],
   "source": [
    "import nltk\n",
    "from nltk import sent_tokenize, word_tokenize, pos_tag, ne_chunk\n",
    "nltk.download('averaged_perceptron_tagger')\n",
    "nltk.download('punkt')\n",
    "nltk.download('maxent_ne_chunker')\n",
    "nltk.download('words')"
   ]
  },
  {
   "cell_type": "markdown",
   "metadata": {},
   "source": [
    "### NER using NLTK"
   ]
  },
  {
   "cell_type": "code",
   "execution_count": 10,
   "metadata": {},
   "outputs": [],
   "source": [
    "import markdown\n",
    "\n",
    "# Read the contents of the .md file\n",
    "with open('../../data/hr_docs_filled/employee_contracts/employee_contract_Ava Thomas.md', 'rb') as f:\n",
    "    md_text = f.read()\n",
    "\n",
    "# Convert the markdown text to HTML\n",
    "text = markdown.markdown(md_text)"
   ]
  },
  {
   "cell_type": "code",
   "execution_count": 11,
   "metadata": {},
   "outputs": [],
   "source": [
    "sentences = sent_tokenize(text)\n",
    "words = [word_tokenize(sentence) for sentence in sentences]"
   ]
  },
  {
   "cell_type": "code",
   "execution_count": 12,
   "metadata": {},
   "outputs": [],
   "source": [
    "pos_tags = [pos_tag(sentence) for sentence in words]"
   ]
  },
  {
   "cell_type": "code",
   "execution_count": 13,
   "metadata": {},
   "outputs": [],
   "source": [
    "named_entities = [ne_chunk(tagged_sentence) for tagged_sentence in pos_tags]"
   ]
  },
  {
   "cell_type": "code",
   "execution_count": 14,
   "metadata": {},
   "outputs": [
    {
     "data": {
      "text/plain": [
       "[Tree('S', [('<', 'JJ'), ('p', 'NN'), ('>', 'NNP'), (\"b'\\\\r\\\\n\", 'NN'), ('#', '#'), ('Employment', 'NNP'), ('Contract\\\\r\\\\n\\\\r\\\\n', 'NNP'), ('#', '#'), ('#', '#'), ('Employee', 'NNP'), ('Information', 'NN'), (':', ':'), ('\\\\r\\\\n-', 'JJ'), ('<', 'NN'), ('strong', 'JJ'), ('>', 'NNP'), ('Employee', 'NNP'), ('Name', 'NN'), (':', ':'), ('<', 'NN'), ('/strong', 'IN'), ('>', 'JJ'), ('Ava', 'NNP'), ('Thomas\\\\r\\\\n-', 'NNP'), ('<', 'NNP'), ('strong', 'JJ'), ('>', 'JJ'), ('Position', 'NN'), (':', ':'), ('<', 'NN'), ('/strong', 'IN'), ('>', 'JJ'), Tree('ORGANIZATION', [('Administrative', 'JJ')]), ('Assistant\\\\r\\\\n-', 'NNP'), ('<', 'NNP'), ('strong', 'JJ'), ('>', 'NNP'), ('Department', 'NNP'), (':', ':'), ('<', 'NN'), ('/strong', 'IN'), ('>', 'NNP'), ('Administration\\\\r\\\\n\\\\r\\\\n', 'NNP'), ('#', '#'), ('#', '#'), ('Terms', 'NNS'), ('and', 'CC'), ('Conditions', 'NNS'), (':', ':'), ('\\\\r\\\\n-', 'JJ'), ('<', 'NN'), ('strong', 'JJ'), ('>', 'JJ'), ('Responsibilities', 'NNS'), (':', ':'), ('<', 'NN'), ('/strong', 'IN'), ('>', 'JJ'), ('Providing', 'VBG'), ('administrative', 'JJ'), ('support', 'NN'), ('to', 'TO'), ('the', 'DT'), ('team.\\\\r\\\\n-', 'JJ'), ('<', 'NN'), ('strong', 'JJ'), ('>', 'JJ'), ('Compensation', 'NN'), (':', ':'), ('<', 'NN'), ('/strong', 'IN'), ('>', 'JJ'), ('$', '$'), ('65,000', 'CD'), ('per', 'IN'), ('year\\\\r\\\\n-', 'NN'), ('<', 'NN'), ('strong', 'JJ'), ('>', 'JJ'), ('Benefits', 'NNS'), (':', ':'), ('<', 'NN'), ('/strong', 'NNP'), ('>', 'NNP'), ('Health', 'NNP'), ('insurance', 'NN'), (',', ','), ('retirement', 'NN'), ('plan\\\\r\\\\n-', 'JJ'), ('<', 'NNP'), ('strong', 'JJ'), ('>', 'NNP'), ('Work', 'NNP'), ('Hours', 'NNP'), (':', ':'), ('<', 'NN'), ('/strong', 'NNP'), ('>', 'VBZ'), ('40', 'CD'), ('hours', 'NNS'), ('per', 'IN'), ('week\\\\r\\\\n-', 'JJ'), ('<', 'NN'), ('strong', 'JJ'), ('>', 'JJ'), ('Termination', 'NN'), ('Conditions', 'NNS'), (':', ':'), ('<', 'NN'), ('/strong', 'NNP'), ('>', 'VBZ'), ('30', 'CD'), ('days\\\\', 'NN'), (\"'\", 'POS'), ('notice\\\\r\\\\n-', 'JJ'), ('<', 'NN'), ('strong', 'JJ'), ('>', 'JJ'), Tree('ORGANIZATION', [('Confidentiality', 'NNP')]), ('Agreement', 'NNP'), (':', ':'), ('<', 'NN'), ('/strong', 'JJ'), ('>', 'JJ'), ('Yes\\\\r\\\\n-', 'JJ'), ('<', 'NN'), ('strong', 'JJ'), ('>', 'NNP'), ('Intellectual', 'NNP'), ('Property', 'NNP'), ('Rights', 'NNS'), (':', ':'), ('<', 'NN'), ('/strong', 'JJ'), ('>', 'JJ'), ('Company-owned\\\\r\\\\n-', 'NNP'), ('<', 'NNP'), ('strong', 'JJ'), ('>', 'NN'), ('Compliance', 'NN'), ('with', 'IN'), Tree('ORGANIZATION', [('Company', 'NNP')]), ('Policies', 'NNPS'), (':', ':'), ('<', 'NN'), ('/strong', 'IN'), ('>', 'JJ'), Tree('ORGANIZATION', [('Compliance', 'NNP')]), ('required\\\\r\\\\n\\\\r\\\\nThis', 'NN'), ('employment', 'NN'), ('contract', 'NN'), ('is', 'VBZ'), ('entered', 'VBN'), ('into', 'IN'), ('between', 'IN'), Tree('GPE', [('Instagram', 'NNP')]), ('(', '('), ('hereinafter', 'NN'), ('referred', 'VBN'), ('to', 'TO'), ('as', 'IN'), ('``', '``'), ('Employer', 'NNP'), (\"''\", \"''\"), (')', ')'), ('and', 'CC'), Tree('PERSON', [('Ava', 'NNP'), ('Thomas', 'NNP')]), ('(', '('), ('hereinafter', 'NN'), ('referred', 'VBN'), ('to', 'TO'), ('as', 'IN'), ('``', '``'), ('Employee', 'NNP'), (\"''\", \"''\"), (')', ')'), ('on', 'IN'), ('October', 'NNP'), ('1', 'CD'), (',', ','), ('2022.\\\\r\\\\n\\\\r\\\\nThis', 'CD'), ('contract', 'NN'), ('outlines', 'VBZ'), ('the', 'DT'), ('terms', 'NNS'), ('and', 'CC'), ('conditions', 'NNS'), ('of', 'IN'), ('employment', 'NN'), ('for', 'IN'), ('the', 'DT'), Tree('ORGANIZATION', [('Employee', 'NNP')]), ('and', 'CC'), ('is', 'VBZ'), ('effective', 'JJ'), ('as', 'IN'), ('of', 'IN'), ('the', 'DT'), ('start', 'NN'), ('date', 'NN'), ('of', 'IN'), ('October', 'NNP'), ('1', 'CD'), (',', ','), ('2022', 'CD'), ('.', '.')]),\n",
       " Tree('S', [('Both', 'DT'), ('the', 'DT'), Tree('ORGANIZATION', [('Employer', 'NNP')]), ('and', 'CC'), ('Employee', 'NNP'), ('agree', 'VBP'), ('to', 'TO'), ('abide', 'VB'), ('by', 'IN'), ('the', 'DT'), ('terms', 'NNS'), ('set', 'VBD'), ('forth', 'NN'), ('in', 'IN'), ('this', 'DT'), ('contract.\\\\r\\\\n', 'NN'), (\"'\", \"''\"), ('<', 'JJ'), ('/p', 'NNP'), ('>', 'NN')])]"
      ]
     },
     "execution_count": 14,
     "metadata": {},
     "output_type": "execute_result"
    }
   ],
   "source": [
    "named_entities"
   ]
  },
  {
   "cell_type": "code",
   "execution_count": 15,
   "metadata": {},
   "outputs": [
    {
     "name": "stdout",
     "output_type": "stream",
     "text": [
      "Entity: Administrative, Type: ORGANIZATION\n",
      "Entity: Confidentiality, Type: ORGANIZATION\n",
      "Entity: Company, Type: ORGANIZATION\n",
      "Entity: Compliance, Type: ORGANIZATION\n",
      "Entity: Instagram, Type: GPE\n",
      "Entity: Ava Thomas, Type: PERSON\n",
      "Entity: Employee, Type: ORGANIZATION\n",
      "Entity: Employer, Type: ORGANIZATION\n"
     ]
    }
   ],
   "source": [
    "for ne_tree in named_entities:\n",
    "    for subtree in ne_tree:\n",
    "        if type(subtree) == nltk.Tree:\n",
    "            entity = \" \".join([token for token, pos in subtree.leaves()])\n",
    "            entity_type = subtree.label()\n",
    "            print(f\"Entity: {entity}, Type: {entity_type}\")"
   ]
  },
  {
   "cell_type": "markdown",
   "metadata": {},
   "source": [
    "### NER Using Spacy"
   ]
  },
  {
   "cell_type": "code",
   "execution_count": 16,
   "metadata": {},
   "outputs": [],
   "source": [
    "import spacy\n",
    "from spacy import displacy\n",
    "from collections import Counter\n",
    "import en_core_web_sm\n",
    "nlp = en_core_web_sm.load()"
   ]
  },
  {
   "cell_type": "code",
   "execution_count": 17,
   "metadata": {},
   "outputs": [
    {
     "name": "stdout",
     "output_type": "stream",
     "text": [
      "[('#', 'CARDINAL'),\n",
      " ('##', 'MONEY'),\n",
      " ('## Terms', 'MONEY'),\n",
      " ('65,000', 'MONEY'),\n",
      " ('Hours:</strong', 'GPE'),\n",
      " ('40 hours', 'TIME'),\n",
      " ('30', 'CARDINAL'),\n",
      " ('Intellectual Property', 'PERSON'),\n",
      " ('Ava Thomas', 'PERSON'),\n",
      " ('October 1', 'DATE'),\n",
      " ('Employee', 'PRODUCT'),\n",
      " ('the start date of', 'DATE'),\n",
      " ('October 1, 2022', 'DATE'),\n",
      " ('Employer', 'LOC')]\n"
     ]
    }
   ],
   "source": [
    "from pprint import pprint\n",
    "doc = nlp(text)\n",
    "pprint([(X.text, X.label_) for X in doc.ents])"
   ]
  },
  {
   "cell_type": "code",
   "execution_count": 18,
   "metadata": {},
   "outputs": [],
   "source": [
    "def entity_recognition(location):\n",
    "    with open(location, 'rb') as f:\n",
    "        md_text = f.read()\n",
    "    text = markdown.markdown(md_text)\n",
    "    doc = nlp(text)\n",
    "    return [(X.text, X.label_) for X in doc.ents]"
   ]
  },
  {
   "cell_type": "code",
   "execution_count": 20,
   "metadata": {},
   "outputs": [
    {
     "data": {
      "text/plain": [
       "[('### Company Name', 'MONEY'),\n",
       " ('### Category', 'MONEY'),\n",
       " ('### Document', 'MONEY'),\n",
       " ('####', 'MONEY'),\n",
       " ('Target Audience:</strong>\\\\r\\\\n- Small', 'ORG'),\n",
       " ('campaigns.\\\\r\\\\n- Drive', 'FAC'),\n",
       " ('20,000', 'MONEY'),\n",
       " ('Budget', 'ORG'),\n",
       " ('3-month', 'DATE'),\n",
       " ('Monthly', 'DATE'),\n",
       " ('Monthly', 'DATE'),\n",
       " ('####', 'MONEY'),\n",
       " ('Identification', 'ORG'),\n",
       " ('Target Audience:</strong>\\\\r\\\\n- Fashion', 'ORG'),\n",
       " ('partnerships.\\\\r\\\\n- Brands', 'ORG'),\n",
       " ('metrics.\\\\r\\\\n- Co-creation', 'PERSON'),\n",
       " ('15,000', 'MONEY'),\n",
       " ('Influencer', 'PERSON'),\n",
       " ('2-month', 'DATE'),\n",
       " ('engagement.\\\\r\\\\n\\\\r\\\\n', 'PERSON'),\n",
       " ('####', 'MONEY'),\n",
       " ('Strategies:</strong>\\\\r\\\\n- Tailored', 'ORG'),\n",
       " ('insights.\\\\r\\\\n- Implementing', 'PERSON')]"
      ]
     },
     "execution_count": 20,
     "metadata": {},
     "output_type": "execute_result"
    }
   ],
   "source": [
    "\n",
    "entity_recognition('../../data/business_docs/Marketing Plan.md')"
   ]
  },
  {
   "cell_type": "code",
   "execution_count": 21,
   "metadata": {},
   "outputs": [
    {
     "data": {
      "text/plain": [
       "[('### Company Name', 'MONEY'),\n",
       " ('### Category', 'MONEY'),\n",
       " ('####', 'MONEY'),\n",
       " ('Social Media Marketing Services</strong>\\\\r\\\\n\\\\r\\\\n', 'ORG'),\n",
       " ('Problem Statement:</strong>\\\\r\\\\nMany', 'PERSON'),\n",
       " ('####', 'MONEY'),\n",
       " ('Instagram', 'ORG'),\n",
       " ('engagement.\\\\r\\\\n\\\\r\\\\n', 'PERSON'),\n",
       " ('####', 'MONEY'),\n",
       " ('3', 'CARDINAL'),\n",
       " ('Instagram', 'ORG'),\n",
       " ('engagement.\\\\r\\\\n\\\\r\\\\n', 'PERSON')]"
      ]
     },
     "execution_count": 21,
     "metadata": {},
     "output_type": "execute_result"
    }
   ],
   "source": [
    "entity_recognition('../../data/business_docs/Business Proposal.md')"
   ]
  },
  {
   "cell_type": "code",
   "execution_count": 22,
   "metadata": {},
   "outputs": [
    {
     "data": {
      "text/plain": [
       "[('Board of Directors\\\\r\\\\n\\\\r\\\\nThe Board of Directors', 'ORG'),\n",
       " ('Instagram.\\\\r\\\\n\\\\r\\\\n## Board Composition\\\\r\\\\n\\\\r\\\\nThe Board of Directors of Instagram',\n",
       "  'ORG'),\n",
       " ('members:\\\\r\\\\n\\\\r\\\\n1', 'LOC'),\n",
       " ('John Smith</strong>', 'PERSON'),\n",
       " ('Board', 'ORG'),\n",
       " ('John Smith', 'PERSON'),\n",
       " ('20 years', 'DATE'),\n",
       " ('Board', 'ORG'),\n",
       " ('2015', 'DATE'),\n",
       " ('Instagram', 'ORG'),\n",
       " ('Sarah Johnson</strong', 'PERSON'),\n",
       " ('Sarah Johnson', 'PERSON'),\n",
       " ('Sarah', 'PERSON'),\n",
       " ('Instagram', 'GPE'),\n",
       " ('David Lee</strong', 'PERSON'),\n",
       " ('David Lee', 'PERSON'),\n",
       " ('David', 'PERSON'),\n",
       " ('Emily Davis', 'PERSON'),\n",
       " ('Instagram', 'ORG'),\n",
       " ('## Contributions', 'MONEY'),\n",
       " ('Instagram', 'ORG'),\n",
       " ('the years', 'DATE'),\n",
       " ('Guiding Instagram', 'ORG'),\n",
       " ('Stories', 'ORG'),\n",
       " ('Reels', 'PRODUCT'),\n",
       " ('Instagram', 'ORG'),\n",
       " ('over 1 billion', 'MONEY'),\n",
       " ('monthly', 'DATE'),\n",
       " ('globally.\\\\r\\\\n\\\\r\\\\nThe Board of Directors', 'ORG'),\n",
       " ('Instagram', 'ORG'),\n",
       " ('## Contact', 'MONEY'),\n",
       " ('the Board of Directors', 'ORG')]"
      ]
     },
     "execution_count": 22,
     "metadata": {},
     "output_type": "execute_result"
    }
   ],
   "source": [
    "entity_recognition('../../data/company_bylaws/Board of Directors.md')"
   ]
  },
  {
   "cell_type": "code",
   "execution_count": 23,
   "metadata": {},
   "outputs": [
    {
     "data": {
      "text/plain": [
       "32"
      ]
     },
     "execution_count": 23,
     "metadata": {},
     "output_type": "execute_result"
    }
   ],
   "source": [
    "with open('../../data/company_bylaws/Board of Directors.md', 'rb') as f:\n",
    "        md_text = f.read()\n",
    "text = markdown.markdown(md_text)\n",
    "article = nlp(text)\n",
    "len(article.ents)"
   ]
  },
  {
   "cell_type": "code",
   "execution_count": 24,
   "metadata": {},
   "outputs": [
    {
     "data": {
      "text/plain": [
       "Counter({'ORG': 13,\n",
       "         'PERSON': 9,\n",
       "         'DATE': 4,\n",
       "         'MONEY': 3,\n",
       "         'LOC': 1,\n",
       "         'GPE': 1,\n",
       "         'PRODUCT': 1})"
      ]
     },
     "execution_count": 24,
     "metadata": {},
     "output_type": "execute_result"
    }
   ],
   "source": [
    "labels = [x.label_ for x in article.ents]\n",
    "Counter(labels)"
   ]
  },
  {
   "cell_type": "code",
   "execution_count": 25,
   "metadata": {},
   "outputs": [
    {
     "data": {
      "text/plain": [
       "[('Instagram', 6),\n",
       " ('Board', 2),\n",
       " ('Board of Directors\\\\r\\\\n\\\\r\\\\nThe Board of Directors', 1)]"
      ]
     },
     "execution_count": 25,
     "metadata": {},
     "output_type": "execute_result"
    }
   ],
   "source": [
    "items = [x.text for x in article.ents]\n",
    "Counter(items).most_common(3)"
   ]
  },
  {
   "cell_type": "code",
   "execution_count": 28,
   "metadata": {},
   "outputs": [
    {
     "name": "stdout",
     "output_type": "stream",
     "text": [
      "Sarah Johnson</strong> - CEO, Instagram<br>\\r\\n   Sarah Johnson is the Chief Executive Officer of Instagram, responsible for driving the company's overall growth and success.\n"
     ]
    }
   ],
   "source": [
    "sentences = [x for x in article.sents]\n",
    "print(sentences[6])"
   ]
  },
  {
   "cell_type": "code",
   "execution_count": 29,
   "metadata": {},
   "outputs": [
    {
     "data": {
      "text/html": [
       "<span class=\"tex2jax_ignore\"><div class=\"entities\" style=\"line-height: 2.5; direction: ltr\">\n",
       "<mark class=\"entity\" style=\"background: #aa9cfc; padding: 0.45em 0.6em; margin: 0 0.25em; line-height: 1; border-radius: 0.35em;\">\n",
       "    Sarah Johnson&lt;/strong\n",
       "    <span style=\"font-size: 0.8em; font-weight: bold; line-height: 1; border-radius: 0.35em; vertical-align: middle; margin-left: 0.5rem\">PERSON</span>\n",
       "</mark>\n",
       "&gt; - CEO, Instagram&lt;br&gt;\\r\\n   \n",
       "<mark class=\"entity\" style=\"background: #aa9cfc; padding: 0.45em 0.6em; margin: 0 0.25em; line-height: 1; border-radius: 0.35em;\">\n",
       "    Sarah Johnson\n",
       "    <span style=\"font-size: 0.8em; font-weight: bold; line-height: 1; border-radius: 0.35em; vertical-align: middle; margin-left: 0.5rem\">PERSON</span>\n",
       "</mark>\n",
       " is the Chief Executive Officer of Instagram, responsible for driving the company's overall growth and success.</div></span>"
      ],
      "text/plain": [
       "<IPython.core.display.HTML object>"
      ]
     },
     "metadata": {},
     "output_type": "display_data"
    }
   ],
   "source": [
    "displacy.render(nlp(str(sentences[6])), jupyter=True, style='ent')"
   ]
  },
  {
   "cell_type": "markdown",
   "metadata": {},
   "source": [
    "### Custom NER model using Spacy"
   ]
  },
  {
   "cell_type": "code",
   "execution_count": 1,
   "metadata": {},
   "outputs": [],
   "source": [
    "l = [(\"This Employee Payslip is issued to Emily Brown for the pay period from April 1, 2022 to April 15, 2022. It provides a detailed breakdown of earnings, deductions, and the net pay for the specified period.\",{\"entities\":[(35,46,\"Person\")]}),\n",
    "(\"Net Pay: $3,930.00 \",{\"entities\":[(9,18,\"Money\")]}),\n",
    "(\"Net Pay: \",{\"entities\":[]}),\n",
    "(\"Total Deductions: $1,170.00 \",{\"entities\":[(18,27,\"Money\")]}),\n",
    "(\"Other Deductions: $90.00 \",{\"entities\":[(18,24,\"Money\")]}),\n",
    "(\"Insurance Contributions: $180.00 \",{\"entities\":[(25,32,\"Money\")]}),\n",
    "(\"Taxes: $900.00 \",{\"entities\":[(7,14,\"Money\")]}),\n",
    "(\"Deductions: \",{\"entities\":[]}),\n",
    "(\"Total Earnings: $5,100.00 \",{\"entities\":[(16,25,\"Money\")]}),\n",
    "(\"Bonuses: $900.00 \",{\"entities\":[(9,16,\"Money\")]}),\n",
    "(\"Allowances: $450.00 \",{\"entities\":[(12,19,\"Money\")]}),\n",
    "(\"Basic Salary: $3,750.00 \",{\"entities\":[(14,23,\"Money\")]}),\n",
    "(\"Earnings: \",{\"entities\":[]}),\n",
    "(\"End Date: April 15, 2022 \",{\"entities\":[]}),\n",
    "(\"Start Date: April 1, 2022 \",{\"entities\":[]}),\n",
    "(\"Pay Period: \",{\"entities\":[]}),\n",
    "(\"Department: Design \",{\"entities\":[]}),\n",
    "(\"Position: UX Designer \",{\"entities\":[]}),\n",
    "(\"Employee ID: 12348 \",{\"entities\":[]}),\n",
    "(\"Employee Name: Emily Brown \",{\"entities\":[(15,26,\"Person\")]}),\n",
    "(\"Employee Information: \",{\"entities\":[]}),\n",
    "(\"Employee Payslip \",{\"entities\":[]}),\n",
    "(\"This contract outlines the terms and conditions of employment for the Employee and is effective as of the start date of February 1, 2022. Both the Employer and Employee agree to abide by the terms set forth in this contract.\",{\"entities\":[]}),\n",
    "(\" \",{\"entities\":[]}),\n",
    "(\"This employment contract is entered into between Instagram (hereinafter referred to as Employer) and Jane Smith (hereinafter referred to as Employee) on February 1, 2022. \",{\"entities\":[(49,58,\"Organization\"),(101,111,\"Person\")]}),\n",
    "(\"Compliance with Company Policies: Compliance required \",{\"entities\":[]}),\n",
    "(\"Intellectual Property Rights: Company-owned \",{\"entities\":[]}),\n",
    "(\"Confidentiality Agreement: Yes \",{\"entities\":[]}),\n",
    "(\"Termination Conditions: 30 days' notice \",{\"entities\":[]}),\n",
    "(\"Work Hours: 40 hours per week \",{\"entities\":[]}),\n",
    "(\"Benefits: Health insurance, retirement plan \",{\"entities\":[]}),\n",
    "(\"Compensation: $80,000 per year \",{\"entities\":[(14,30,\"Money\")]}),\n",
    "(\"Responsibilities: Developing and executing marketing campaigns. \",{\"entities\":[]}),\n",
    "(\"Terms and Conditions: \",{\"entities\":[]}),\n",
    "(\"Department: Marketing \",{\"entities\":[]}),\n",
    "(\"Position: Marketing Specialist \",{\"entities\":[]}),\n",
    "(\"Employee Name: Jane Smith \",{\"entities\":[(15,25,\"Person\")]}),\n",
    "(\"Employee Information: \",{\"entities\":[]}),\n",
    "(\"Employment Contract \",{\"entities\":[]}),\n",
    "(\"Total Liabilities and Shareholders' Equity $450,000\",{\"entities\":[(43,51,\"Money\")]}),\n",
    "(\"Retained Earnings $200,000 \",{\"entities\":[(18,26,\"Money\")]}),\n",
    "(\"Common Stock $100,000 \",{\"entities\":[(13,21,\"Money\")]}),\n",
    "(\"Shareholders' Equity \",{\"entities\":[]}),\n",
    "(\"Bonds Payable $50,000 \",{\"entities\":[(14,21,\"Money\")]}),\n",
    "(\"Long-term Loans $100,000 \",{\"entities\":[(16,24,\"Money\")]}),\n",
    "(\"Non-Current Liabilities $150,000 \",{\"entities\":[(24,32,\"Money\")]}),\n",
    "(\"Short-term Loans $50,000 \",{\"entities\":[(17,24,\"Money\")]}),\n",
    "(\"Accounts Payable $50,000 \",{\"entities\":[(17,24,\"Money\")]}),\n",
    "(\"Current Liabilities $100,000 \",{\"entities\":[(20,28,\"Money\")]}),\n",
    "(\"Liabilities \",{\"entities\":[]}),\n",
    "(\"Total Assets $450,000 \",{\"entities\":[(13,21,\"Money\")]}),\n",
    "(\"Intangible Assets $50,000 \",{\"entities\":[(18,25,\"Money\")]}),\n",
    "(\"Property, Plant, and Equipment $150,000 \",{\"entities\":[(31,39,\"Money\")]}),\n",
    "(\"Non-Current Assets $200,000 \",{\"entities\":[(19,27,\"Money\")]}),\n",
    "(\"Prepaid Expenses $50,000 \",{\"entities\":[(17,24,\"Money\")]}),\n",
    "(\"Inventory $50,000 \",{\"entities\":[(10,17,\"Money\")]}),\n",
    "(\"Accounts Receivable $100,000 \",{\"entities\":[(20,28,\"Money\")]}),\n",
    "(\"Cash $50,000 \",{\"entities\":[(5,12,\"Money\")]}),\n",
    "(\"Current Assets $250,000 \",{\"entities\":[(15,23,\"Money\")]}),\n",
    "(\"Assets \",{\"entities\":[]}),\n",
    "(\"Category Amount \",{\"entities\":[]}),\n",
    "(\" \",{\"entities\":[]}),\n",
    "(\"As of Date: December 31, 20XX \",{\"entities\":[]}),\n",
    "(\" \",{\"entities\":[]}),\n",
    "(\"Company Name: XYZ Corporation \",{\"entities\":[(14,29,\"Organization\")]}),\n",
    "(\"Balance Sheet \",{\"entities\":[]}),\n",
    "(\"Email: shareholders@instagram.com Phone: +1-123-456-7890\",{\"entities\":[(7,33,\"Email Id\"),(41,56,\"Contact_Number\")]}),\n",
    "(\" \",{\"entities\":[]}),\n",
    "(\"For any inquiries or further information about our shareholders, please feel free to contact us. \",{\"entities\":[]}),\n",
    "(\" \",{\"entities\":[]}),\n",
    "(\"Please note that the information provided above is for informational purposes only and is subject to change. \",{\"entities\":[]}),\n",
    "(\" \",{\"entities\":[]}),\n",
    "(\"The exact shareholdings of individual shareholders are confidential and not publicly disclosed. Instagram's ownership structure is governed by the agreements and regulations established during its acquisition by Facebook Inc. \",{\"entities\":[(212,225,\"Organization\")]}),\n",
    "(\"Shareholdings \",{\"entities\":[]}),\n",
    "(\" \",{\"entities\":[]}),\n",
    "(\"David Lee - David Lee, the Chief Financial Officer of Instagram, holds a significant share in the company. His financial expertise has played a vital role in ensuring the financial stability and growth of Instagram. \",{\"entities\":[(0,9,\"Person\"),(12,21,\"Person\"),(54,63,\"Organization\"),(205,214,\"Organization\")]}),\n",
    "(\" \",{\"entities\":[]}),\n",
    "(\"John Smith - John Smith, the Chairman of the Board of Instagram, is also a major shareholder. With his extensive experience in the technology industry, he has contributed to the strategic guidance and success of Instagram. \",{\"entities\":[(13,23,\"Person\"),(0,10,\"Person\"),(54,63,\"Organization\")]}),\n",
    "(\" \",{\"entities\":[]}),\n",
    "(\"Sarah Johnson - Sarah Johnson, the CEO of Instagram, holds a significant stake in the company. Her leadership and vision have been invaluable in shaping Instagram's direction and growth. \",{\"entities\":[(0,13,\"Person\"),(16,29,\"Person\"),(42,51,\"Organization\")]}),\n",
    "(\" \",{\"entities\":[]}),\n",
    "(\"Facebook Inc. - As the parent company, Facebook Inc. holds 100% of the shares of Instagram. Facebook Inc. is a global technology company with a diverse portfolio of platforms and services. \",{\"entities\":[(0,13,\"Organization\"),(39,52,\"Organization\"),(81,90,\"Organization\"),(92,104,\"Organization\")]}),\n",
    "(\" \",{\"entities\":[]}),\n",
    "(\"The major shareholders of Instagram are individuals and entities who have a significant ownership stake in the company. Their contributions and support have been instrumental in the growth and success of the platform. The following are some of our major shareholders: \",{\"entities\":[]}),\n",
    "(\"Major Shareholders \",{\"entities\":[]}),\n",
    "(\" \",{\"entities\":[]}),\n",
    "(\"Instagram is a private company and is currently wholly owned by Facebook Inc. Since its acquisition by Facebook in 2012, Instagram has operated as a separate entity but benefits from the resources and support of its parent company. \",{\"entities\":[(0,9,\"Organization\"),(64,77,\"Organization\"),(103,111,\"Organization\"),(121,130,\"Organization\")]}),\n",
    "(\"Ownership Structure \",{\"entities\":[]}),\n",
    "(\" \",{\"entities\":[]}),\n",
    "(\"This page provides information about the shareholders of Instagram. We believe in transparency and want to establish trust with our community by sharing details about our ownership structure and the individuals or entities that hold shares in our company. \",{\"entities\":[(57,66,\"Organization\")]}),\n",
    "(\"Shareholders \",{\"entities\":[]}),\n",
    "(\"Email: boardofdirectors@instagram.com Phone: +1-123-456-7890\",{\"entities\":[(7,37,\"Email Id\"),(45,60,\"Contact_Number\")]}),\n",
    "(\" \",{\"entities\":[]}),\n",
    "(\"For any inquiries or feedback regarding the Board of Directors, please contact us: \",{\"entities\":[]}),\n",
    "(\"Contact Information \",{\"entities\":[]}),\n",
    "(\" \",{\"entities\":[]}),\n",
    "(\"The Board of Directors remains committed to driving Instagram's growth, fostering innovation, and maintaining a vibrant and inclusive community for users worldwide. \",{\"entities\":[]}),\n",
    "(\"Overseeing the expansion of Instagram's user base to over 1 billion monthly active users worldwide, making it one of the most popular social media platforms globally. \",{\"entities\":[(28,37,\"Organization\")]}),\n",
    "(\"Supporting the launch of various initiatives to foster a safe and inclusive community, such as proactive content moderation practices and the promotion of positive online behavior. \",{\"entities\":[]}),\n",
    "(\"Providing strategic guidance in the development and introduction of new features such as Stories, IGTV, and Reels, which have revolutionized content sharing and engagement on the platform. \",{\"entities\":[]}),\n",
    "(\"Guiding Instagram through its acquisition by Facebook and ensuring the preservation of its unique identity and features. \",{\"entities\":[(8,17,\"Organization\"),(45,53,\"Organization\")]}),\n",
    "(\" \",{\"entities\":[]}),\n",
    "(\"The Board of Directors has played a crucial role in Instagram's success and achievements over the years. Some of their notable contributions include: \",{\"entities\":[]}),\n",
    "(\"Contributions and Achievements \",{\"entities\":[]}),\n",
    "(\" \",{\"entities\":[]}),\n",
    "(\"Emily Davis is the Chief Marketing Officer at Instagram, overseeing all marketing and branding initiatives. With her innovative marketing strategies and deep understanding of consumer behavior, Emily has played a key role in expanding Instagram's user base and increasing brand awareness. \",{\"entities\":[(0,11,\"Person\"),(46,55,\"Organization\"),(194,199,\"Person\")]}),\n",
    "(\"Emily Davis - Chief Marketing Officer \",{\"entities\":[(0,11,\"Person\")]}),\n",
    "(\" \",{\"entities\":[]}),\n",
    "(\"David Lee brings extensive financial expertise to the board. As the CFO of Instagram, he is responsible for financial planning, analysis, and strategic investments. David's financial acumen has been instrumental in ensuring the company's financial stability and sustainable growth. \",{\"entities\":[(0,9,\"Person\"),(75,84,\"Organization\")]}),\n",
    "(\"David Lee - Chief Financial Officer \",{\"entities\":[(0,9,\"Person\")]}),\n",
    "(\" \",{\"entities\":[]}),\n",
    "(\"Sarah Johnson is the Chief Executive Officer of Instagram, responsible for driving the company's overall growth and success. With her strong leadership skills and deep understanding of social media platforms, Sarah has played a pivotal role in Instagram's evolution. \",{\"entities\":[(0,13,\"Person\"),(45,57,\"Organization\"),(209,214,\"Person\"),(244,253,\"Organization\")]}),\n",
    "(\"Sarah Johnson - CEO, Instagram \",{\"entities\":[(0,13,\"Person\"),(21,30,\"Organization\")]}),\n",
    "(\" \",{\"entities\":[]}),\n",
    "(\"John Smith is an accomplished business leader with over 20 years of experience in the technology industry. He has served as the Chairman of the Board since 2015 and has been instrumental in shaping Instagram's strategic vision. \",{\"entities\":[(0,10,\"Person\")]}),\n",
    "(\"John Smith - Chairman of the Board \",{\"entities\":[(0,10,\"Person\")]}),\n",
    "(\" \",{\"entities\":[]}),\n",
    "(\"The Board of Directors of Instagram is composed of the following members: \",{\"entities\":[]}),\n",
    "(\"Board Composition \",{\"entities\":[]}),\n",
    "(\" \",{\"entities\":[]}),\n",
    "(\"The Board of Directors of Instagram consists of highly experienced professionals who provide strategic guidance and oversight to ensure the success and growth of the company. The board members bring diverse expertise and perspectives to the table, contributing to the overall vision and direction of Instagram. \",{\"entities\":[(26,35,\"Organization\")]}),\n",
    "(\"Board of Directors \",{\"entities\":[]}),\n",
    "(\"Contact Information: For inquiries and to explore influencer collaboration opportunities, please reach out to our team at partnerships@instagram.com. \",{\"entities\":[(122,148,\"Email Id\")]}),\n",
    "(\" \",{\"entities\":[]}),\n",
    "(\"Timeline: Each influencer collaboration campaign will be meticulously planned and executed to align with your brand objectives, with regular performance reviews and optimizations throughout the partnership. \",{\"entities\":[]}),\n",
    "(\" \",{\"entities\":[]}),\n",
    "(\"Terms and Conditions: A comprehensive agreement will outline the terms of collaboration, including influencer selection criteria, content approvals, compensation details, and exclusivity clauses for mutual benefit and clarity. \",{\"entities\":[]}),\n",
    "(\" \",{\"entities\":[]}),\n",
    "(\"Pricing: Our pricing model for influencer collaborations is transparent and based on factors such as influencer reach, engagement rates, content requirements, and campaign duration. \",{\"entities\":[]}),\n",
    "(\" \",{\"entities\":[]}),\n",
    "(\"Proposed Solution: Our influencer collaboration services involve influencer discovery, outreach, negotiation, campaign management, and performance analysis to ensure successful partnerships that resonate with your brand values. \",{\"entities\":[]}),\n",
    "(\" \",{\"entities\":[]}),\n",
    "(\"Problem Statement: Identifying and engaging the right influencers for brand partnerships can be a daunting task for many businesses, leading to missed opportunities for authentic promotion and audience engagement. \",{\"entities\":[]}),\n",
    "(\" \",{\"entities\":[]}),\n",
    "(\"Company Overview: As a pioneer in visual content sharing, Instagram has established itself as a hub for influencer marketing collaborations, offering brands a platform to amplify their voice and connect with their target audience. \",{\"entities\":[(58,67,\"Organization\")]}),\n",
    "(\" \",{\"entities\":[]}),\n",
    "(\"Executive Summary: Instagram presents a unique opportunity for brands to collaborate with influencers and leverage their reach and credibility to drive brand awareness and engagement. Our influencer collaboration services aim to connect brands with relevant influencers for impactful partnerships. \",{\"entities\":[]}),\n",
    "(\"Business Proposal 2: Influencer Collaboration Services \",{\"entities\":[]}),\n",
    "(\" \",{\"entities\":[]}),\n",
    "(\"Contact Information: For inquiries and further discussion on our social media marketing services, please contact our dedicated team at business@instagram.com. \",{\"entities\":[(135,157,\"Email Id\")]}),\n",
    "(\" \",{\"entities\":[]}),\n",
    "(\"Timeline: The implementation of social media marketing services will be orchestrated in phases, with measurable goals and milestones outlined for each stage of the campaign. \",{\"entities\":[]}),\n",
    "(\" \",{\"entities\":[]}),\n",
    "(\"Terms and Conditions: Terms of engagement include a detailed service agreement outlining deliverables, timelines, reporting mechanisms, and confidentiality clauses for a transparent partnership. \",{\"entities\":[]}),\n",
    "(\" \",{\"entities\":[]}),\n",
    "(\"Pricing: Our pricing structure is flexible and customized based on the scope of services required. We offer competitive rates to cater to businesses of all sizes. \",{\"entities\":[]}),\n",
    "(\" \",{\"entities\":[]}),\n",
    "(\"Proposed Solution: Our social media marketing services encompass strategic content creation, optimized ad campaigns, targeted audience analysis, and performance tracking to ensure impactful results for your brand. \",{\"entities\":[]}),\n",
    "(\" \",{\"entities\":[]}),\n",
    "(\"Problem Statement: Many businesses struggle to effectively utilize social media for brand promotion and customer interaction, leading to missed opportunities for growth and visibility. \",{\"entities\":[]}),\n",
    "(\" \",{\"entities\":[]}),\n",
    "(\"Company Overview: Instagram, a leader in social media platforms, leverages its expertise and innovative tools to deliver impactful marketing solutions. Our focus on visual content and community engagement sets us apart in the industry. \",{\"entities\":[(18,27,\"Organization\")]}),\n",
    "(\" \",{\"entities\":[]}),\n",
    "(\"Executive Summary: Instagram offers comprehensive social media marketing services tailored to enhance brand presence and engagement. With a team of experienced digital marketers, we aim to elevate your social media strategy and maximize audience reach. \",{\"entities\":[(19,28,\"Organization\")]}),\n",
    "(\"Business Proposal 1: Social Media Marketing Services \",{\"entities\":[]}),\n",
    "(\"Category of Document: Business Proposal \",{\"entities\":[]}),\n",
    "(\"Company Name: Instagram \",{\"entities\":[(14,23,\"Organization\")]}),]"
   ]
  },
  {
   "cell_type": "code",
   "execution_count": 2,
   "metadata": {},
   "outputs": [],
   "source": [
    "with open('TRAIN_DATA.txt', 'w') as fp:\n",
    "    for item in l:\n",
    "        fp.write(f\"{item}\\n\")"
   ]
  },
  {
   "cell_type": "code",
   "execution_count": 3,
   "metadata": {},
   "outputs": [],
   "source": [
    "import csv\n",
    "with open('TRAIN_DATA_NER.csv', 'w', newline='') as file:\n",
    "    writer = csv.writer(file)\n",
    "    writer.writerow(l)"
   ]
  },
  {
   "cell_type": "code",
   "execution_count": 4,
   "metadata": {},
   "outputs": [
    {
     "name": "stdout",
     "output_type": "stream",
     "text": [
      "This Employee Payslip is issued to Emily Brown for the pay period from April 1, 2022 to April 15, 2022. It provides a detailed breakdown of earnings, deductions, and the net pay for the specified period.\n",
      "Annot: \n",
      "{'entities': [(35, 46, 'Person')]}\n"
     ]
    }
   ],
   "source": [
    "for text, annot in l:\n",
    "    print(text)\n",
    "    print(\"Annot: \")\n",
    "    print(annot)\n",
    "    break"
   ]
  },
  {
   "cell_type": "code",
   "execution_count": 21,
   "metadata": {},
   "outputs": [
    {
     "name": "stderr",
     "output_type": "stream",
     "text": [
      "100%|██████████| 128/128 [00:00<00:00, 1661.97it/s]\n"
     ]
    }
   ],
   "source": [
    "import spacy\n",
    "from spacy.tokens import DocBin\n",
    "from tqdm import tqdm\n",
    "nlp = spacy.blank(\"en\")\n",
    "db = DocBin() \n",
    "for text, annot in tqdm(l):\n",
    "    doc = nlp.make_doc(text)\n",
    "    ents = []\n",
    "    for start, end, label in annot[\"entities\"]:\n",
    "        span = doc.char_span(start, end, label=label, alignment_mode=\"contract\")\n",
    "        if span is None:\n",
    "            print(\"Skipping entity\")\n",
    "        else:\n",
    "            ents.append(span)\n",
    "    try:\n",
    "        doc.ents = ents \n",
    "        db.add(doc)\n",
    "    except:\n",
    "        print(text, annot)\n",
    "db.to_disk(\"train.spacy\")"
   ]
  },
  {
   "cell_type": "code",
   "execution_count": 1,
   "metadata": {},
   "outputs": [],
   "source": [
    "import spacy"
   ]
  },
  {
   "cell_type": "code",
   "execution_count": 2,
   "metadata": {},
   "outputs": [
    {
     "data": {
      "text/html": [
       "<span class=\"tex2jax_ignore\"><div class=\"entities\" style=\"line-height: 2.5; direction: ltr\"><br>Board of Directors<br>The Board of Directors of \n",
       "<mark class=\"entity\" style=\"background: #ddd; padding: 0.45em 0.6em; margin: 0 0.25em; line-height: 1; border-radius: 0.35em;\">\n",
       "    Instagram\n",
       "    <span style=\"font-size: 0.8em; font-weight: bold; line-height: 1; border-radius: 0.35em; vertical-align: middle; margin-left: 0.5rem\">Organization</span>\n",
       "</mark>\n",
       " consists of highly experienced professionals who provide strategic guidance and oversight to ensure the success and growth of the company. The board members bring diverse expertise and perspectives to the table, contributing to the overall vision and direction of Instagram.<br><br>Board Composition<br>The Board of Directors of Instagram is composed of the following members:<br><br>\n",
       "<mark class=\"entity\" style=\"background: #aa9cfc; padding: 0.45em 0.6em; margin: 0 0.25em; line-height: 1; border-radius: 0.35em;\">\n",
       "    John Smith\n",
       "    <span style=\"font-size: 0.8em; font-weight: bold; line-height: 1; border-radius: 0.35em; vertical-align: middle; margin-left: 0.5rem\">Person</span>\n",
       "</mark>\n",
       " - Chairman of the Board<br>\n",
       "<mark class=\"entity\" style=\"background: #aa9cfc; padding: 0.45em 0.6em; margin: 0 0.25em; line-height: 1; border-radius: 0.35em;\">\n",
       "    John Smith\n",
       "    <span style=\"font-size: 0.8em; font-weight: bold; line-height: 1; border-radius: 0.35em; vertical-align: middle; margin-left: 0.5rem\">Person</span>\n",
       "</mark>\n",
       " is an accomplished business leader with over 20 years of experience in the technology industry. He has served as the Chairman of the Board since 2015 and has been instrumental in shaping Instagram's strategic vision.<br><br>\n",
       "<mark class=\"entity\" style=\"background: #aa9cfc; padding: 0.45em 0.6em; margin: 0 0.25em; line-height: 1; border-radius: 0.35em;\">\n",
       "    Sarah Johnson\n",
       "    <span style=\"font-size: 0.8em; font-weight: bold; line-height: 1; border-radius: 0.35em; vertical-align: middle; margin-left: 0.5rem\">Person</span>\n",
       "</mark>\n",
       " - CEO, \n",
       "<mark class=\"entity\" style=\"background: #ddd; padding: 0.45em 0.6em; margin: 0 0.25em; line-height: 1; border-radius: 0.35em;\">\n",
       "    Instagram\n",
       "    <span style=\"font-size: 0.8em; font-weight: bold; line-height: 1; border-radius: 0.35em; vertical-align: middle; margin-left: 0.5rem\">Organization</span>\n",
       "</mark>\n",
       "<br>\n",
       "<mark class=\"entity\" style=\"background: #aa9cfc; padding: 0.45em 0.6em; margin: 0 0.25em; line-height: 1; border-radius: 0.35em;\">\n",
       "    Sarah Johnson\n",
       "    <span style=\"font-size: 0.8em; font-weight: bold; line-height: 1; border-radius: 0.35em; vertical-align: middle; margin-left: 0.5rem\">Person</span>\n",
       "</mark>\n",
       " is the Chief Executive Officer \n",
       "<mark class=\"entity\" style=\"background: #ddd; padding: 0.45em 0.6em; margin: 0 0.25em; line-height: 1; border-radius: 0.35em;\">\n",
       "    of Instagram\n",
       "    <span style=\"font-size: 0.8em; font-weight: bold; line-height: 1; border-radius: 0.35em; vertical-align: middle; margin-left: 0.5rem\">Organization</span>\n",
       "</mark>\n",
       ", responsible for driving the company's overall growth and success. With her strong leadership skills and deep understanding of social media platforms, \n",
       "<mark class=\"entity\" style=\"background: #aa9cfc; padding: 0.45em 0.6em; margin: 0 0.25em; line-height: 1; border-radius: 0.35em;\">\n",
       "    Sarah\n",
       "    <span style=\"font-size: 0.8em; font-weight: bold; line-height: 1; border-radius: 0.35em; vertical-align: middle; margin-left: 0.5rem\">Person</span>\n",
       "</mark>\n",
       " has played a pivotal role in \n",
       "<mark class=\"entity\" style=\"background: #ddd; padding: 0.45em 0.6em; margin: 0 0.25em; line-height: 1; border-radius: 0.35em;\">\n",
       "    Instagram\n",
       "    <span style=\"font-size: 0.8em; font-weight: bold; line-height: 1; border-radius: 0.35em; vertical-align: middle; margin-left: 0.5rem\">Organization</span>\n",
       "</mark>\n",
       "'s evolution.<br><br>\n",
       "<mark class=\"entity\" style=\"background: #aa9cfc; padding: 0.45em 0.6em; margin: 0 0.25em; line-height: 1; border-radius: 0.35em;\">\n",
       "    David Lee\n",
       "    <span style=\"font-size: 0.8em; font-weight: bold; line-height: 1; border-radius: 0.35em; vertical-align: middle; margin-left: 0.5rem\">Person</span>\n",
       "</mark>\n",
       " - Chief Financial Officer<br>\n",
       "<mark class=\"entity\" style=\"background: #aa9cfc; padding: 0.45em 0.6em; margin: 0 0.25em; line-height: 1; border-radius: 0.35em;\">\n",
       "    David Lee\n",
       "    <span style=\"font-size: 0.8em; font-weight: bold; line-height: 1; border-radius: 0.35em; vertical-align: middle; margin-left: 0.5rem\">Person</span>\n",
       "</mark>\n",
       " brings extensive financial expertise to the board. As the CFO of \n",
       "<mark class=\"entity\" style=\"background: #ddd; padding: 0.45em 0.6em; margin: 0 0.25em; line-height: 1; border-radius: 0.35em;\">\n",
       "    Instagram\n",
       "    <span style=\"font-size: 0.8em; font-weight: bold; line-height: 1; border-radius: 0.35em; vertical-align: middle; margin-left: 0.5rem\">Organization</span>\n",
       "</mark>\n",
       ", he is responsible for financial planning, analysis, and strategic investments. David's financial acumen has been instrumental in ensuring the company's financial stability and sustainable growth.<br><br>\n",
       "<mark class=\"entity\" style=\"background: #aa9cfc; padding: 0.45em 0.6em; margin: 0 0.25em; line-height: 1; border-radius: 0.35em;\">\n",
       "    Emily Davis\n",
       "    <span style=\"font-size: 0.8em; font-weight: bold; line-height: 1; border-radius: 0.35em; vertical-align: middle; margin-left: 0.5rem\">Person</span>\n",
       "</mark>\n",
       " - Chief Marketing Officer<br>\n",
       "<mark class=\"entity\" style=\"background: #aa9cfc; padding: 0.45em 0.6em; margin: 0 0.25em; line-height: 1; border-radius: 0.35em;\">\n",
       "    Emily Davis\n",
       "    <span style=\"font-size: 0.8em; font-weight: bold; line-height: 1; border-radius: 0.35em; vertical-align: middle; margin-left: 0.5rem\">Person</span>\n",
       "</mark>\n",
       " is the Chief Marketing Officer at \n",
       "<mark class=\"entity\" style=\"background: #ddd; padding: 0.45em 0.6em; margin: 0 0.25em; line-height: 1; border-radius: 0.35em;\">\n",
       "    Instagram\n",
       "    <span style=\"font-size: 0.8em; font-weight: bold; line-height: 1; border-radius: 0.35em; vertical-align: middle; margin-left: 0.5rem\">Organization</span>\n",
       "</mark>\n",
       ", overseeing all marketing and branding initiatives. With her innovative marketing strategies and deep understanding of consumer behavior, \n",
       "<mark class=\"entity\" style=\"background: #aa9cfc; padding: 0.45em 0.6em; margin: 0 0.25em; line-height: 1; border-radius: 0.35em;\">\n",
       "    Emily\n",
       "    <span style=\"font-size: 0.8em; font-weight: bold; line-height: 1; border-radius: 0.35em; vertical-align: middle; margin-left: 0.5rem\">Person</span>\n",
       "</mark>\n",
       " has played a key role in expanding Instagram's user base and increasing brand awareness.<br><br>Contributions and Achievements<br>The Board of Directors has played a crucial role in Instagram's success and achievements over the years. Some of their notable contributions include:<br><br>Guiding \n",
       "<mark class=\"entity\" style=\"background: #ddd; padding: 0.45em 0.6em; margin: 0 0.25em; line-height: 1; border-radius: 0.35em;\">\n",
       "    Instagram\n",
       "    <span style=\"font-size: 0.8em; font-weight: bold; line-height: 1; border-radius: 0.35em; vertical-align: middle; margin-left: 0.5rem\">Organization</span>\n",
       "</mark>\n",
       " through its acquisition by \n",
       "<mark class=\"entity\" style=\"background: #ddd; padding: 0.45em 0.6em; margin: 0 0.25em; line-height: 1; border-radius: 0.35em;\">\n",
       "    Facebook\n",
       "    <span style=\"font-size: 0.8em; font-weight: bold; line-height: 1; border-radius: 0.35em; vertical-align: middle; margin-left: 0.5rem\">Organization</span>\n",
       "</mark>\n",
       " and ensuring the preservation of its unique identity and features.<br>Providing strategic guidance in the development and introduction of new features such as Stories, IGTV, and Reels, which have revolutionized content sharing and engagement on the platform.<br>Supporting the launch of various initiatives to foster a safe and inclusive community, such as proactive content moderation practices and the promotion of positive online behavior.<br>Overseeing the expansion of \n",
       "<mark class=\"entity\" style=\"background: #ddd; padding: 0.45em 0.6em; margin: 0 0.25em; line-height: 1; border-radius: 0.35em;\">\n",
       "    Instagram\n",
       "    <span style=\"font-size: 0.8em; font-weight: bold; line-height: 1; border-radius: 0.35em; vertical-align: middle; margin-left: 0.5rem\">Organization</span>\n",
       "</mark>\n",
       "'s user base to over 1 billion monthly active users worldwide, making it one of the most popular social media platforms globally.<br>The Board of Directors remains committed to driving Instagram's growth, fostering innovation, and maintaining a vibrant and inclusive community for users worldwide.<br><br>Contact Information<br>For any inquiries or feedback regarding the Board of Directors, please contact us:<br><br>Email: \n",
       "<mark class=\"entity\" style=\"background: #ddd; padding: 0.45em 0.6em; margin: 0 0.25em; line-height: 1; border-radius: 0.35em;\">\n",
       "    boardofdirectors@instagram.com\n",
       "    <span style=\"font-size: 0.8em; font-weight: bold; line-height: 1; border-radius: 0.35em; vertical-align: middle; margin-left: 0.5rem\">Email Id</span>\n",
       "</mark>\n",
       " Phone: \n",
       "<mark class=\"entity\" style=\"background: #ddd; padding: 0.45em 0.6em; margin: 0 0.25em; line-height: 1; border-radius: 0.35em;\">\n",
       "    +1-123-456-7890\n",
       "    <span style=\"font-size: 0.8em; font-weight: bold; line-height: 1; border-radius: 0.35em; vertical-align: middle; margin-left: 0.5rem\">Contact_Number</span>\n",
       "</mark>\n",
       "<br></div></span>"
      ],
      "text/plain": [
       "<IPython.core.display.HTML object>"
      ]
     },
     "metadata": {},
     "output_type": "display_data"
    }
   ],
   "source": [
    "nlp1 = spacy.load(R\"../output/model-best\") #load the best model\n",
    "doc = nlp1(\"\"\"\n",
    "Board of Directors\n",
    "The Board of Directors of Instagram consists of highly experienced professionals who provide strategic guidance and oversight to ensure the success and growth of the company. The board members bring diverse expertise and perspectives to the table, contributing to the overall vision and direction of Instagram.\n",
    "\n",
    "Board Composition\n",
    "The Board of Directors of Instagram is composed of the following members:\n",
    "\n",
    "John Smith - Chairman of the Board\n",
    "John Smith is an accomplished business leader with over 20 years of experience in the technology industry. He has served as the Chairman of the Board since 2015 and has been instrumental in shaping Instagram's strategic vision.\n",
    "\n",
    "Sarah Johnson - CEO, Instagram\n",
    "Sarah Johnson is the Chief Executive Officer of Instagram, responsible for driving the company's overall growth and success. With her strong leadership skills and deep understanding of social media platforms, Sarah has played a pivotal role in Instagram's evolution.\n",
    "\n",
    "David Lee - Chief Financial Officer\n",
    "David Lee brings extensive financial expertise to the board. As the CFO of Instagram, he is responsible for financial planning, analysis, and strategic investments. David's financial acumen has been instrumental in ensuring the company's financial stability and sustainable growth.\n",
    "\n",
    "Emily Davis - Chief Marketing Officer\n",
    "Emily Davis is the Chief Marketing Officer at Instagram, overseeing all marketing and branding initiatives. With her innovative marketing strategies and deep understanding of consumer behavior, Emily has played a key role in expanding Instagram's user base and increasing brand awareness.\n",
    "\n",
    "Contributions and Achievements\n",
    "The Board of Directors has played a crucial role in Instagram's success and achievements over the years. Some of their notable contributions include:\n",
    "\n",
    "Guiding Instagram through its acquisition by Facebook and ensuring the preservation of its unique identity and features.\n",
    "Providing strategic guidance in the development and introduction of new features such as Stories, IGTV, and Reels, which have revolutionized content sharing and engagement on the platform.\n",
    "Supporting the launch of various initiatives to foster a safe and inclusive community, such as proactive content moderation practices and the promotion of positive online behavior.\n",
    "Overseeing the expansion of Instagram's user base to over 1 billion monthly active users worldwide, making it one of the most popular social media platforms globally.\n",
    "The Board of Directors remains committed to driving Instagram's growth, fostering innovation, and maintaining a vibrant and inclusive community for users worldwide.\n",
    "\n",
    "Contact Information\n",
    "For any inquiries or feedback regarding the Board of Directors, please contact us:\n",
    "\n",
    "Email: boardofdirectors@instagram.com Phone: +1-123-456-7890\n",
    "\"\"\") # input sample text\n",
    "\n",
    "spacy.displacy.render(doc, style=\"ent\", jupyter=True)"
   ]
  },
  {
   "cell_type": "code",
   "execution_count": null,
   "metadata": {},
   "outputs": [],
   "source": []
  }
 ],
 "metadata": {
  "kernelspec": {
   "display_name": "majorproject",
   "language": "python",
   "name": "python3"
  },
  "language_info": {
   "codemirror_mode": {
    "name": "ipython",
    "version": 3
   },
   "file_extension": ".py",
   "mimetype": "text/x-python",
   "name": "python",
   "nbconvert_exporter": "python",
   "pygments_lexer": "ipython3",
   "version": "3.9.7"
  }
 },
 "nbformat": 4,
 "nbformat_minor": 2
}
