{
 "cells": [
  {
   "cell_type": "code",
   "execution_count": 1,
   "metadata": {},
   "outputs": [],
   "source": [
    "from langchain_community.utilities import DuckDuckGoSearchAPIWrapper\n",
    "from langchain_core.output_parsers import StrOutputParser\n",
    "from langchain_core.prompts import ChatPromptTemplate\n",
    "from langchain_core.runnables import RunnablePassthrough"
   ]
  },
  {
   "cell_type": "code",
   "execution_count": 2,
   "metadata": {},
   "outputs": [
    {
     "data": {
      "text/plain": [
       "<module 'LS_AMG_RAG.prompt_utils' from 'D:\\\\MajorProject\\\\Repo\\\\LS_AMG_RAG\\\\LS_AMG_RAG\\\\prompt_utils.py'>"
      ]
     },
     "execution_count": 2,
     "metadata": {},
     "output_type": "execute_result"
    }
   ],
   "source": [
    "from IPython.display import display, Markdown\n",
    "import importlib\n",
    "import json\n",
    "\n",
    "utils = importlib.import_module(\"LS_AMG_RAG.utils\", package=\"LS_AMG_RAG\")\n",
    "importlib.reload(utils)\n",
    "prompt_utils = importlib.import_module(\"LS_AMG_RAG.prompt_utils\", package=\"LS_AMG_RAG\")\n",
    "importlib.reload(prompt_utils)"
   ]
  },
  {
   "cell_type": "code",
   "execution_count": 1,
   "metadata": {},
   "outputs": [],
   "source": [
    "from IPython.display import display, Markdown\n",
    "import os\n",
    "from LS_AMG_RAG.data_snythesis import prompt_utils\n",
    "import google.generativeai as palm\n",
    "\n",
    "import chromadb\n",
    "import chromadb.utils.embedding_functions as embedding_functions\n",
    "# chroma_client = chromadb.Client()\n",
    "chroma_client = chromadb.PersistentClient(path=\"./\")\n",
    "gemini = prompt_utils.Gemini()\n",
    "google_ef  = embedding_functions.GoogleGenerativeAiEmbeddingFunction(api_key=os.environ['GEMINI_API_KEY'])"
   ]
  },
  {
   "cell_type": "code",
   "execution_count": 2,
   "metadata": {},
   "outputs": [],
   "source": [
    "collection = chroma_client.get_or_create_collection(name=\"my_collection\", embedding_function=google_ef)"
   ]
  },
  {
   "cell_type": "code",
   "execution_count": 3,
   "metadata": {},
   "outputs": [],
   "source": [
    "documents = []\n",
    "metadata = []\n",
    "ids = []\n",
    "# for idx, file_name in enumerate(os.listdir(\"../data/business_docs\")):\n",
    "#     with open(f\"../data/business_docs/{file_name}\", \"r\") as f:\n",
    "#         file_contents = f.read()\n",
    "#         documents.append(file_contents)\n",
    "#         metadata.append({\n",
    "#             \"type\": \"business document\",\n",
    "#         })\n",
    "#         ids.append(f\"business_doc_{idx}\")\n",
    "\n",
    "# add all files within the 'data/' directory to chromadb using os.walk\n",
    "for root, dirs, files in os.walk(\"../data\"):\n",
    "    for file in files:\n",
    "        if file.endswith(\".md\"):\n",
    "            category = root.split('\\\\')[-1]\n",
    "            with open(os.path.join(root, file), \"r\") as f:\n",
    "                file_contents = f.read()\n",
    "                documents.append(file_contents)\n",
    "                metadata.append({\n",
    "                    \"type\": category,\n",
    "                })\n",
    "                ids.append(f\"{category}_{file}\")"
   ]
  },
  {
   "cell_type": "code",
   "execution_count": 4,
   "metadata": {},
   "outputs": [
    {
     "data": {
      "text/plain": [
       "74"
      ]
     },
     "execution_count": 4,
     "metadata": {},
     "output_type": "execute_result"
    }
   ],
   "source": [
    "len(documents)"
   ]
  },
  {
   "cell_type": "code",
   "execution_count": 5,
   "metadata": {},
   "outputs": [],
   "source": [
    "collection.add(\n",
    "    documents=documents,\n",
    "    metadatas=metadata,\n",
    "    ids=ids,\n",
    ")"
   ]
  },
  {
   "cell_type": "code",
   "execution_count": 19,
   "metadata": {},
   "outputs": [],
   "source": [
    "import time\n",
    "def generate_query(quer):\n",
    "    metaprompt = \"\"\"Please rewrite and enhance the given question to make it suitable for retrieving information from the reference document. Be comprehensive, and use your own knowledge base in addition to the information provided in the document. Make relevant assumptions and exercise your best judgment to answer the question.\n",
    "    QUESTION: '{query}'\n",
    "\n",
    "    ANSWER:\n",
    "    \"\"\"\n",
    "    start_time = time.time()\n",
    "    gemini_result = gemini.send_message(message=metaprompt.format(query=quer)).text\n",
    "    end_time = time.time()\n",
    "    total_end_time = time.time()\n",
    "    display(Markdown(gemini_result))\n",
    "    print(f\"Gemini time: {end_time - start_time} seconds\")\n",
    "    # print(f\"Total time: {total_end_time - total_start_time} seconds\")\n",
    "    return gemini_result"
   ]
  },
  {
   "cell_type": "code",
   "execution_count": 20,
   "metadata": {},
   "outputs": [],
   "source": [
    "def generate_responses(quer,collection):\n",
    "    total_start_time = time.time()\n",
    "    start_time = time.time()\n",
    "    results = collection.query(\n",
    "        query_texts=quer,\n",
    "        n_results=3\n",
    "    )\n",
    "    end_time = time.time()\n",
    "\n",
    "    print(f\"Document retrieved: {results['ids'][0][0]}\")\n",
    "\n",
    "    print(f\"Retrieval time: {end_time - start_time} seconds\")\n",
    "\n",
    "    metaprompt = \"\"\"You are a helpful and informative bot that answers questions using text from the reference document included below. \\\n",
    "    Be sure to respond in a complete sentence, being comprehensive, including all relevant background information. \\\n",
    "    However, you are talking to a non-technical audience, so be sure to break down complicated concepts and \\\n",
    "    strike a friendly and converstional tone. \\\n",
    "    Use your own knowledge base in addition to the information provided in the document to answer the question. \\\n",
    "    Make relevant assumptions and use your best judgement to answer the question. \\\n",
    "    QUESTION: '{query}'\n",
    "    PASSAGE: '{relevant_passage}'\n",
    "\n",
    "    ANSWER:\n",
    "    \"\"\"\n",
    "    start_time = time.time()\n",
    "    gemini_result = gemini.send_message(message=metaprompt.format(query=quer, relevant_passage=results['documents'][0][0])).text\n",
    "    end_time = time.time()\n",
    "    total_end_time = time.time()\n",
    "    display(Markdown(gemini_result))\n",
    "    print(f\"Gemini time: {end_time - start_time} seconds\")\n",
    "    print(f\"Total time: {total_end_time - total_start_time} seconds\")\n",
    "    return gemini_result"
   ]
  },
  {
   "cell_type": "code",
   "execution_count": 21,
   "metadata": {},
   "outputs": [],
   "source": [
    "def QueryRewriting(query,collection):\n",
    "    start_time = time.time()\n",
    "    result = generate_query(query)\n",
    "    response = generate_responses(result,collection)\n",
    "    total_end_time = time.time()\n",
    "    tim = total_end_time - start_time\n",
    "    print(f\"The total time overall by Query Writing is: {tim}\")\n",
    "    return response"
   ]
  },
  {
   "cell_type": "code",
   "execution_count": 23,
   "metadata": {},
   "outputs": [
    {
     "data": {
      "text/markdown": [
       "What are the key elements of Instagram's marketing plan, including its target audience, marketing objectives, strategies, tactics, and measurement metrics?"
      ],
      "text/plain": [
       "<IPython.core.display.Markdown object>"
      ]
     },
     "metadata": {},
     "output_type": "display_data"
    },
    {
     "name": "stdout",
     "output_type": "stream",
     "text": [
      "Gemini time: 2.7076053619384766 seconds\n",
      "Document retrieved: business_docs_Marketing Plan.md\n",
      "Retrieval time: 0.4200935363769531 seconds\n"
     ]
    },
    {
     "data": {
      "text/markdown": [
       "**Target Audience:** Instagram's marketing plan targets small businesses, startups, e-commerce ventures, and brands seeking to engage with a younger demographic through social media platforms.\n",
       "\n",
       "**Marketing Objectives:** Their primary objectives are to increase brand awareness and reach through targeted campaigns, drive customer engagement, and ultimately drive conversions for client businesses.\n",
       "\n",
       "**Strategies:** Instagram employs personalized social media marketing strategies tailored to each client's goals and industry trends. They utilize a combination of influencer collaborations, interactive content, and data-driven insights to optimize their marketing campaigns.\n",
       "\n",
       "**Tactics:** Their tactics include content creation and curation, paid advertising campaigns targeting specific audience segments, and regular performance tracking and analytics to measure campaign effectiveness.\n",
       "\n",
       "**Measurement Metrics:** Instagram's key performance indicators include website traffic, engagement rates, lead generation, and conversion metrics. They provide monthly reports to clients to review campaign progress and return on investment (ROI)."
      ],
      "text/plain": [
       "<IPython.core.display.Markdown object>"
      ]
     },
     "metadata": {},
     "output_type": "display_data"
    },
    {
     "name": "stdout",
     "output_type": "stream",
     "text": [
      "Gemini time: 5.898318529129028 seconds\n",
      "Total time: 6.3184120655059814 seconds\n",
      "The total time overall by Query Writing is: 9.029017925262451\n"
     ]
    }
   ],
   "source": [
    "response = QueryRewriting(\"Can you provide details about the marketing plan for Instagram?\",collection)"
   ]
  },
  {
   "cell_type": "code",
   "execution_count": 25,
   "metadata": {},
   "outputs": [],
   "source": [
    "queries = [\n",
    "    {'query':\"What is Instagram's current business proposal?\",\n",
    "     'filename':\"Business Proposal.md\"},\n",
    "    {'query':\"What is the marketing plan for Instagram?\",\n",
    "     'filename':\"Marketing Plan.md\"},\n",
    "    {'query':\"What information does the progress report of Instagram contain?\",    \n",
    "    'filename':\"Progress Report.md\"},\n",
    "    {'query':\"Who are the members of Instagram's board of directors?\",\n",
    "    'filename':\"Board of Directors.md\"},\n",
    "    {'query':\"What are the diversity and inclusion initiatives implemented by Instagram?\",\n",
    "     'filename':'Diversity, Equity, and Inclusion.md'},\n",
    "    {'query':\"What is the Marketing Objective for Influencer Collaboration Services?\",\n",
    "     'filename':'Marketing Plan.md'},\n",
    "    {'query':\"Who is the target audience of Content Creation and Curation Services?\",\n",
    "     'filename':'Progress Report.md'},\n",
    "    {'query':\"What is the financial update for the Reels Optimization Project?\",\n",
    "     'filename':'Progress Report.md'},\n",
    "    {'query':\"Give me details about the progress report of the Stories Upgrade project.\",\n",
    "     'filename':'Progress Report.md'},\n",
    "    {'query':\"Compare the progress report of the Feed Redesign and Stories Upgrade project and draw a conclusion on the information.\",\n",
    "     'filename':'Progress Report.md'},\n",
    "    {'query':\"List all the achievements of Instagram\",\n",
    "     'filename':'Progress Report.md'},\n",
    "    {'query':\"Compare the progress report of the Feed Redesign and Stories Upgrade project and draw a conclusion on the information.\",\n",
    "     'filename':'Progress Report.md'},\n",
    "    {'query':\"Compare the progress report of the Feed Redesign and Stories Upgrade project and draw a conclusion on the information.\",\n",
    "     'filename':'Progress Report.md'},\n",
    "    {'query':\"Compare the progress report of the Feed Redesign and Stories Upgrade project and draw a conclusion on the information.\",\n",
    "     'filename':'Progress Report.md'},\n",
    "    {'query':\"Compare the progress report of the Feed Redesign and Stories Upgrade project and draw a conclusion on the information.\",\n",
    "     'filename':'Progress Report.md'},\n",
    "    {'query':\"Compare the progress report of the Feed Redesign and Stories Upgrade project and draw a conclusion on the information.\",\n",
    "     'filename':'Progress Report.md'},\n",
    "    {'query':\"Compare the progress report of the Feed Redesign and Stories Upgrade project and draw a conclusion on the information.\",\n",
    "     'filename':'Progress Report.md'},\n",
    "    {'query':\"Compare the progress report of the Feed Redesign and Stories Upgrade project and draw a conclusion on the information.\",\n",
    "     'filename':'Progress Report.md'},\n",
    "    {'query':\"Compare the progress report of the Feed Redesign and Stories Upgrade project and draw a conclusion on the information.\",\n",
    "     'filename':'Progress Report.md'},\n",
    "    {'query':\"Compare the progress report of the Feed Redesign and Stories Upgrade project and draw a conclusion on the information.\",\n",
    "     'filename':'Progress Report.md'},\n",
    "\n",
    "]\n"
   ]
  },
  {
   "cell_type": "code",
   "execution_count": 26,
   "metadata": {},
   "outputs": [
    {
     "data": {
      "text/plain": [
       "[{'query': \"What is Instagram's current business proposal?\",\n",
       "  'filename': 'Business Proposal.md'},\n",
       " {'query': 'What is the marketing plan for Instagram?',\n",
       "  'filename': 'Marketing Plan.md'},\n",
       " {'query': 'What information does the progress report of Instagram contain?',\n",
       "  'filename': 'Progress Report.md'},\n",
       " {'query': \"Who are the members of Instagram's board of directors?\",\n",
       "  'filename': 'Board of Directors.md'},\n",
       " {'query': 'What are the diversity and inclusion initiatives implemented by Instagram?',\n",
       "  'filename': 'Diversity, Equity, and Inclusion.md'},\n",
       " {'query': 'What is the Marketing Objective for Influencer Collaboration Services?',\n",
       "  'filename': 'Marketing Plan.md'},\n",
       " {'query': 'Who is the target audience of Content Creation and Curation Services?',\n",
       "  'filename': 'Progress Report.md'},\n",
       " {'query': 'What is the financial update for the Reels Optimization Project?',\n",
       "  'filename': 'Progress Report.md'},\n",
       " {'query': 'Give me details about the progress report of the Stories Upgrade project.',\n",
       "  'filename': 'Progress Report.md'},\n",
       " {'query': 'Compare the progress report of the Feed Redesign and Stories Upgrade project and draw a conclusion on the information.',\n",
       "  'filename': 'Progress Report.md'}]"
      ]
     },
     "execution_count": 26,
     "metadata": {},
     "output_type": "execute_result"
    }
   ],
   "source": [
    "queries"
   ]
  },
  {
   "cell_type": "code",
   "execution_count": null,
   "metadata": {},
   "outputs": [],
   "source": []
  }
 ],
 "metadata": {
  "kernelspec": {
   "display_name": ".venv",
   "language": "python",
   "name": "python3"
  },
  "language_info": {
   "codemirror_mode": {
    "name": "ipython",
    "version": 3
   },
   "file_extension": ".py",
   "mimetype": "text/x-python",
   "name": "python",
   "nbconvert_exporter": "python",
   "pygments_lexer": "ipython3",
   "version": "3.10.0"
  }
 },
 "nbformat": 4,
 "nbformat_minor": 2
}
